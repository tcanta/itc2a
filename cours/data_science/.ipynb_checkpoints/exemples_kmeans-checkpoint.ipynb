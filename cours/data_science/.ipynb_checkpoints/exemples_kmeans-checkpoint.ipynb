{
 "cells": [
  {
   "attachments": {},
   "cell_type": "markdown",
   "metadata": {},
   "source": [
    "# Cours : Algorithme des $k$-moyennes"
   ]
  },
  {
   "attachments": {},
   "cell_type": "markdown",
   "metadata": {},
   "source": [
    "Nous allons classifier un ensemble de points issus de trois distributions gaussiennes (de paramètres différents), avec la méthode des $k$-moyennes:"
   ]
  },
  {
   "cell_type": "code",
   "execution_count": 62,
   "metadata": {},
   "outputs": [
    {
     "data": {
      "image/png": "[encoded data removed]",
      "text/plain": [
       "<Figure size 640x480 with 1 Axes>"
      ]
     },
     "metadata": {},
     "output_type": "display_data"
    }
   ],
   "source": [
    "import matplotlib.pyplot as plt\n",
    "import numpy as np\n",
    "import random as rd\n",
    "\n",
    "def points(n):\n",
    "    tX0 = np.random.multivariate_normal([4, 3], 5*np.eye(2), n) # points de classe 0\n",
    "    tX1 = np.random.multivariate_normal([-2, -1], 5*np.eye(2), n) # points de classe 1\n",
    "    tX2 = np.random.multivariate_normal([6, -1], 5*np.eye(2), n) # points de classe 2\n",
    "    X = np.vstack((tX0, tX1, tX2))\n",
    "    y = np.hstack((np.zeros(n), np.ones(n)))\n",
    "    return X, y\n",
    "\n",
    "X, y = points(100)\n",
    "plt.scatter(X[:,0], X[:,1]);\n",
    "\n",
    "k=3"
   ]
  },
  {
   "attachments": {},
   "cell_type": "markdown",
   "metadata": {},
   "source": [
    "## Algorithme des $k$ plus proches voisins"
   ]
  },
  {
   "cell_type": "code",
   "execution_count": 63,
   "metadata": {},
   "outputs": [],
   "source": [
    "def d(x, y):\n",
    "    s = 0\n",
    "    for i in range(len(x)):\n",
    "        s += (x[i] - y[i])**2\n",
    "    return s**.5"
   ]
  },
  {
   "cell_type": "code",
   "execution_count": 64,
   "metadata": {},
   "outputs": [],
   "source": [
    "def centre(indices):\n",
    "    c = [0]*len(X[0])\n",
    "    for i in indices:\n",
    "        for j in range(len(c)):\n",
    "            c[j] += X[i][j]\n",
    "    if len(indices) != 0:\n",
    "        for j in range(len(c)):\n",
    "            c[j] /= len(indices)\n",
    "    return c"
   ]
  },
  {
   "cell_type": "code",
   "execution_count": 65,
   "metadata": {},
   "outputs": [],
   "source": [
    "def calculer_centres(classes):\n",
    "    centres = []\n",
    "    for c in classes:\n",
    "        centres.append(centre(c))\n",
    "    return centres"
   ]
  },
  {
   "cell_type": "code",
   "execution_count": 66,
   "metadata": {},
   "outputs": [],
   "source": [
    "def plus_proche(x,centres):\n",
    "    L = [d(x,centres[i]) for i in range(len(centres))]\n",
    "    max_i=0\n",
    "    for i in range(len(L)):\n",
    "        if L[max_i] > L[i]:\n",
    "            max_i = i\n",
    "    return(max_i)"
   ]
  },
  {
   "cell_type": "code",
   "execution_count": 67,
   "metadata": {},
   "outputs": [],
   "source": [
    "def calculer_classes(X,centres):\n",
    "    classes = [[] for _ in range(len(centres))]\n",
    "    for x in X:\n",
    "        classes[plus_proche(x,centres)].append(x)\n",
    "    return classes"
   ]
  },
  {
   "cell_type": "code",
   "execution_count": 68,
   "metadata": {},
   "outputs": [],
   "source": [
    "def kmeans(X, centres):\n",
    "    classes = calculer_classes(X, centres)\n",
    "    nouveaux_centres = calculer_centres(classes)\n",
    "    if nouveaux_centres != centres:\n",
    "        return kmeans(X, nouveaux_centres)\n",
    "    else:\n",
    "        return classes"
   ]
  },
  {
   "cell_type": "code",
   "execution_count": 72,
   "metadata": {},
   "outputs": [
    {
     "ename": "IndexError",
     "evalue": "arrays used as indices must be of integer (or boolean) type",
     "output_type": "error",
     "traceback": [
      "\u001b[0;31m---------------------------------------------------------------------------\u001b[0m",
      "\u001b[0;31mIndexError\u001b[0m                                Traceback (most recent call last)",
      "Cell \u001b[0;32mIn[72], line 17\u001b[0m\n\u001b[1;32m     14\u001b[0m     \u001b[38;5;28;01mreturn\u001b[39;00m centres\n\u001b[1;32m     16\u001b[0m heuristique_centres(X,k)\n\u001b[0;32m---> 17\u001b[0m \u001b[43mkmeans\u001b[49m\u001b[43m(\u001b[49m\u001b[43mX\u001b[49m\u001b[43m,\u001b[49m\u001b[43mheuristique_centres\u001b[49m\u001b[43m(\u001b[49m\u001b[43mX\u001b[49m\u001b[43m,\u001b[49m\u001b[43mk\u001b[49m\u001b[43m)\u001b[49m\u001b[43m)\u001b[49m\n",
      "Cell \u001b[0;32mIn[68], line 3\u001b[0m, in \u001b[0;36mkmeans\u001b[0;34m(X, centres)\u001b[0m\n\u001b[1;32m      1\u001b[0m \u001b[38;5;28;01mdef\u001b[39;00m \u001b[38;5;21mkmeans\u001b[39m(X, centres):\n\u001b[1;32m      2\u001b[0m     classes \u001b[38;5;241m=\u001b[39m calculer_classes(X, centres)\n\u001b[0;32m----> 3\u001b[0m     nouveaux_centres \u001b[38;5;241m=\u001b[39m \u001b[43mcalculer_centres\u001b[49m\u001b[43m(\u001b[49m\u001b[43mclasses\u001b[49m\u001b[43m)\u001b[49m\n\u001b[1;32m      4\u001b[0m     \u001b[38;5;28;01mif\u001b[39;00m nouveaux_centres \u001b[38;5;241m!=\u001b[39m centres:\n\u001b[1;32m      5\u001b[0m         \u001b[38;5;28;01mreturn\u001b[39;00m kmeans(X, nouveaux_centres)\n",
      "Cell \u001b[0;32mIn[65], line 4\u001b[0m, in \u001b[0;36mcalculer_centres\u001b[0;34m(classes)\u001b[0m\n\u001b[1;32m      2\u001b[0m centres \u001b[38;5;241m=\u001b[39m []\n\u001b[1;32m      3\u001b[0m \u001b[38;5;28;01mfor\u001b[39;00m c \u001b[38;5;129;01min\u001b[39;00m classes:\n\u001b[0;32m----> 4\u001b[0m     centres\u001b[38;5;241m.\u001b[39mappend(\u001b[43mcentre\u001b[49m\u001b[43m(\u001b[49m\u001b[43mc\u001b[49m\u001b[43m)\u001b[49m)\n\u001b[1;32m      5\u001b[0m \u001b[38;5;28;01mreturn\u001b[39;00m centres\n",
      "Cell \u001b[0;32mIn[64], line 5\u001b[0m, in \u001b[0;36mcentre\u001b[0;34m(indices)\u001b[0m\n\u001b[1;32m      3\u001b[0m \u001b[38;5;28;01mfor\u001b[39;00m i \u001b[38;5;129;01min\u001b[39;00m indices:\n\u001b[1;32m      4\u001b[0m     \u001b[38;5;28;01mfor\u001b[39;00m j \u001b[38;5;129;01min\u001b[39;00m \u001b[38;5;28mrange\u001b[39m(\u001b[38;5;28mlen\u001b[39m(c)):\n\u001b[0;32m----> 5\u001b[0m         c[j] \u001b[38;5;241m+\u001b[39m\u001b[38;5;241m=\u001b[39m \u001b[43mX\u001b[49m\u001b[43m[\u001b[49m\u001b[43mi\u001b[49m\u001b[43m]\u001b[49m[j]\n\u001b[1;32m      6\u001b[0m \u001b[38;5;28;01mif\u001b[39;00m \u001b[38;5;28mlen\u001b[39m(indices) \u001b[38;5;241m!=\u001b[39m \u001b[38;5;241m0\u001b[39m:\n\u001b[1;32m      7\u001b[0m     \u001b[38;5;28;01mfor\u001b[39;00m j \u001b[38;5;129;01min\u001b[39;00m \u001b[38;5;28mrange\u001b[39m(\u001b[38;5;28mlen\u001b[39m(c)):\n",
      "\u001b[0;31mIndexError\u001b[0m: arrays used as indices must be of integer (or boolean) type"
     ]
    }
   ],
   "source": [
    "def heuristique_centres(X,k):\n",
    "    centres = [X[rd.randint(0,len(X)-1)]]\n",
    "    for k in range(k-1):        \n",
    "        max_x=X[0]\n",
    "        maxi=0\n",
    "        for x in X:\n",
    "            dist=0\n",
    "            for c in centres:\n",
    "                dist+= d(x,c)\n",
    "            if dist>maxi:\n",
    "                maxi=dist\n",
    "                max_x=x\n",
    "        centres.append(max_x)\n",
    "    return centres\n",
    "\n",
    "heuristique_centres(X,k)"
   ]
  },
  {
   "cell_type": "code",
   "execution_count": null,
   "metadata": {},
   "outputs": [],
   "source": [
    "def centres_aléatoires(k):\n",
    "    np.random.seed(1)\n",
    "    return np.random.rand(k, len(X[0])).tolist()"
   ]
  },
  {
   "cell_type": "code",
   "execution_count": null,
   "metadata": {},
   "outputs": [],
   "source": [
    "kmeans(X,centres_aleatoires(3))"
   ]
  },
  {
   "cell_type": "code",
   "execution_count": null,
   "metadata": {},
   "outputs": [],
   "source": [
    "kmeans(X,heuristique_centres(X,k))"
   ]
  },
  {
   "attachments": {},
   "cell_type": "markdown",
   "metadata": {},
   "source": [
    "## En utilisant sklearn\n",
    "\n",
    "`sklearn` donne le même résultat, mais est beaucoup plus rapide (tester avec $n = 10000$ points, par exemple) :"
   ]
  },
  {
   "cell_type": "code",
   "execution_count": null,
   "metadata": {},
   "outputs": [],
   "source": [
    "from sklearn.neighbors import KNeighborsClassifier\n",
    "neigh = KNeighborsClassifier(n_neighbors=5)\n",
    "neigh.fit(X_train, Y_train)\n",
    "neigh.score(X_test, Y_test)"
   ]
  }
 ],
 "metadata": {
  "celltoolbar": "Tags",
  "kernelspec": {
   "display_name": "Python 3 (ipykernel)",
   "language": "python",
   "name": "python3"
  },
  "language_info": {
   "codemirror_mode": {
    "name": "ipython",
    "version": 3
   },
   "file_extension": ".py",
   "mimetype": "text/x-python",
   "name": "python",
   "nbconvert_exporter": "python",
   "pygments_lexer": "ipython3",
   "version": "3.12.3"
  },
  "vscode": {
   "interpreter": {
    "hash": "31f2aee4e71d21fbe5cf8b01ff0e069b9275f58929596ceb00d14d90e3e16cd6"
   }
  }
 },
 "nbformat": 4,
 "nbformat_minor": 4
}
