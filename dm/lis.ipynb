{
 "cells": [
  {
   "cell_type": "code",
   "execution_count": 5,
   "metadata": {},
   "outputs": [],
   "source": [
    "def lis_rec(L):\n",
    "    def aux(indice, dernier):\n",
    "        # Si on dépasse la fin de la liste, il n'y a rien à ajouter\n",
    "        if indice >= len(L):\n",
    "            return []\n",
    "\n",
    "        # On peut, soit ne pas inclure l'élément actuel dans la sous-suite...\n",
    "        sans_actuel = aux(indice + 1, dernier)\n",
    "        # ...soit inclure l'élément actuel si c'est une continuation valide (croissant)\n",
    "        avec_actuel = []\n",
    "        if dernier < L[indice]:\n",
    "            avec_actuel = [L[indice]] + aux(indice + 1, L[indice])\n",
    "\n",
    "        if len(avec_actuel) > len(sans_actuel):\n",
    "            return avec_actuel \n",
    "        else:\n",
    "            return sans_actuel\n",
    "\n",
    "    # Lancer la recherche en commençant au début de la liste\n",
    "    return aux(0, float('-inf'))"
   ]
  },
  {
   "cell_type": "code",
   "execution_count": 6,
   "metadata": {},
   "outputs": [
    {
     "name": "stdout",
     "output_type": "stream",
     "text": [
      "Algo récursif naïf : [10, 22, 33, 41, 57]\n"
     ]
    }
   ],
   "source": [
    "L = [10, 22, 9, 33, 21, 58, 41, 57]\n",
    "print(\"Algo récursif naïf :\", lis_rec(L))"
   ]
  },
  {
   "cell_type": "code",
   "execution_count": 7,
   "metadata": {},
   "outputs": [],
   "source": [
    "def lis_mem(L):    \n",
    "    # Dictionnaire pour stocker les résultats des sous-problèmes\n",
    "    memo = {}\n",
    "\n",
    "    def aux(indice, dernier):\n",
    "        # On crée une clé pour identifier cet état : \n",
    "        # le tuple composé des arguments de l'appel de aux, (indice, dernier)\n",
    "        key = (indice, dernier)\n",
    "\n",
    "        # Si cet appel a déjà été calculé précédement, on renvoie le résultat mémorisé\n",
    "        if key in memo:\n",
    "            return memo[key]\n",
    "\n",
    "        if indice >= len(L):\n",
    "            return []\n",
    "        \n",
    "        sans_actuel = aux(indice + 1, dernier)\n",
    "        avec_actuel = []\n",
    "        if dernier < L[indice]:\n",
    "            avec_actuel = [L[indice]] + aux(indice + 1, L[indice])\n",
    "\n",
    "        # On stocke la meilleure des deux options (avec ou sans l'élément) dans notre dictionnaire...\n",
    "        if len(avec_actuel) > len(sans_actuel):\n",
    "            memo[key] = avec_actuel\n",
    "        else:\n",
    "            memo[key] = sans_actuel\n",
    "        # ...et on renvoie la valeur stockée !\n",
    "        return memo[key]\n",
    "    \n",
    "    return aux(0, float('-inf'))\n"
   ]
  },
  {
   "cell_type": "code",
   "execution_count": 8,
   "metadata": {},
   "outputs": [
    {
     "name": "stdout",
     "output_type": "stream",
     "text": [
      "Algo récursif mémoïsé : [10, 22, 33, 41, 57]\n"
     ]
    }
   ],
   "source": [
    "L = [10, 22, 9, 33, 21, 58, 41, 57]\n",
    "print(\"Algo récursif mémoïsé :\", lis_mem(L))"
   ]
  },
  {
   "cell_type": "code",
   "execution_count": 14,
   "metadata": {},
   "outputs": [],
   "source": [
    "def lis_dyn(L):\n",
    "    # dp[i] : longueur de la plus longue sous-suite croissante terminant à l'indice i qu'on initialise à 1 pour tout i\n",
    "    # prev[i] : indice de l'élément précédent dans la plus longue sous-suite croissante terminant à l'indice i,\n",
    "    #ici on initialise à None plutot que d'utiliser une valeur quelconque non utilisée (on parle parfois de valeur sentinelle),\n",
    "    # afin d'éviter tout accès non souhaité possible avec L[max_index]\n",
    "    dp = [1] * len(L)\n",
    "    prev = [None] * len(L)\n",
    "\n",
    "    # On remplit les tableaux dp et prev au fur et à mesure\n",
    "    for i in range(1, len(L)):\n",
    "        #j prends toutes les valeurs des éléments avant i\n",
    "        for j in range(i):\n",
    "            #si l'ordre est croissant et que l'on améliore le calcul...\n",
    "            if L[j] < L[i] and dp[j] + 1 > dp[i]:\n",
    "                # alors on inclus l'élément j et on le note comme prédécesseur. Nota: c'est le prédécesseur le plus à droite qui sera considéré\n",
    "                dp[i] = dp[j] + 1\n",
    "                prev[i] = j\n",
    "\n",
    "    # Trouver l'indice de la plus grande valeur dans dp, une recherche de max \"classique\"\n",
    "    max_indice = 0\n",
    "    for i in range(1, len(dp)):\n",
    "        if dp[i] > dp[max_indice]:\n",
    "            max_indice = i\n",
    "\n",
    "    # Reconstruire la sous-suite croissante à partir de la liste prev\n",
    "    lis = []\n",
    "    while max_indice != None:\n",
    "        lis.append(L[max_indice])\n",
    "        max_indice = prev[max_indice]\n",
    "\n",
    "\n",
    "    return lis[::-1]  # Inverser la liste pour obtenir le bon ordre, en utilisant du slicing avec un pas de -1\n"
   ]
  },
  {
   "cell_type": "code",
   "execution_count": 13,
   "metadata": {},
   "outputs": [
    {
     "name": "stdout",
     "output_type": "stream",
     "text": [
      "Algo en programmation dynamique : [10, 22, 33, 41, 57]\n"
     ]
    }
   ],
   "source": [
    "L = [10, 22, 9, 33, 21, 58, 41, 57]\n",
    "print(\"Algo en programmation dynamique :\", lis_dyn(L))\n"
   ]
  }
 ],
 "metadata": {
  "kernelspec": {
   "display_name": "Python 3 (ipykernel)",
   "language": "python",
   "name": "python3"
  },
  "language_info": {
   "codemirror_mode": {
    "name": "ipython",
    "version": 3
   },
   "file_extension": ".py",
   "mimetype": "text/x-python",
   "name": "python",
   "nbconvert_exporter": "python",
   "pygments_lexer": "ipython3",
   "version": "3.12.3"
  }
 },
 "nbformat": 4,
 "nbformat_minor": 4
}
