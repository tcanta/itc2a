{
 "cells": [
  {
   "cell_type": "markdown",
   "id": "776a02fa",
   "metadata": {},
   "source": [
    "# DM 1 PSI*/PC*: LIS\n",
    "\n",
    "Un premier DM relativement cours sur le problème classique de la plus longue sous-suite croissante.\n",
    "\n",
    "<iframe src=https://mozilla.github.io/pdf.js/web/viewer.html?file=https://raw.githubusercontent.com/tcanta/itc2a/master/dm/lis.pdf#zoom=page-fit&pagemode=none height=500 width=100% allowfullscreen></iframe>\n",
    "\n",
    "A déposer au lien suivant POUR LES PC* : https://nuage06.apps.education.fr/index.php/s/ZcDHkSQK5NwXcnF\n",
    "\n",
    "A déposer au lien suivant POUR LES PSI* : https://nuage06.apps.education.fr/index.php/s/fCtz9NiXorxZQYG"
   ]
  }
 ],
 "metadata": {
  "jupytext": {
   "text_representation": {
    "extension": ".md",
    "format_name": "myst",
    "format_version": 0.13,
    "jupytext_version": "1.16.4"
   }
  },
  "kernelspec": {
   "display_name": "Python 3 (ipykernel)",
   "language": "python",
   "name": "python3"
  },
  "language_info": {
   "codemirror_mode": {
    "name": "ipython",
    "version": 3
   },
   "file_extension": ".py",
   "mimetype": "text/x-python",
   "name": "python",
   "nbconvert_exporter": "python",
   "pygments_lexer": "ipython3",
   "version": "3.12.3"
  },
  "source_map": [
   12
  ]
 },
 "nbformat": 4,
 "nbformat_minor": 5
}