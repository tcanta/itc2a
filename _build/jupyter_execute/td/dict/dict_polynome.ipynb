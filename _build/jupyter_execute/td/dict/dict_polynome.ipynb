{
 "cells": [
  {
   "cell_type": "markdown",
   "id": "cd9c3cf5",
   "metadata": {},
   "source": [
    "# TD: Polynôme et dictionnaire\n",
    "\n",
    "````{tab-set}\n",
    "```{tab-item} Sujet\n",
    "\n",
    "<iframe src=https://mozilla.github.io/pdf.js/web/viewer.html?file=https://raw.githubusercontent.com/tcanta/itc2a/master/td/dict/dict_polynome.pdf#zoom=page-width&pagemode=none height=600 width=100% allowfullscreen></iframe>\n",
    "\n",
    "```\n",
    "\n",
    "```{tab-item} Correction\n",
    "\n",
    "<iframe src=https://mozilla.github.io/pdf.js/web/viewer.html?file=https://raw.githubusercontent.com/tcanta/itc2a/master/td/dict/dict_polynome_cor.pdf#zoom=page-width&pagemode=none height=600 width=100% allowfullscreen></iframe>\n",
    "\n",
    "```\n",
    "````"
   ]
  }
 ],
 "metadata": {
  "jupytext": {
   "text_representation": {
    "extension": ".md",
    "format_name": "myst",
    "format_version": 0.13,
    "jupytext_version": "1.16.4"
   }
  },
  "kernelspec": {
   "display_name": "Python 3 (ipykernel)",
   "language": "python",
   "name": "python3"
  },
  "language_info": {
   "codemirror_mode": {
    "name": "ipython",
    "version": 3
   },
   "file_extension": ".py",
   "mimetype": "text/x-python",
   "name": "python",
   "nbconvert_exporter": "python",
   "pygments_lexer": "ipython3",
   "version": "3.12.3"
  },
  "source_map": [
   12
  ]
 },
 "nbformat": 4,
 "nbformat_minor": 5
}