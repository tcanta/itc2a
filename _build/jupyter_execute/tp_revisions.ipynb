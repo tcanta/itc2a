{
 "cells": [
  {
   "cell_type": "markdown",
   "id": "101f3f78",
   "metadata": {},
   "source": [
    "# TP : Révisions de 1ère année\n",
    "\n",
    "Pour programmer, vous pouvez soit utiliser Pyzo, soit [Basthon](https://notebook.basthon.fr).\n",
    "\n",
    "Commandes Basthon :\n",
    "\n",
    "- Ctrl + Entrée : exécuter la cellule\n",
    "- Shift + Entrée : exécuter la cellule puis passer à la suivante\n",
    "- Entrée : passer en mode édition\n",
    "- Échap : sortir du mode édition\n",
    "\n",
    "Les commandes suivantes sont valables uniquement hors du mode édition :\n",
    "\n",
    "- A : créer une nouvelle cellule (en haut)\n",
    "- B : créer une nouvelle cellule (en bas)\n",
    "- D D : supprimer la cellule"
   ]
  },
  {
   "cell_type": "markdown",
   "id": "e227a936",
   "metadata": {},
   "source": [
    "## Bases de Python"
   ]
  },
  {
   "cell_type": "markdown",
   "id": "77568c54",
   "metadata": {},
   "source": [
    ":::{admonition} Exercice 1\n",
    ":class: note\n",
    "\n",
    "Calculer $u_{10}$, où $u_n$ est définie par $u_0 = 42$ et $u_{n+1} = \\sqrt{u_n} + 3u_n$.  \n",
    "Il faut trouver 2787204.895558157.\n",
    "\n",
    ":::\n",
    "\n",
    "\n",
    "**Solution**"
   ]
  },
  {
   "cell_type": "code",
   "execution_count": 1,
   "id": "1a872fae",
   "metadata": {
    "tags": [
     "hide-cell"
    ]
   },
   "outputs": [
    {
     "data": {
      "text/plain": [
       "2787204.895558157"
      ]
     },
     "execution_count": 1,
     "metadata": {},
     "output_type": "execute_result"
    }
   ],
   "source": [
    "u = 42\n",
    "for i in range(10):\n",
    "    u = u**0.5 + 3*u\n",
    "u"
   ]
  },
  {
   "cell_type": "markdown",
   "id": "a5155465",
   "metadata": {},
   "source": [
    "---\n",
    "\n",
    ":::{admonition} Exercice 2\n",
    ":class: note\n",
    "\n",
    "Écrire une fonction `appartient` telle que `appartient(x, L)` renvoie `True` si `x` appartient à la liste `L`, `False` sinon.\n",
    "\n",
    ":::\n",
    "\n",
    "\n",
    "**Solution**"
   ]
  },
  {
   "cell_type": "code",
   "execution_count": 2,
   "id": "2bbb6820",
   "metadata": {
    "tags": [
     "hide-cell"
    ]
   },
   "outputs": [],
   "source": [
    "def appartient(x, L):\n",
    "    for e in L:\n",
    "        if e == x:\n",
    "            return True\n",
    "    return False"
   ]
  },
  {
   "cell_type": "code",
   "execution_count": 3,
   "id": "9852169f",
   "metadata": {},
   "outputs": [
    {
     "name": "stdout",
     "output_type": "stream",
     "text": [
      "True\n",
      "False\n"
     ]
    }
   ],
   "source": [
    "print(appartient(3, [1, 5, 3, 4, 1]))\n",
    "print(appartient(3, [1, 5, 4, 2]))"
   ]
  },
  {
   "cell_type": "markdown",
   "id": "89dadc1c",
   "metadata": {},
   "source": [
    "---\n",
    "\n",
    ":::{admonition} Exercice 3\n",
    ":class: note\n",
    "\n",
    "Écrire une fonction pour déterminer si une liste est triée par ordre croissant.\n",
    "\n",
    ":::\n",
    "\n",
    "\n",
    "**Solution**"
   ]
  },
  {
   "cell_type": "code",
   "execution_count": 4,
   "id": "968990ca",
   "metadata": {
    "tags": [
     "hide-cell"
    ]
   },
   "outputs": [],
   "source": [
    "def croissant(L):\n",
    "    for i in range(len(L)-1):\n",
    "        if L[i] > L[i+1]:\n",
    "            return False\n",
    "    return True"
   ]
  },
  {
   "cell_type": "code",
   "execution_count": 5,
   "id": "b117cc02",
   "metadata": {},
   "outputs": [
    {
     "name": "stdout",
     "output_type": "stream",
     "text": [
      "True\n",
      "False\n"
     ]
    }
   ],
   "source": [
    "print(croissant([1, 2, 3, 4, 5]))\n",
    "print(croissant([1, 2, 3, 5, 4]))"
   ]
  },
  {
   "cell_type": "markdown",
   "id": "a2ae1078",
   "metadata": {},
   "source": [
    "---\n",
    "## Dichotomie\n",
    "\n",
    "La méthode par dichotomie consiste à divise à chaque étape la taille du problème par 2.  \n",
    "L'exemple le plus classique est la recherche par dichotomie dans une liste **triée** : on souhaite savoir si un élément $e$ appartient à une liste **triée** `L`."
   ]
  },
  {
   "cell_type": "markdown",
   "id": "3973ec16",
   "metadata": {},
   "source": [
    "Considérons par exemple `L` = $[-2, 1, 2, 4, 6, 7, 8, 9, 11, 12, 14, 15, 18, 22, 54]$ et $e$ = $14$.  \n",
    "\n",
    "Au lieu de commencer par regarder le 1er élément de `L`, on va regarder l'élément du milieu (ici $9$):\n",
    "\n",
    "$$\n",
    "    [-2, 1, 2, 4, 6, 7, 8, \\underline{\\mathbf{9}}, 11, 12, 14, 15, 18, 22, 54]\n",
    "$$\n",
    "\n",
    "Comme $9 < 14$ et que la liste est triée par ordre croissant, on en déduit que $e$, s'il est dans `L`, est forcément dans la partie droite :\n",
    "\n",
    "$$\n",
    "    [-2, 1, 2, 4, 6, 7, 8, {9}, \\boxed{11, 12, 14, {15}, 18, 22, 54}]\n",
    "$$\n",
    "\n",
    "On se restreint donc par la suite à la partie de `L` qui est encadrée. On compare $e$ au milieu de cette partie, c'est-à-dire $15$ :\n",
    "\n",
    "$$\n",
    "    [-2, 1, 2, 4, 6, 7, 8, {9}, \\boxed{11, 12, 14, \\underline{\\textbf{15}}, 18, 22, 54}]\n",
    "$$\n",
    "\n",
    "Comme $e < 15$, on peut cette fois se restreinte à la partie gauche. On cherche donc maintenant $e$ dans la zone suivante :\n",
    "\n",
    "$$\n",
    "    [-2, 1, 2, 4, 6, 7, 8, {9}, \\boxed{11, {12}, 14}, {15}, 18, 22, 54]\n",
    "$$\n",
    "\n",
    "On compare encore une fois $e$ au milieu :\n",
    "\n",
    "$$\n",
    "    [-2, 1, 2, 4, 6, 7, 8, {9}, \\boxed{11, \\underline{\\textbf{12}}, 14}, {15}, 18, 22, 54]\n",
    "$$\n",
    "\n",
    "Comme $e > 12$, on regarde à droite :\n",
    "\n",
    "$$\n",
    "    [-2, 1, 2, 4, 6, 7, 8, {9}, 11, {12}, \\boxed{\\underline{\\textbf{14}}}, {15}, 18, 22, 54]\n",
    "$$\n",
    "\n",
    "On a trouvé $e$ !"
   ]
  },
  {
   "cell_type": "markdown",
   "id": "e35ef23c",
   "metadata": {},
   "source": [
    ":::{admonition} Exercice 4\n",
    ":class: note\n",
    "\n",
    "Compléter le code suivant permettant de rechercher un élément dans une liste triée, par dichotomie.\n",
    "```python\n",
    "def dichotomie(e, L):\n",
    "    i, j = 0, len(L) - 1  # i et j sont les indices de L entre lesquels on cherche e\n",
    "    while ...: # tant qu'il reste au moins 1 élément entre les indices i et j\n",
    "        m = ... # milieu de i et j\n",
    "        if e < L[m]:\n",
    "            ... # regarder dans la partie gauche\n",
    "        elif e > L[m]:\n",
    "            ... # regarder dans la partie droite\n",
    "        else:\n",
    "            ... # on a trouvé e\n",
    "    ... # e n'a pas été trouvé\n",
    "```\n",
    "Puis tester votre fonction avec le jeu de tests suivant (`assert` déclenche une erreur si son argument est `False`) :  \n",
    "```python\n",
    "L1, L2, L3 = [0, 2], [0, 2, 5], [-2, 1, 2, 4, 6, 7, 8, 9, 11, 12, 14, 15, 18, 22, 54]\n",
    "assert (dichotomie(0, L1) and not dichotomie(1, L1))\n",
    "assert (dichotomie(5, L2) and not dichotomie(7, L2))\n",
    "assert (dichotomie(14, L3) and not dichotomie(-4, L3))\n",
    "```\n",
    ":::\n",
    "\n",
    "**Solution** :"
   ]
  },
  {
   "cell_type": "code",
   "execution_count": 6,
   "id": "c0d79b2b",
   "metadata": {
    "tags": [
     "hide-cell"
    ]
   },
   "outputs": [],
   "source": [
    "def dichotomie(e, L):\n",
    "    i, j = 0, len(L) - 1\n",
    "    while i <= j:\n",
    "        m = (i+j)//2\n",
    "        if L[m] == e:\n",
    "            return True\n",
    "        elif L[m] < e:\n",
    "            i = m + 1\n",
    "        else:\n",
    "            j = m - 1\n",
    "    return False"
   ]
  },
  {
   "cell_type": "code",
   "execution_count": 7,
   "id": "d4f7d6ee",
   "metadata": {},
   "outputs": [],
   "source": [
    "L1, L2, L3 = [0, 2], [0, 2, 5], [-2, 1, 2, 4, 6, 7, 8, 9, 11, 12, 14, 15, 18, 22, 54]\n",
    "assert (dichotomie(0, L1) and not dichotomie(1, L1))\n",
    "assert (dichotomie(5, L2) and not dichotomie(7, L2))\n",
    "assert (dichotomie(14, L3) and not dichotomie(-4, L3))"
   ]
  },
  {
   "cell_type": "markdown",
   "id": "7f2e2e07",
   "metadata": {},
   "source": [
    "Le comportement en cas d'erreur est le suivant :\n",
    "```python\n",
    "assert (dichotomie(42, L1))\n",
    "```\n",
    "```python\n",
    "---------------------------------------------------------------------------\n",
    "AssertionError                            Traceback (most recent call last)\n",
    "Cell In[8], line 1\n",
    "----> 1 assert (dichotomie(42, L1))\n",
    "\n",
    "AssertionError:\n",
    "```\n",
    "\n",
    "## Matrices"
   ]
  },
  {
   "cell_type": "markdown",
   "id": "fb0b4415",
   "metadata": {},
   "source": [
    ":::{admonition} Exercice 5\n",
    ":class: note\n",
    "\n",
    "Définir une fonction `make_matrix` telle que `make_matrix(n, p)` renvoie une matrice $n\\times p$ remplie de $0$, sous forme de liste de listes.\n",
    "\n",
    ":::"
   ]
  },
  {
   "cell_type": "code",
   "execution_count": 8,
   "id": "952ab222",
   "metadata": {
    "tags": [
     "hide-cell"
    ]
   },
   "outputs": [],
   "source": [
    "# On propose plusieurs possibilités\n",
    "\n",
    "def make_matrix(n, p):\n",
    "    return [[0]*p for _ in range(n)]\n",
    "\n",
    "def make_matrix2(n, p):\n",
    "    M = []\n",
    "    for i in range(n):\n",
    "        M.append([0]*p)\n",
    "    return M\n",
    "\n",
    "def make_matrix3(n, p):\n",
    "    M = []\n",
    "    for i in range(n):\n",
    "        L = []\n",
    "        for j in range(p):\n",
    "            L.append(0)\n",
    "        M.append(L)\n",
    "    return M"
   ]
  },
  {
   "cell_type": "code",
   "execution_count": 9,
   "id": "6747989a",
   "metadata": {},
   "outputs": [
    {
     "data": {
      "text/plain": [
       "[[0, 0, 0, 0], [0, 0, 0, 0], [0, 0, 0, 0]]"
      ]
     },
     "execution_count": 9,
     "metadata": {},
     "output_type": "execute_result"
    }
   ],
   "source": [
    "make_matrix(3, 4)"
   ]
  },
  {
   "cell_type": "markdown",
   "id": "c20711a4",
   "metadata": {},
   "source": [
    "---\n",
    "\n",
    ":::{admonition} Exercice 6\n",
    ":class: note\n",
    "\n",
    "Écrire une fonction `transposee(M)` qui renvoie la transposée de la matrice `M`.\n",
    "\n",
    ":::"
   ]
  },
  {
   "cell_type": "code",
   "execution_count": 10,
   "id": "0862c7c5",
   "metadata": {
    "tags": [
     "hide-cell"
    ]
   },
   "outputs": [],
   "source": [
    "def transposee(M):\n",
    "    n = len(M)\n",
    "    p = len(M[0])\n",
    "    Mt = make_matrix(p, n)\n",
    "    for i in range(n):\n",
    "        for j in range(p):\n",
    "            Mt[j][i] = M[i][j]\n",
    "    return Mt"
   ]
  },
  {
   "cell_type": "code",
   "execution_count": 11,
   "id": "494795ff",
   "metadata": {},
   "outputs": [
    {
     "data": {
      "text/plain": [
       "[[1, 4, 7], [2, 5, 8], [3, 6, 9]]"
      ]
     },
     "execution_count": 11,
     "metadata": {},
     "output_type": "execute_result"
    }
   ],
   "source": [
    "transposee([[1, 2, 3], [4, 5, 6], [7, 8, 9]])"
   ]
  },
  {
   "cell_type": "markdown",
   "id": "5dba79d1",
   "metadata": {},
   "source": [
    "---\n",
    "\n",
    ":::{admonition} Exercice 7\n",
    ":class: note\n",
    "\n",
    "Écrire une fonction `symetrique(M)` qui renvoie `True` si la matrice `M` est symétrique, `False` sinon.\n",
    "\n",
    ":::"
   ]
  },
  {
   "cell_type": "code",
   "execution_count": 12,
   "id": "7790290f",
   "metadata": {
    "tags": [
     "hide-cell"
    ]
   },
   "outputs": [],
   "source": [
    "def symetrique(M):\n",
    "    for i in range(len(M)):\n",
    "        for j in range(i):\n",
    "            if M[i][j] != M[j][i]:\n",
    "                return False\n",
    "    return True"
   ]
  },
  {
   "cell_type": "code",
   "execution_count": 13,
   "id": "d83d803e",
   "metadata": {},
   "outputs": [
    {
     "name": "stdout",
     "output_type": "stream",
     "text": [
      "True\n",
      "False\n"
     ]
    }
   ],
   "source": [
    "print(symetrique([[1, 2, 3], [2, 4, 5], [3, 5, 6]])) # True\n",
    "print(symetrique([[1, 2, 3], [2, 4, 7], [3, 5, 6]])) # False"
   ]
  },
  {
   "cell_type": "markdown",
   "id": "2ed2fc6e",
   "metadata": {},
   "source": [
    "## Graphes\n",
    "\n",
    "[Si besoin, vous pouvez revoir ce cours (Graphes : Représentations)](https://cpge-itc.github.io/itc1/5_graph/2_representation/2_representation).\n",
    "\n",
    "### Représentation par matrice d'adjacence"
   ]
  },
  {
   "cell_type": "markdown",
   "id": "8fc80e69",
   "metadata": {},
   "source": [
    ":::{admonition} Exercice 8\n",
    ":class: note\n",
    "\n",
    "Définir dans une variable `G` la matrice d'adjacence du graphe suivant (on pourra éventuellement utiliser les fonctions précédentes) :\n",
    "<center><img src=https://github.com/cpge-itc/itc1/raw/4be1ee8d9679ffae521c506ad54acb9e6099c614/files/5_graph/tp/tp2/g.png width=200></center>\n",
    "\n",
    ":::"
   ]
  },
  {
   "cell_type": "code",
   "execution_count": 14,
   "id": "61997cb6",
   "metadata": {
    "tags": [
     "hide-cell"
    ]
   },
   "outputs": [
    {
     "data": {
      "text/plain": [
       "[[0, 0, 0, 0, 0, 0, 1],\n",
       " [0, 0, 1, 1, 1, 0, 0],\n",
       " [0, 1, 0, 0, 1, 1, 0],\n",
       " [0, 1, 0, 0, 1, 0, 0],\n",
       " [0, 1, 1, 1, 0, 1, 0],\n",
       " [0, 0, 1, 0, 1, 0, 0],\n",
       " [1, 0, 0, 0, 0, 0, 0]]"
      ]
     },
     "execution_count": 14,
     "metadata": {},
     "output_type": "execute_result"
    }
   ],
   "source": [
    "G = make_matrix(7, 7)\n",
    "# façon rapide de remplir la matrice\n",
    "for i, j in [(0, 6), (1, 2), (1, 3), (1, 4), (2, 4), (2, 5), (3, 4), (4, 5)]:\n",
    "    G[i][j] = G[j][i] = 1\n",
    "G"
   ]
  },
  {
   "cell_type": "markdown",
   "id": "ad605afb",
   "metadata": {},
   "source": [
    ":::{admonition} Exercice 9\n",
    ":class: note\n",
    "\n",
    "Définir une fonction `voisins` telle que `voisins(G, v)` renvoie la liste des voisins du sommet `v`.  \n",
    "Vérifier que les voisins du sommet $2$ dans le graphe ci-dessus sont les sommets $1$, $4$, $5$.\n",
    "\n",
    ":::"
   ]
  },
  {
   "cell_type": "code",
   "execution_count": 15,
   "id": "1c1b710a",
   "metadata": {
    "tags": [
     "hide-cell"
    ]
   },
   "outputs": [],
   "source": [
    "def voisins(G, v):\n",
    "    L = []\n",
    "    for i in range(len(G)):\n",
    "        if G[v][i] == 1:\n",
    "            L.append(i)\n",
    "    return L"
   ]
  },
  {
   "cell_type": "code",
   "execution_count": 16,
   "id": "031bad35",
   "metadata": {},
   "outputs": [
    {
     "data": {
      "text/plain": [
       "[1, 4, 5]"
      ]
     },
     "execution_count": 16,
     "metadata": {},
     "output_type": "execute_result"
    }
   ],
   "source": [
    "voisins(G, 2)"
   ]
  },
  {
   "cell_type": "markdown",
   "id": "5c7587da",
   "metadata": {},
   "source": [
    "**Exercice** : En déduire une fonction `deg` telle que `deg(G, v)` renvoie le degré du sommet `v`."
   ]
  },
  {
   "cell_type": "code",
   "execution_count": 17,
   "id": "d32207d3",
   "metadata": {
    "tags": [
     "hide-cell"
    ]
   },
   "outputs": [],
   "source": [
    "def deg(G, v):\n",
    "    return len(voisins(G, v))"
   ]
  },
  {
   "cell_type": "code",
   "execution_count": 18,
   "id": "d2668e0e",
   "metadata": {},
   "outputs": [
    {
     "data": {
      "text/plain": [
       "3"
      ]
     },
     "execution_count": 18,
     "metadata": {},
     "output_type": "execute_result"
    }
   ],
   "source": [
    "deg(G, 2)"
   ]
  },
  {
   "cell_type": "markdown",
   "id": "2af293fe",
   "metadata": {},
   "source": [
    "**Exercice** : Écrire une fonction `n_aretes` pour calculer le nombre d'arêtes d'un graphe donné par matrice d'adjacence. Tester avec le graphe `G` précédent. On pourra soit réutiliser `deg`, soit deux boucles `for` pour parcourir les éléments de la matrice."
   ]
  },
  {
   "cell_type": "code",
   "execution_count": 19,
   "id": "b6d24760",
   "metadata": {
    "tags": [
     "hide-cell"
    ]
   },
   "outputs": [],
   "source": [
    "def n_aretes(G):\n",
    "    s = 0\n",
    "    for i in range(len(G)):\n",
    "        s += deg(G, i)\n",
    "    return s//2"
   ]
  },
  {
   "cell_type": "code",
   "execution_count": 20,
   "id": "5c1eb0fa",
   "metadata": {},
   "outputs": [
    {
     "data": {
      "text/plain": [
       "8"
      ]
     },
     "execution_count": 20,
     "metadata": {},
     "output_type": "execute_result"
    }
   ],
   "source": [
    "n_aretes(G)"
   ]
  },
  {
   "cell_type": "markdown",
   "id": "60ff5443",
   "metadata": {},
   "source": [
    "### Représentation par liste d'adjacence"
   ]
  },
  {
   "cell_type": "markdown",
   "id": "ae8c2770",
   "metadata": {},
   "source": [
    "**Exercice** : Écrire une fonction `mat_to_list` telle que `mat_to_list(G)` renvoie la liste d'adjacence du graphe `G` donné par matrice d'adjacence. Calculer la représentation par liste d'adjacence `G_list` du graphe `G` précédent.\n",
    "\n",
    "<center><img src=https://github.com/cpge-itc/itc1/raw/4be1ee8d9679ffae521c506ad54acb9e6099c614/files/5_graph/tp/tp2/g.png width=200></center>"
   ]
  },
  {
   "cell_type": "code",
   "execution_count": 21,
   "id": "93e5f4a2",
   "metadata": {
    "tags": [
     "hide-cell"
    ]
   },
   "outputs": [],
   "source": [
    "def mat_to_list(G):\n",
    "    L = []\n",
    "    for i in range(len(G)):\n",
    "        L.append(voisins(G, i))\n",
    "    return L"
   ]
  },
  {
   "cell_type": "code",
   "execution_count": 22,
   "id": "66c2a0c2",
   "metadata": {},
   "outputs": [
    {
     "data": {
      "text/plain": [
       "[[6], [2, 3, 4], [1, 4, 5], [1, 4], [1, 2, 3, 5], [2, 4], [0]]"
      ]
     },
     "execution_count": 22,
     "metadata": {},
     "output_type": "execute_result"
    }
   ],
   "source": [
    "G_list = mat_to_list(G)\n",
    "G_list"
   ]
  },
  {
   "cell_type": "markdown",
   "id": "3fdc81ab",
   "metadata": {},
   "source": [
    "### Parcours en profondeur\n",
    "\n",
    "[Revoir ce cours si besoin](https://cpge-itc.github.io/itc1/5_graph/3_traversal/dfs/dfs)"
   ]
  },
  {
   "cell_type": "markdown",
   "id": "d213fc2c",
   "metadata": {},
   "source": [
    "**Exercice** : Écrire une fonction `dfs(G, s)` renvoyant la liste des sommets de `G` (défini par liste d'adjacence) suivant un parcours en profondeur depuis le sommet `s`. Vérifier sur le graphe `G_list` précédent.  \n",
    "On pourra compléter le code ci-dessous. Ne regarder le cours que si cela est vraiment nécessaire."
   ]
  },
  {
   "cell_type": "code",
   "execution_count": 23,
   "id": "d917a807",
   "metadata": {},
   "outputs": [
    {
     "ename": "IndentationError",
     "evalue": "expected an indented block after function definition on line 3 (3468891791.py, line 9)",
     "output_type": "error",
     "traceback": [
      "\u001b[0;36m  Cell \u001b[0;32mIn[23], line 9\u001b[0;36m\u001b[0m\n\u001b[0;31m    aux(s)\u001b[0m\n\u001b[0m    ^\u001b[0m\n\u001b[0;31mIndentationError\u001b[0m\u001b[0;31m:\u001b[0m expected an indented block after function definition on line 3\n"
     ]
    }
   ],
   "source": [
    "def dfs(G, s):\n",
    "    # définir une liste de booléens pour savoir si un sommet a été visité\n",
    "    def aux(u): # fonction récursive\n",
    "        # si u n'a pas été visité :\n",
    "            # afficher u\n",
    "            # marquer u comme visité\n",
    "            # pour chaque voisin v de u\n",
    "                # appeler aux(v)\n",
    "    aux(s)"
   ]
  },
  {
   "cell_type": "code",
   "execution_count": null,
   "id": "d382c8f9",
   "metadata": {
    "tags": [
     "hide-cell"
    ]
   },
   "outputs": [],
   "source": [
    "def dfs(G, s):\n",
    "    visited = [False]*len(G)\n",
    "    def aux(u):\n",
    "        if not visited[u]:\n",
    "            print(u)\n",
    "            visited[u] = True\n",
    "            for v in G[u]:\n",
    "                aux(v)\n",
    "    aux(s)"
   ]
  },
  {
   "cell_type": "code",
   "execution_count": null,
   "id": "fa701f0d",
   "metadata": {},
   "outputs": [],
   "source": [
    "dfs(G_list, 0)"
   ]
  },
  {
   "cell_type": "code",
   "execution_count": null,
   "id": "b11ec033",
   "metadata": {},
   "outputs": [],
   "source": [
    "dfs(G_list, 2)"
   ]
  },
  {
   "cell_type": "markdown",
   "id": "eaf3f57f",
   "metadata": {},
   "source": [
    "**Exercice** : En utilisant un parcours en profondeur, écrire une fonction `connexe(G)` qui renvoie `True` si le graphe `G` est connexe, `False` sinon.  \n",
    "Vérifier sur `G_list` (non connexe) et sur un graphe connexe de votre choix."
   ]
  },
  {
   "cell_type": "code",
   "execution_count": null,
   "id": "f6af663b",
   "metadata": {
    "tags": [
     "hide-cell"
    ]
   },
   "outputs": [],
   "source": [
    "# deux solutions\n",
    "\n",
    "def connexe(G):\n",
    "    visited = [False]*len(G)\n",
    "    def aux(u):\n",
    "        if not visited[u]:\n",
    "            visited[u] = True\n",
    "            for v in G[u]:\n",
    "                aux(v)\n",
    "    aux(0)\n",
    "    return all(visited) # vérifie que tous les éléments de visited sont True\n",
    "\n",
    "def connexe(G):\n",
    "    visited = [False]*len(G)\n",
    "    def aux(u):\n",
    "        if not visited[u]:\n",
    "            visited[u] = True\n",
    "            for v in G[u]:\n",
    "                aux(v)\n",
    "    aux(0)\n",
    "    for v in range(len(G)):\n",
    "        if not visited[v]:\n",
    "            return False\n",
    "    return True"
   ]
  },
  {
   "cell_type": "code",
   "execution_count": null,
   "id": "1aa6465c",
   "metadata": {},
   "outputs": [],
   "source": [
    "connexe(G_list)"
   ]
  },
  {
   "cell_type": "markdown",
   "id": "6f88d0be",
   "metadata": {},
   "source": [
    "### Parcours en largeur\n",
    "\n",
    "[Revoir ce cours si besoin](https://cpge-itc.github.io/itc1/5_graph/3_traversal/bfs/bfs)"
   ]
  },
  {
   "cell_type": "markdown",
   "id": "1ae87606",
   "metadata": {},
   "source": [
    "On rappelle l'utilisation d'une file en Python, avec la classe `deque` :"
   ]
  },
  {
   "cell_type": "code",
   "execution_count": null,
   "id": "60a36592",
   "metadata": {},
   "outputs": [],
   "source": [
    "from collections import deque\n",
    "\n",
    "q = deque() # file vide\n",
    "q.appendleft(4) # ajoute 4 au début\n",
    "q.appendleft(7)\n",
    "q.pop() # supprime et renvoie le dernier élément (4)\n",
    "q.appendleft(-5)\n",
    "q.pop() # supprime et renvoie le dernier élément (7)"
   ]
  },
  {
   "cell_type": "markdown",
   "id": "8e3c6227",
   "metadata": {},
   "source": [
    "**Exercice** : Écrire une fonction `bfs(G, s)` affichant les sommets du graphe `G` lors d'un parcours en largeur depuis le sommet `s`. Vérifier sur le graphe `G_list` précédent.  \n",
    "\n",
    "<center><img src=https://github.com/cpge-itc/itc1/raw/4be1ee8d9679ffae521c506ad54acb9e6099c614/files/5_graph/tp/tp2/g.png width=200></center>"
   ]
  },
  {
   "cell_type": "code",
   "execution_count": null,
   "id": "81dc663f",
   "metadata": {},
   "outputs": [],
   "source": [
    "from collections import deque\n",
    "\n",
    "def bfs(G, s):\n",
    "    # définir une file q contenant s\n",
    "    # définir une liste visited contenant n False, où n est le nombre de sommets\n",
    "    # tant que q est non vide\n",
    "        # extraire le dernier élément de q dans une variable u\n",
    "        # si u n'a pas été visité:\n",
    "            # afficher u\n",
    "            # mettre True dans visited[u]\n",
    "            # pour chaque voisin v de u\n",
    "                # ajouter v au début de q"
   ]
  },
  {
   "cell_type": "code",
   "execution_count": null,
   "id": "203dec04",
   "metadata": {
    "tags": [
     "hide-cell"
    ]
   },
   "outputs": [],
   "source": [
    "from collections import deque\n",
    "\n",
    "def bfs(G, s):\n",
    "    q = deque()\n",
    "    q.appendleft(s)\n",
    "    visited = [False]*len(G)\n",
    "    while q:\n",
    "        u = q.pop()\n",
    "        if not visited[u]:\n",
    "            print(u)\n",
    "            visited[u] = True\n",
    "            for v in G[u]:\n",
    "                q.appendleft(v)"
   ]
  },
  {
   "cell_type": "code",
   "execution_count": null,
   "id": "9586eadc",
   "metadata": {},
   "outputs": [],
   "source": [
    "bfs(G_list, 2)"
   ]
  },
  {
   "cell_type": "markdown",
   "id": "b75b111e",
   "metadata": {},
   "source": [
    "**Exercice** : Écrire une fonction `distances(G, s)` qui renvoie une liste `dist` telle que `dist[v]` soit la distance (en nombre d'arêtes) du sommet `s` au sommet `v`. Vérifier sur le graphe `G_list` précédent.  \n",
    "\n",
    "<center><img src=https://github.com/cpge-itc/itc1/raw/4be1ee8d9679ffae521c506ad54acb9e6099c614/files/5_graph/tp/tp2/g.png width=200></center>"
   ]
  },
  {
   "cell_type": "code",
   "execution_count": null,
   "id": "577040ab",
   "metadata": {
    "tags": [
     "hide-cell"
    ]
   },
   "outputs": [],
   "source": [
    "def distances(G, s):\n",
    "    q = deque()\n",
    "    q.appendleft(s)\n",
    "    visited = [False]*len(G)\n",
    "    dist = [float(\"inf\")]*len(G)\n",
    "    dist[s] = 0\n",
    "    while q:\n",
    "        u = q.pop()\n",
    "        visited[u] = True\n",
    "        for v in G[u]:\n",
    "            if not visited[v]:\n",
    "                q.appendleft(v)\n",
    "                dist[v] = dist[u] + 1\n",
    "    return dist"
   ]
  },
  {
   "cell_type": "code",
   "execution_count": null,
   "id": "6105777e",
   "metadata": {},
   "outputs": [],
   "source": [
    "distances(G_list, 2)"
   ]
  }
 ],
 "metadata": {
  "jupytext": {
   "text_representation": {
    "extension": ".md",
    "format_name": "myst",
    "format_version": 0.13,
    "jupytext_version": "1.16.4"
   }
  },
  "kernelspec": {
   "display_name": "Python 3 (ipykernel)",
   "language": "python",
   "name": "python3"
  },
  "language_info": {
   "codemirror_mode": {
    "name": "ipython",
    "version": 3
   },
   "file_extension": ".py",
   "mimetype": "text/x-python",
   "name": "python",
   "nbconvert_exporter": "python",
   "pygments_lexer": "ipython3",
   "version": "3.12.3"
  },
  "source_map": [
   12,
   31,
   35,
   48,
   55,
   69,
   79,
   82,
   96,
   106,
   109,
   116,
   158,
   187,
   202,
   207,
   224,
   233,
   257,
   259,
   271,
   284,
   286,
   298,
   309,
   312,
   320,
   331,
   339,
   350,
   361,
   363,
   367,
   374,
   376,
   380,
   390,
   392,
   396,
   402,
   412,
   415,
   421,
   426,
   438,
   452,
   456,
   458,
   463,
   492,
   494,
   500,
   504,
   513,
   519,
   534,
   552,
   554,
   560,
   579
  ]
 },
 "nbformat": 4,
 "nbformat_minor": 5
}