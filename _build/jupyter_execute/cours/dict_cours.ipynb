{
 "cells": [
  {
   "cell_type": "markdown",
   "id": "9051fd19",
   "metadata": {},
   "source": [
    "# Structures de données\n",
    "\n",
    "<object data=\"http://yoursite.com/the.pdf\" type=\"application/pdf\" width=\"700px\" height=\"700px\">\n",
    "    <embed src=\"http://yoursite.com/the.pdf\">\n",
    "        <p>This browser does not support PDFs. Please download the PDF to view it: <a href=\"http://yoursite.com/the.pdf\">Download PDF</a>.</p>\n",
    "    </embed>\n",
    "</object>"
   ]
  }
 ],
 "metadata": {
  "jupytext": {
   "text_representation": {
    "extension": ".md",
    "format_name": "myst",
    "format_version": 0.13,
    "jupytext_version": "1.16.4"
   }
  },
  "kernelspec": {
   "display_name": "Python 3 (ipykernel)",
   "language": "python",
   "name": "python3"
  },
  "language_info": {
   "codemirror_mode": {
    "name": "ipython",
    "version": 3
   },
   "file_extension": ".py",
   "mimetype": "text/x-python",
   "name": "python",
   "nbconvert_exporter": "python",
   "pygments_lexer": "ipython3",
   "version": "3.12.3"
  },
  "source_map": [
   12
  ]
 },
 "nbformat": 4,
 "nbformat_minor": 5
}