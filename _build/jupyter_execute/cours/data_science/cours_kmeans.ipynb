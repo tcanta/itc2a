{
 "cells": [
  {
   "cell_type": "markdown",
   "id": "13089af0",
   "metadata": {},
   "source": [
    "# Cours: Algorithme des k-moyennes\n",
    "\n",
    "\n",
    "````{tab-set}\n",
    "```{tab-item} Cours\n",
    "\n",
    "<iframe src=https://mozilla.github.io/pdf.js/web/viewer.html?file=https://raw.githubusercontent.com/tcanta/itc2a/prod/cours/data_science/kmeans.pdf#zoom=page-fit&pagemode=none height=500 width=100% allowfullscreen></iframe>\n",
    "```\n",
    "\n",
    "```{tab-item} Exemples\n",
    "<iframe src=\"https://notebook.basthon.fr/?from=https://raw.githubusercontent.com/tcanta/itc2a/prod/cours/data_science/exemples_kmeans.ipynb\" height=600 width=100% allowfullscreen></iframe>\n",
    "\n",
    "```\n",
    "````"
   ]
  }
 ],
 "metadata": {
  "jupytext": {
   "text_representation": {
    "extension": ".md",
    "format_name": "myst",
    "format_version": 0.13,
    "jupytext_version": "1.16.4"
   }
  },
  "kernelspec": {
   "display_name": "Python 3 (ipykernel)",
   "language": "python",
   "name": "python3"
  },
  "language_info": {
   "codemirror_mode": {
    "name": "ipython",
    "version": 3
   },
   "file_extension": ".py",
   "mimetype": "text/x-python",
   "name": "python",
   "nbconvert_exporter": "python",
   "pygments_lexer": "ipython3",
   "version": "3.12.3"
  },
  "source_map": [
   12
  ]
 },
 "nbformat": 4,
 "nbformat_minor": 5
}