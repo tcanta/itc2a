{
 "cells": [
  {
   "cell_type": "markdown",
   "metadata": {},
   "source": [
    "## Programmation Dynamique"
   ]
  },
  {
   "cell_type": "markdown",
   "metadata": {},
   "source": [
    "Il sera judicieux de comparer les temps d'exécution afin de comparer les performances des différents algorithmes."
   ]
  },
  {
   "cell_type": "code",
   "execution_count": 1,
   "metadata": {},
   "outputs": [],
   "source": [
    "import time"
   ]
  },
  {
   "cell_type": "markdown",
   "metadata": {},
   "source": [
    "### Factorielle"
   ]
  },
  {
   "cell_type": "code",
   "execution_count": 2,
   "metadata": {},
   "outputs": [],
   "source": [
    "def fact(n):\n",
    "    if n == 0: # cas de base\n",
    "        return 1\n",
    "    return n*fact(n - 1) # appel récursif"
   ]
  },
  {
   "cell_type": "code",
   "execution_count": 3,
   "metadata": {},
   "outputs": [
    {
     "name": "stdout",
     "output_type": "stream",
     "text": [
      "Value: 1405006117752879898543142606244511569936384000000000\n",
      "Duration: 0.23031234741210938 ms\n"
     ]
    }
   ],
   "source": [
    "start = time.time()\n",
    "print(f\"Value: {fact(42)}\")\n",
    "end = time.time()\n",
    "duration = (end - start)*1000\n",
    "print(f\"Duration: {duration} ms\")"
   ]
  },
  {
   "cell_type": "markdown",
   "metadata": {},
   "source": [
    "### Fibonacci"
   ]
  },
  {
   "cell_type": "markdown",
   "metadata": {},
   "source": [
    "Version naive recursive"
   ]
  },
  {
   "cell_type": "code",
   "execution_count": 4,
   "metadata": {},
   "outputs": [],
   "source": [
    "def fibo(n):\n",
    "    if n == 0 or n == 1:\n",
    "        return 1\n",
    "    return fibo(n - 1) + fibo(n - 2)"
   ]
  },
  {
   "cell_type": "code",
   "execution_count": 5,
   "metadata": {},
   "outputs": [
    {
     "name": "stdout",
     "output_type": "stream",
     "text": [
      "Value: 3524578\n",
      "Duration: 835.6263637542725 ms\n"
     ]
    }
   ],
   "source": [
    "start = time.time()\n",
    "print(f\"Value: {fibo(32)}\")\n",
    "end = time.time()\n",
    "duration = (end - start)*1000\n",
    "print(f\"Duration: {duration} ms\")"
   ]
  },
  {
   "cell_type": "markdown",
   "metadata": {},
   "source": [
    "Version dynamique"
   ]
  },
  {
   "cell_type": "code",
   "execution_count": 6,
   "metadata": {},
   "outputs": [],
   "source": [
    "def fibo(n):\n",
    "    L = [1, 1] # L[i] va contenir le ième terme de Fibonacci\n",
    "    for i in range(n - 1):\n",
    "        L.append(L[-1] + L[-2]) # récurrence\n",
    "    return L[n]\n",
    "\n",
    "def fibo(n):\n",
    "    f0, f1 = 1, 1 # f0, f1 sont les deux derniers termes\n",
    "    for i in range(n - 1):\n",
    "        f0, f1 = f1, f0 + f1\n",
    "    return f1"
   ]
  },
  {
   "cell_type": "code",
   "execution_count": 7,
   "metadata": {},
   "outputs": [
    {
     "name": "stdout",
     "output_type": "stream",
     "text": [
      "Value: 3524578\n",
      "Duration: 0.20742416381835938 ms\n"
     ]
    }
   ],
   "source": [
    "start = time.time()\n",
    "print(f\"Value: {fibo(32)}\")\n",
    "end = time.time()\n",
    "duration = (end - start)*1000\n",
    "print(f\"Duration: {duration} ms\")"
   ]
  },
  {
   "cell_type": "markdown",
   "metadata": {},
   "source": [
    "### Coefficients binomiaux"
   ]
  },
  {
   "cell_type": "markdown",
   "metadata": {},
   "source": [
    "Version naive récursive"
   ]
  },
  {
   "cell_type": "code",
   "execution_count": 8,
   "metadata": {},
   "outputs": [],
   "source": [
    "def binom(n, k):\n",
    "    if k == 0: return 1\n",
    "    if n == 0: return 0\n",
    "    return binom(n - 1, k - 1) + binom(n - 1, k)"
   ]
  },
  {
   "cell_type": "code",
   "execution_count": 9,
   "metadata": {},
   "outputs": [
    {
     "name": "stdout",
     "output_type": "stream",
     "text": [
      "Value: 5852925\n",
      "Duration: 2150.5391597747803 ms\n"
     ]
    }
   ],
   "source": [
    "start = time.time()\n",
    "print(f\"Value: {binom(30,8)}\")\n",
    "end = time.time()\n",
    "duration = (end - start)*1000\n",
    "print(f\"Duration: {duration} ms\")"
   ]
  },
  {
   "cell_type": "markdown",
   "metadata": {},
   "source": [
    "Version dynamique"
   ]
  },
  {
   "cell_type": "code",
   "execution_count": 10,
   "metadata": {},
   "outputs": [],
   "source": [
    "def binom(n, k):\n",
    "    M = [[0]*(k + 1) for _ in range(n + 1)]\n",
    "    for i in range(0, n + 1):\n",
    "        M[i][0] = 1\n",
    "    for i in range(1, n + 1):\n",
    "        for j in range(1, k + 1):\n",
    "            M[i][j] = M[i - 1][j - 1] + M[i - 1][j]\n",
    "    return M[n][k]"
   ]
  },
  {
   "cell_type": "code",
   "execution_count": 11,
   "metadata": {},
   "outputs": [
    {
     "name": "stdout",
     "output_type": "stream",
     "text": [
      "Value: 5852925\n",
      "Duration: 0.2830028533935547 ms\n"
     ]
    }
   ],
   "source": [
    "start = time.time()\n",
    "print(f\"Value: {binom(30,8)}\")\n",
    "end = time.time()\n",
    "duration = (end - start)*1000\n",
    "print(f\"Duration: {duration} ms\")"
   ]
  },
  {
   "cell_type": "markdown",
   "metadata": {},
   "source": [
    "### Knapsack"
   ]
  },
  {
   "cell_type": "code",
   "execution_count": 12,
   "metadata": {},
   "outputs": [],
   "source": [
    "def knapsack(c, w, v):\n",
    "    \"\"\"\n",
    "    Renvoie la valeur maximum que l'on peut mettre\n",
    "    dans un sac à dos de capacité c.\n",
    "    Le ième objet a pour poids w[i] et valeur v[i].\n",
    "    \"\"\"\n",
    "    n = len(w) # nombre d'objets\n",
    "    dp = [[0]*(n + 1) for i in range(c + 1)]\n",
    "    # dp[i][j] = valeur max dans un sac de capacité i\n",
    "    # où j est le nombre d'objets autorisés\n",
    "    for i in range(1, c + 1):\n",
    "        for j in range(1, n + 1):\n",
    "            if w[j - 1] <= i:\n",
    "                x = v[j - 1] + dp[i - w[j - 1]][j - 1]\n",
    "                dp[i][j] = max(dp[i][j - 1], x)\n",
    "            else:\n",
    "                dp[i][j] = dp[i][j - 1]\n",
    "    return dp[c][n]"
   ]
  },
  {
   "cell_type": "code",
   "execution_count": 13,
   "metadata": {},
   "outputs": [
    {
     "data": {
      "text/plain": [
       "10"
      ]
     },
     "execution_count": 13,
     "metadata": {},
     "output_type": "execute_result"
    }
   ],
   "source": [
    "knapsack(7,[1,2,2,4,5],[1,4,5,2,4])"
   ]
  },
  {
   "cell_type": "code",
   "execution_count": 14,
   "metadata": {},
   "outputs": [],
   "source": [
    "def knapsack2(c, w, v):\n",
    "    n = len(w)\n",
    "    dp = [0]*(c + 1)\n",
    "    for j in range(n):\n",
    "        dp_ = dp[:] # copie de dp\n",
    "        for i in range(c + 1):\n",
    "            if w[j] <= i:\n",
    "                dp[i] = max(dp_[i], v[j] + dp_[i - w[j]])\n",
    "    return dp[-1]"
   ]
  },
  {
   "cell_type": "code",
   "execution_count": 15,
   "metadata": {},
   "outputs": [
    {
     "data": {
      "text/plain": [
       "10"
      ]
     },
     "execution_count": 15,
     "metadata": {},
     "output_type": "execute_result"
    }
   ],
   "source": [
    "knapsack2(7,[1,2,2,4,5],[1,4,5,2,4])"
   ]
  },
  {
   "cell_type": "markdown",
   "metadata": {},
   "source": [
    "## Mémoïsation"
   ]
  },
  {
   "cell_type": "markdown",
   "metadata": {},
   "source": [
    "### Fibonacci"
   ]
  },
  {
   "cell_type": "code",
   "execution_count": 16,
   "metadata": {},
   "outputs": [],
   "source": [
    "def fibo(n):\n",
    "    d = {} # d[k] contiendra le kème terme de la suite\n",
    "    def aux(k):\n",
    "        if k == 0 or k == 1:\n",
    "            return 1\n",
    "        if k not in d:\n",
    "            d[k] = aux(k - 1) + aux(k - 2)\n",
    "        return d[k]\n",
    "    return aux(n)"
   ]
  },
  {
   "cell_type": "code",
   "execution_count": 17,
   "metadata": {},
   "outputs": [
    {
     "name": "stdout",
     "output_type": "stream",
     "text": [
      "Value: 3524578\n",
      "Duration: 0.23221969604492188 ms\n"
     ]
    }
   ],
   "source": [
    "start = time.time()\n",
    "print(f\"Value: {fibo(32)}\")\n",
    "end = time.time()\n",
    "duration = (end - start)*1000\n",
    "print(f\"Duration: {duration} ms\")"
   ]
  },
  {
   "cell_type": "markdown",
   "metadata": {},
   "source": [
    "### Coefficients Binomiaux"
   ]
  },
  {
   "cell_type": "code",
   "execution_count": 18,
   "metadata": {},
   "outputs": [],
   "source": [
    "def binom(n, k):\n",
    "    d = {}\n",
    "    def aux(i, j):\n",
    "        if j == 0: return 1\n",
    "        if i == 0: return 0\n",
    "        if (i, j) not in d:\n",
    "            d[(i, j)] = aux(i - 1, j - 1) + aux(i - 1, j)\n",
    "        return d[(i, j)]\n",
    "    return aux(n, k)"
   ]
  },
  {
   "cell_type": "code",
   "execution_count": 19,
   "metadata": {},
   "outputs": [
    {
     "name": "stdout",
     "output_type": "stream",
     "text": [
      "Value: 5852925\n",
      "Duration: 0.4436969757080078 ms\n"
     ]
    }
   ],
   "source": [
    "start = time.time()\n",
    "print(f\"Value: {binom(30,8)}\")\n",
    "end = time.time()\n",
    "duration = (end - start)*1000\n",
    "print(f\"Duration: {duration} ms\")"
   ]
  },
  {
   "cell_type": "code",
   "execution_count": 20,
   "metadata": {},
   "outputs": [],
   "source": [
    "from functools import cache\n",
    "@cache\n",
    "def binom(n, k):\n",
    "    if k == 0: return 1\n",
    "    if n == 0: return 0\n",
    "    return binom(n - 1, k - 1) + binom(n - 1, k)"
   ]
  },
  {
   "cell_type": "code",
   "execution_count": 21,
   "metadata": {},
   "outputs": [
    {
     "name": "stdout",
     "output_type": "stream",
     "text": [
      "Value: 5852925\n",
      "Duration: 0.4067420959472656 ms\n"
     ]
    }
   ],
   "source": [
    "start = time.time()\n",
    "print(f\"Value: {binom(30,8)}\")\n",
    "end = time.time()\n",
    "duration = (end - start)*1000\n",
    "print(f\"Duration: {duration} ms\")"
   ]
  },
  {
   "cell_type": "markdown",
   "metadata": {},
   "source": [
    "### Knapsack"
   ]
  },
  {
   "cell_type": "code",
   "execution_count": 22,
   "metadata": {},
   "outputs": [],
   "source": [
    "def knapsack_memo(c, w, v):\n",
    "    dp = {}\n",
    "    def aux(i, j):\n",
    "        if i == 0 or j == 0:\n",
    "            return 0\n",
    "        if (i, j) not in dp:\n",
    "            dp[(i, j)] = aux(i, j - 1)\n",
    "            if w[j - 1] <= i:\n",
    "                x = v[j - 1] + aux(i - w[j - 1], j - 1)\n",
    "                dp[(i, j)] = max(dp[(i, j)], x)\n",
    "        return dp[(i, j)]\n",
    "    return aux(c, len(w))"
   ]
  },
  {
   "cell_type": "code",
   "execution_count": 23,
   "metadata": {},
   "outputs": [
    {
     "data": {
      "text/plain": [
       "10"
      ]
     },
     "execution_count": 23,
     "metadata": {},
     "output_type": "execute_result"
    }
   ],
   "source": [
    "knapsack_memo(7,[1,2,2,4,5],[1,4,5,2,4])"
   ]
  }
 ],
 "metadata": {
  "kernelspec": {
   "display_name": "Python 3 (ipykernel)",
   "language": "python",
   "name": "python3"
  },
  "language_info": {
   "codemirror_mode": {
    "name": "ipython",
    "version": 3
   },
   "file_extension": ".py",
   "mimetype": "text/x-python",
   "name": "python",
   "nbconvert_exporter": "python",
   "pygments_lexer": "ipython3",
   "version": "3.12.3"
  }
 },
 "nbformat": 4,
 "nbformat_minor": 2
}