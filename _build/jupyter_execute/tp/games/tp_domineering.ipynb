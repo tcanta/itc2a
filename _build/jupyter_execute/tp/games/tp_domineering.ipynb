{
 "cells": [
  {
   "cell_type": "markdown",
   "id": "77285a45",
   "metadata": {},
   "source": [
    "# TP : Jeu du domineering\n",
    "\n",
    "Pour programmer, vous pouvez soit utiliser Pyzo, soit [Basthon](https://notebook.basthon.fr/?from=https://raw.githubusercontent.com/tcanta/itc2a/master/eleve/tp_domineering-eleves.ipynb).\n",
    "\n",
    "Commandes Basthon :\n",
    "\n",
    "- Ctrl + Entrée : exécuter la cellule\n",
    "- Shift + Entrée : exécuter la cellule puis passer à la suivante\n",
    "- Entrée : passer en mode édition\n",
    "- Échap : sortir du mode édition\n",
    "\n",
    "Les commandes suivantes sont valables uniquement hors du mode édition :\n",
    "\n",
    "- A : créer une nouvelle cellule (en haut)\n",
    "- B : créer une nouvelle cellule (en bas)\n",
    "- D D : supprimer la cellule"
   ]
  },
  {
   "cell_type": "markdown",
   "id": "ad728803",
   "metadata": {},
   "source": [
    "## Présentation\n",
    "\n",
    "Le domineering est un jeu de plateau où le joueur 0 place un domino vertical et le joueur 1 un domino horizontal. Un joueur qui ne peut plus jouer perd.\n",
    "\n",
    "Voici un exemple de partie (de gauche à droite) où le joueur 1 gagne :\n",
    "<center><img src=https://raw.githubusercontent.com/fortierq/tikz-pdf/main/jeux/domineering/ex.png width=600></center>\n",
    "\n",
    "Une configuration est représentée par une matrice (-1 = vide, 0 = joueur 0, 1 = joueur 1)\n",
    "\n",
    ":::{admonition} Question\n",
    ":class: note\n",
    "Écrire une fonction `grille_vide(n, p)` qui renvoie une grille de taille $n \\times p$ vide (remplie de $-1$).\n",
    ":::"
   ]
  },
  {
   "cell_type": "code",
   "execution_count": 1,
   "id": "ec855d9c",
   "metadata": {
    "tags": [
     "hide-cell"
    ]
   },
   "outputs": [],
   "source": [
    "def grille_vide(n, p):\n",
    "    return [[-1 for j in range(p)] for i in range(n)]"
   ]
  },
  {
   "cell_type": "markdown",
   "id": "33caabd3",
   "metadata": {},
   "source": [
    "```python\n",
    "grille_vide(3, 4)\n",
    "```\n",
    "\n",
    "\n",
    "\n",
    "\n",
    "    [[-1, -1, -1, -1], [-1, -1, -1, -1], [-1, -1, -1, -1]]\n",
    "\n",
    "\n",
    ":::{admonition} Question\n",
    ":class: note\n",
    "\n",
    "Écrire une fonction `coups_possibles(v, joueur)` qui prend en entrée une configuration `v` et qui renvoie la liste des positions $(i, j)$ où le joueur `joueur` peut placer son domino (le joueur $0$ place un domino en position $(i, j)$ et $(i+1, j)$ et le joueur $1$ en position $(i, j)$ et $(i, j+1)$).\n",
    ":::"
   ]
  },
  {
   "cell_type": "code",
   "execution_count": 2,
   "id": "a4df8282",
   "metadata": {
    "tags": [
     "hide-cell"
    ]
   },
   "outputs": [],
   "source": [
    "def coups_possibles(v, joueur):\n",
    "    coups = []\n",
    "    for i in range(len(v)):\n",
    "        for j in range(len(v[0])):\n",
    "            if joueur == 0 and i < len(v) - 1 and v[i][j] == v[i + 1][j] == -1:\n",
    "                coups.append((i, j))        \n",
    "            if joueur == 1 and j < len(v[0]) - 1 and v[i][j] == v[i][j + 1] == -1:\n",
    "                coups.append((i, j))\n",
    "    return coups"
   ]
  },
  {
   "cell_type": "markdown",
   "id": "3569a669",
   "metadata": {},
   "source": [
    "```python\n",
    "print(coups_possibles(grille_vide(3, 4), 0))\n",
    "print(coups_possibles(grille_vide(3, 4), 1))\n",
    "```\n",
    "\n",
    "    [(0, 0), (0, 1), (0, 2), (0, 3), (1, 0), (1, 1), (1, 2), (1, 3)]\n",
    "    [(0, 0), (0, 1), (0, 2), (1, 0), (1, 1), (1, 2), (2, 0), (2, 1), (2, 2)]\n",
    "\n",
    "\n",
    ":::{admonition} Question\n",
    ":class: note\n",
    "Écrire une fonction `strategie_aleatoire(v, joueur)` qui prend en entrée une configuration `v` et qui renvoie un coup choisi au hasard parmi les coups possibles.  \n",
    "On pourra utiliser la fonction `random.choice(L)` qui renvoie un élément au hasard dans `L` (en n'oubliant pas `import random`).\n",
    ":::"
   ]
  },
  {
   "cell_type": "code",
   "execution_count": 3,
   "id": "cb20dc22",
   "metadata": {
    "tags": [
     "hide-cell"
    ]
   },
   "outputs": [],
   "source": [
    "import random\n",
    "\n",
    "def strategie_aleatoire(v, joueur):\n",
    "    coups = coups_possibles(v, joueur)\n",
    "    return random.choice(coups)"
   ]
  },
  {
   "cell_type": "markdown",
   "id": "a167bce0",
   "metadata": {},
   "source": [
    "```python\n",
    "strategie_aleatoire(grille_vide(3, 4), 0) # coup aléatoire\n",
    "```\n",
    "\n",
    "\n",
    "\n",
    "\n",
    "    (0, 3)\n",
    "\n",
    "\n",
    "\n",
    ":::{admonition} Question\n",
    ":class: note\n",
    "Écrire une fonction `placer(v, i, j, joueur)` qui prend en entrée une configuration `v`, une position $(i, j)$ et un joueur `joueur` et qui modifie `v` en plaçant le domino du joueur `joueur` à la position $(i, j)$.  \n",
    "Plus précisément, si `joueur == 0`, alors on place un domino sur les cases $(i, j)$ et $(i + 1, j)$, et si `joueur == 1`, alors on place un domino sur les cases $(i, j)$ et $(i, j + 1)$.\n",
    ":::"
   ]
  },
  {
   "cell_type": "code",
   "execution_count": 4,
   "id": "cd0cf4f2",
   "metadata": {
    "tags": [
     "hide-cell"
    ]
   },
   "outputs": [],
   "source": [
    "def placer(v, i, j, joueur):\n",
    "    v[i][j] = joueur\n",
    "    if joueur == 0:\n",
    "        v[i + 1][j] = joueur\n",
    "    else:\n",
    "        v[i][j + 1] = joueur"
   ]
  },
  {
   "cell_type": "markdown",
   "id": "f4f8a1d1",
   "metadata": {},
   "source": [
    ":::{admonition} Question\n",
    ":class: note\n",
    "Écrire une fonction `retirer(v, i, j, joueur)` qui prend en entrée une configuration `v`, une position $(i, j)$ et un joueur `joueur` et qui modifie `v` en retirant le domino du joueur `joueur` à la position $(i, j)$.\n",
    ":::"
   ]
  },
  {
   "cell_type": "code",
   "execution_count": 5,
   "id": "4e484422",
   "metadata": {
    "tags": [
     "hide-cell"
    ]
   },
   "outputs": [],
   "source": [
    "def retirer(v, i, j, joueur):\n",
    "    v[i][j] = -1\n",
    "    if joueur == 0:\n",
    "        v[i + 1][j] = -1\n",
    "    else:\n",
    "        v[i][j + 1] = -1"
   ]
  },
  {
   "cell_type": "markdown",
   "id": "f277fdb6",
   "metadata": {},
   "source": [
    ":::{admonition} Question\n",
    ":class: note\n",
    "Écrire une fonction `jeu(strategie0, strategie1, n, p)` qui prend en entrée deux stratégies et qui renvoie le joueur qui gagne.  \n",
    "`strategie0(v, 0)` renvoie un couple $(i, j)$ correspondant au coup du joueur 0, et `strategie1(v, 1)` renvoie le coup du joueur 1.  \n",
    "Il faut donc partir d'une grille de taille $n\\times p$ et faire jouer les joueurs chacun son tour avec leur stratégie, jusqu'à ce qu'un joueur ne puisse plus jouer (qui est donc le perdant).\n",
    ":::"
   ]
  },
  {
   "cell_type": "code",
   "execution_count": 6,
   "id": "2ac451ba",
   "metadata": {
    "tags": [
     "hide-cell"
    ]
   },
   "outputs": [],
   "source": [
    "def jeu(strategie0, strategie1, n, p):\n",
    "    v = grille_vide(n, p)\n",
    "    joueur = 0\n",
    "    while coups_possibles(v, joueur) != []:\n",
    "        if joueur == 0:\n",
    "            i, j = strategie0(v, 0)\n",
    "        else:\n",
    "            i, j = strategie1(v, 1)\n",
    "        placer(v, i, j, joueur)\n",
    "        joueur = 1 - joueur\n",
    "    return 1 - joueur"
   ]
  },
  {
   "cell_type": "markdown",
   "id": "46ec10c7",
   "metadata": {},
   "source": [
    "```python\n",
    "jeu(strategie_aleatoire, strategie_aleatoire, 3, 4) # 0 ou 1\n",
    "```\n",
    "\n",
    "\n",
    "\n",
    "\n",
    "    0\n",
    "\n",
    "\n",
    "\n",
    ":::{admonition} Question\n",
    ":class: note\n",
    "Écrire une fonction `statistiques(strategie0, strategie1, n, p, nb_parties)` qui prend en entrée deux stratégies, qui appelle `nb_parties` fois la fonction `jeu` et qui renvoie le nombre de parties gagnées par chaque joueur.  \n",
    "Tester avec différentes tailles initiales de la grille.\n",
    ":::"
   ]
  },
  {
   "cell_type": "code",
   "execution_count": 7,
   "id": "ea38a3b2",
   "metadata": {
    "tags": [
     "hide-cell"
    ]
   },
   "outputs": [],
   "source": [
    "def statistiques(strategie1, strategie2, n, p, nb_parties):\n",
    "    victoires = [0, 0]\n",
    "    for i in range(nb_parties):\n",
    "        gagnant = jeu(strategie1, strategie2, n, p)\n",
    "        victoires[gagnant] += 1\n",
    "    return victoires"
   ]
  },
  {
   "cell_type": "markdown",
   "id": "ed5076b0",
   "metadata": {},
   "source": [
    "```python\n",
    "statistiques(strategie_aleatoire, strategie_aleatoire, 3, 10, 1000)\n",
    "```\n",
    "\n",
    "\n",
    "\n",
    "\n",
    "    [388, 612]\n",
    "\n",
    "\n",
    "\n",
    ":::{admonition} Question\n",
    ":class: note\n",
    "Écrire une fonction `h1(v)` renvoyant la différence entre le nombre de cases libres pour le joueur 0 et le nombre de cases libres pour le joueur 1. On renverra $\\infty$ (`float('inf')`) si le joueur 0 a gagné et $-\\infty$ (`float('-inf')`) si le joueur 1 a gagné.\n",
    ":::"
   ]
  },
  {
   "cell_type": "code",
   "execution_count": 8,
   "id": "79aed86f",
   "metadata": {
    "tags": [
     "hide-cell"
    ]
   },
   "outputs": [],
   "source": [
    "def h1(v):\n",
    "    if len(coups_possibles(v, 0)) == 0:\n",
    "        return -float('inf')\n",
    "    if len(coups_possibles(v, 1)) == 0:\n",
    "        return float('inf')\n",
    "    return len(coups_possibles(v, 0)) - len(coups_possibles(v, 1))"
   ]
  },
  {
   "cell_type": "markdown",
   "id": "3b44df31",
   "metadata": {},
   "source": [
    "```python\n",
    "h1(grille_vide(3, 2))\n",
    "```\n",
    "\n",
    "\n",
    "\n",
    "\n",
    "    1\n",
    "\n",
    "\n",
    "\n",
    "L'**algorithme min-max** considère, depuis la position en cours, toutes les positions atteignables après $p$ coups et va conserver celle ayant la meilleure heuristique en considérant des choix optimaux des deux joueurs (par rapport à l'heuristique).\n",
    "\n",
    "On donne récursivement une valeur à chaque sommet `v` de l'arbre :  \n",
    "- si `v` est à profondeur $0$, on renvoie l'heuristique de `v`\n",
    "- sinon, si le joueur $0$ doit jouer, on renvoie la valeur maximum des successeurs de `v` (le joueur $0$ veut maximiser sa valeur)\n",
    "- sinon, si le joueur $1$ doit jouer, on renvoie la valeur minimum des successeurs de `v` (le joueur $1$ veut minimiser la valeur de son adversaire)\n",
    "\n",
    "On choisit le coup qui donne la meilleure valeur parmi les coups possibles.\n",
    "\n",
    "<center><img src=https://raw.githubusercontent.com/fortierq/tikz-pdf/main/jeux/domineering/arbre/arbre3.png width=100%></center>\n",
    "\n",
    ":::{admonition} Question\n",
    ":class: note\n",
    "Écrire une fonction `minmax(v, joueur, profondeur, h)` qui prend en entrée une configuration `v`, un joueur `joueur`, une profondeur `profondeur` et une fonction heuristique `h` et qui renvoie un couple `(valeur, coup)` où `coup` est le meilleur coup à jouer et `valeur` est sa valeur.\n",
    ":::\n",
    "\n",
    "```python\n",
    "def minmax(v, joueur, profondeur, h): # renvoie (valeur, coup)\n",
    "    coups = coups_possibles(v, joueur)\n",
    "    # si la profondeur est 0 ou s'il n'y a pas de coup possible, renvoyer (h(v), None)\n",
    "    else:\n",
    "        if joueur == 0:\n",
    "            # stocker la meilleure valeur et le meilleur coup dans des variables\n",
    "            for coup in coups:\n",
    "                # jouer un coup (avec la fonction placer)\n",
    "                # appel récursif pour obtenir la valeur du coup\n",
    "                # retirer le coup\n",
    "                # si la valeur du coup est meilleure que la meilleure valeur, mettre à jour la meilleure valeur et le meilleur coup\n",
    "            # renvoyer la meilleure valeur et le meilleur coup\n",
    "        else:\n",
    "            # de même pour le joueur 1\n",
    "```"
   ]
  },
  {
   "cell_type": "code",
   "execution_count": 9,
   "id": "a719ea89",
   "metadata": {
    "tags": [
     "hide-cell"
    ]
   },
   "outputs": [],
   "source": [
    "def minmax(v, joueur, profondeur, h):\n",
    "    coups = coups_possibles(v, joueur)\n",
    "    if coups == [] or profondeur == 0:\n",
    "        return h(v), None\n",
    "    else:\n",
    "        if joueur == 0:\n",
    "            meilleur_coup = coups[0]\n",
    "            meilleur_score = -float('inf')\n",
    "            for coup in coups:\n",
    "                placer(v, coup[0], coup[1], joueur)\n",
    "                score, _ = minmax(v, 1 - joueur, profondeur - 1, h)\n",
    "                retirer(v, coup[0], coup[1], joueur)\n",
    "                if score > meilleur_score:\n",
    "                    meilleur_score = score\n",
    "                    meilleur_coup = coup\n",
    "            return meilleur_score, meilleur_coup\n",
    "        else:\n",
    "            meilleur_coup = coups[0]\n",
    "            meilleur_score = float('inf')\n",
    "            for coup in coups:\n",
    "                placer(v, coup[0], coup[1], joueur)\n",
    "                score, _ = minmax(v, 1 - joueur, profondeur - 1, h)\n",
    "                retirer(v, coup[0], coup[1], joueur)\n",
    "                if score < meilleur_score:\n",
    "                    meilleur_score = score\n",
    "                    meilleur_coup = coup\n",
    "            return meilleur_score, meilleur_coup"
   ]
  },
  {
   "cell_type": "markdown",
   "id": "a1165550",
   "metadata": {},
   "source": [
    ":::{admonition} Question\n",
    ":class: note\n",
    "En déduire une fonction `strategie_minmax(v, joueur)` qui prend en entrée une configuration `v` et un joueur `joueur` et qui renvoie le meilleur coup à jouer selon l'algorithme min-max avec l'heuristique `h1` et, par exemple, une profondeur de 2.  \n",
    "Tester avec la fonction ci-dessous pour vérifier que la stratégie min-max est meilleure que la stratégie aléatoire.\n",
    ":::"
   ]
  },
  {
   "cell_type": "code",
   "execution_count": 10,
   "id": "b2883f81",
   "metadata": {
    "tags": [
     "hide-cell"
    ]
   },
   "outputs": [],
   "source": [
    "def strategie_minmax(v, joueur):\n",
    "    _, coup = minmax(v, joueur, 2, h1)\n",
    "    return coup"
   ]
  },
  {
   "cell_type": "markdown",
   "id": "c57a2183",
   "metadata": {},
   "source": [
    "```python\n",
    "statistiques(strategie_minmax, strategie_aleatoire, 5, 5, 10)\n",
    "```\n",
    "\n",
    "\n",
    "\n",
    "\n",
    "    [10, 0]"
   ]
  }
 ],
 "metadata": {
  "jupytext": {
   "text_representation": {
    "extension": ".md",
    "format_name": "myst",
    "format_version": 0.13,
    "jupytext_version": "1.16.4"
   }
  },
  "kernelspec": {
   "display_name": "Python 3 (ipykernel)",
   "language": "python",
   "name": "python3"
  },
  "language_info": {
   "codemirror_mode": {
    "name": "ipython",
    "version": 3
   },
   "file_extension": ".py",
   "mimetype": "text/x-python",
   "name": "python",
   "nbconvert_exporter": "python",
   "pygments_lexer": "ipython3",
   "version": "3.12.3"
  },
  "source_map": [
   12,
   29,
   45,
   49,
   68,
   79,
   97,
   104,
   124,
   132,
   139,
   147,
   156,
   169,
   189,
   197,
   216,
   224,
   272,
   301,
   309,
   314
  ]
 },
 "nbformat": 4,
 "nbformat_minor": 5
}