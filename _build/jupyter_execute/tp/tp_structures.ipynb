{
 "cells": [
  {
   "cell_type": "markdown",
   "id": "12ed9715",
   "metadata": {},
   "source": [
    "# TP: Dictionnaires\n",
    "\n",
    "Pour programmer, vous pouvez soit utiliser Pyzo, soit [Basthon](https://notebook.basthon.fr/?from=https://raw.githubusercontent.com/tcanta/itc2a/master/eleve/tp_structures-eleves.ipynb).\n",
    "\n",
    "Commandes Basthon :\n",
    "\n",
    "- Ctrl + Entrée : exécuter la cellule\n",
    "- Shift + Entrée : exécuter la cellule puis passer à la suivante\n",
    "- Entrée : passer en mode édition\n",
    "- Échap : sortir du mode édition\n",
    "\n",
    "Les commandes suivantes sont valables uniquement hors du mode édition :\n",
    "\n",
    "- A : créer une nouvelle cellule (en haut)\n",
    "- B : créer une nouvelle cellule (en bas)\n",
    "- D D : supprimer la cellule"
   ]
  },
  {
   "cell_type": "markdown",
   "id": "416709c7",
   "metadata": {},
   "source": [
    "## Internationalisation"
   ]
  },
  {
   "cell_type": "markdown",
   "id": "85a941ca",
   "metadata": {},
   "source": [
    ":::{admonition} Exercice 1\n",
    ":class: note\n",
    "\n",
    "1. Définir un dictionnaire `fr_to_en` contenant chaque jour de la semaine (en français) avec sa traduction en anglais.\n",
    "2. Vérifier que `fr_to_en[\"lundi\"]` contient `\"monday\"`.\n",
    "3. Ajouter les mois avec leurs traductions.\n",
    "\n",
    ":::\n",
    "\n",
    "\n",
    "**Solution**"
   ]
  },
  {
   "cell_type": "code",
   "execution_count": 1,
   "id": "91ceb0d9",
   "metadata": {
    "tags": [
     "hide-cell"
    ]
   },
   "outputs": [
    {
     "name": "stdout",
     "output_type": "stream",
     "text": [
      "Monday\n"
     ]
    }
   ],
   "source": [
    "# 1.\n",
    "fr_to_en = {\"lundi\": \"Monday\", \"mardi\": \"Tuesday\", \"mercredi\": \"Wednesday\", \"jeudi\": \"Thursday\", \"vendredi\": \"Friday\", \"samedi\": \"Saturday\", \"dimanche\": \"Sunday\"}\n",
    "\n",
    "# 2.\n",
    "print(fr_to_en[\"lundi\"])\n",
    "\n",
    "# 3. On peut utiliser une boucle for pour simplifier\n",
    "for m1, m2 in [(\"janvier\", \"January\"), (\"février\", \"February\"), (\"mars\", \"March\"), (\"avril\", \"April\"), (\"mai\", \"May\"), (\"juin\", \"June\"), (\"juillet\", \"July\"), (\"août\", \"August\"), (\"septembre\", \"September\"), (\"octobre\", \"October\"), (\"novembre\", \"November\"), (\"décembre\", \"December\")]:\n",
    "    fr_to_en[m1] = m2"
   ]
  },
  {
   "cell_type": "markdown",
   "id": "b728b1a4",
   "metadata": {},
   "source": [
    "---"
   ]
  },
  {
   "cell_type": "markdown",
   "id": "611e2a07",
   "metadata": {},
   "source": [
    "## Élément majoritaire"
   ]
  },
  {
   "cell_type": "markdown",
   "id": "0a359db4",
   "metadata": {},
   "source": [
    ":::{admonition} Exercice 2\n",
    ":class: note\n",
    "\n",
    "Écrire une fonction `majoritaire(L)` renvoyant l'élément apparaissant le plus souvent dans la liste `L`, sans utiliser de dictionnaire. Quelle est sa complexité ?\n",
    "\n",
    ":::\n",
    "\n",
    "**Solution**"
   ]
  },
  {
   "cell_type": "code",
   "execution_count": 2,
   "id": "21a2666a",
   "metadata": {
    "tags": [
     "hide-cell"
    ]
   },
   "outputs": [],
   "source": [
    "# en utilisant count :\n",
    "def majoritaire(L):\n",
    "    m = L[0] # va contenir l'élément majoritaire\n",
    "    for e in L:\n",
    "        if L.count(e) > L.count(m):\n",
    "            m = e\n",
    "    return m\n",
    "\n",
    "# sans utiliser count :\n",
    "def majoritaire(L):\n",
    "    m, n = None, 0 # va contenir l'élément majoritaire et son nombre d'occurences\n",
    "    for e in L:\n",
    "        n = 0\n",
    "        for f in L:\n",
    "            if f == e:\n",
    "                n += 1\n",
    "        if n > L.count(m):\n",
    "            m = e\n",
    "    return m\n",
    "\n",
    "# dans les deux cas, la complexité est O(n^2), où n est la longueur de la liste L"
   ]
  },
  {
   "cell_type": "markdown",
   "id": "6acb604d",
   "metadata": {},
   "source": [
    "---\n",
    "\n",
    ":::{admonition} Exercice 3\n",
    ":class: note\n",
    "Écrire une fonction `majoritaire2(L)` renvoyant l'élément apparaissant le plus souvent dans la liste `L`, en utilisant un dictionnaire pour avoir une meilleure complexité que la fonction précédente.\n",
    ":::\n",
    "\n",
    "**Solution**"
   ]
  },
  {
   "cell_type": "code",
   "execution_count": 3,
   "id": "543d59da",
   "metadata": {
    "tags": [
     "hide-cell"
    ]
   },
   "outputs": [],
   "source": [
    "# Fonction écrite en cours. La complexité est O(n), où n est la longueur de la liste L.\n",
    "\n",
    "def majoritaire2(L):\n",
    "    d = {}\n",
    "    for e in L:\n",
    "        if e in d:\n",
    "            d[e] += 1\n",
    "        else:\n",
    "            d[e] = 1\n",
    "    m = L[0]\n",
    "    for e in d:\n",
    "        if d[e] > d[m]:\n",
    "            m = e\n",
    "    return m"
   ]
  },
  {
   "cell_type": "code",
   "execution_count": 4,
   "id": "fa2fc5e0",
   "metadata": {},
   "outputs": [
    {
     "data": {
      "text/plain": [
       "1"
      ]
     },
     "execution_count": 4,
     "metadata": {},
     "output_type": "execute_result"
    }
   ],
   "source": [
    "majoritaire2([9, 1, 9, 0, 1, 1, 0])"
   ]
  },
  {
   "cell_type": "markdown",
   "id": "cad7aa6b",
   "metadata": {},
   "source": [
    "---"
   ]
  },
  {
   "cell_type": "markdown",
   "id": "8787872b",
   "metadata": {},
   "source": [
    "## Anagramme"
   ]
  },
  {
   "cell_type": "markdown",
   "id": "ea01668f",
   "metadata": {},
   "source": [
    "On rappelle qu'on peut parcourir les lettres d'une chaîne de caractères avec une boucle  for   :"
   ]
  },
  {
   "cell_type": "code",
   "execution_count": 5,
   "id": "eb3a4f2a",
   "metadata": {},
   "outputs": [
    {
     "name": "stdout",
     "output_type": "stream",
     "text": [
      "l\n",
      "a\n",
      "m\n",
      "a\n",
      "r\n",
      "t\n",
      "i\n",
      "n\n",
      "l\n",
      "a\n",
      "m\n",
      "a\n",
      "r\n",
      "t\n",
      "i\n",
      "n\n"
     ]
    }
   ],
   "source": [
    "s = \"lamartin\"\n",
    "for c in s: # en parcourant directement les caractères\n",
    "    print(c)\n",
    "for i in range(len(s)): # en parcourant les indices\n",
    "    print(s[i])"
   ]
  },
  {
   "cell_type": "markdown",
   "id": "0c0a5f01",
   "metadata": {},
   "source": [
    ":::{admonition} Exercice 4\n",
    ":class: note\n",
    "Écrire une fonction `anagramme(m1, m2)` qui teste si deux mots (des chaînes de caractères) sont des anagrammes, c'est-à-dire s'ils contiennent les mêmes lettres (avec le même nombre d'occurence de chaque lettre).  \n",
    "Cette fonction doit être en O($n_1 + n_2$), où $n_1$, $n_2$ sont les tailles de `m1`, `m2`.\n",
    ":::"
   ]
  },
  {
   "cell_type": "code",
   "execution_count": 6,
   "id": "697cfb9f",
   "metadata": {
    "tags": [
     "hide-cell"
    ]
   },
   "outputs": [],
   "source": [
    "def anagramme(m1, m2):\n",
    "    d1, d2 = {}, {}\n",
    "    for c in m1: # O(n1)\n",
    "        if c in d1:\n",
    "            d1[c] += 1\n",
    "        else:\n",
    "            d1[c] = 1\n",
    "    for c in m2: # O(n1)\n",
    "        if c in d2:\n",
    "            d2[c] += 1\n",
    "        else:\n",
    "            d2[c] = 1\n",
    "    return d1 == d2 # O(n1)"
   ]
  },
  {
   "cell_type": "code",
   "execution_count": 7,
   "id": "26442c6d",
   "metadata": {},
   "outputs": [
    {
     "name": "stdout",
     "output_type": "stream",
     "text": [
      "True\n",
      "False\n"
     ]
    }
   ],
   "source": [
    "print(anagramme(\"ordre\", \"dorer\"))\n",
    "print(anagramme(\"ordre\", \"oreo\"))"
   ]
  },
  {
   "cell_type": "markdown",
   "id": "b8a9e55c",
   "metadata": {},
   "source": [
    "---"
   ]
  },
  {
   "cell_type": "markdown",
   "id": "4fb69ea9",
   "metadata": {},
   "source": [
    "## Trie (arbre préfixe)"
   ]
  },
  {
   "cell_type": "markdown",
   "id": "96503782",
   "metadata": {},
   "source": [
    "### Arbres enracinés\n",
    "\n",
    "Un **arbre** est un graphe ayant deux propriétés supplémentaires :  \n",
    "- **Connexe** : il existe un chemin entre deux sommets quelconques  \n",
    "- **Acyclique** : il ne contient pas de cycle\n",
    "\n",
    "On considère souvent des **arbres enracinés**, c'est-à-dire ayant un sommet particulier appelé la **racine**, qu'on représente en haut de l'arbre :\n",
    "\n",
    "<center><img src=https://raw.githubusercontent.com/fortierq/tikz-pdf/main/tree/ntree/ntree.png width=70%><br>\n",
    "Exemple d'arbre, ayant pour racine 0</center>\n",
    "\n",
    "Chaque sommet différent de la racine possède un **père**, qui est le sommet juste au dessus. Sur l'exemple, 0 est le père de 1, 1 est le père de 7...\n",
    "\n",
    "Si p est le père de v, on dit aussi que v est un **fils** de p. Chaque sommet a au plus un père, mais peut avoir un nombre quelconque de fils.\n",
    "\n",
    "---\n",
    "\n",
    "### Trie\n",
    "\n",
    "Un **trie** sert à stocker un ensemble de mots sous forme d'arbre. Chaque arête est etiquetée par une lettre et les mots appartenant au trie sont ceux obtenus le long d'un chemin de la racine à une arête étiquetée par $.  \n",
    "Par exemple, l'arbre suivant contient les mots cap, copie, copier, copies, cor, corde, corne, correct, correcte :\n",
    "\n",
    "<center><img src=https://github.com/fortierq/cours/blob/main/python/dict/tp/trie.png?raw=true width=60%></center>\n",
    "\n",
    "**Remarque** : les tries sont utilisés pour la complétion automatique (proposition de complétion d'un mot en cours d'écriture, par exemple sur téléphone), pour la correction orthographique...\n",
    "\n",
    "Pour stocker un trie, on utilisera un dictionnaire où chaque clé est l'étiquette d'une arête sortant de la racine et la valeur est le dictionnaire correspondant au fils. Une feuille (sommet sans fils) est représentée par le dictionnaire vide.  \n",
    "\n",
    "Par exemple, le trie contenant l'ensemble de mots $\\{$ car, cat, cd, ok $\\}$ est représenté par :"
   ]
  },
  {
   "cell_type": "code",
   "execution_count": 8,
   "id": "6a247a9a",
   "metadata": {},
   "outputs": [
    {
     "data": {
      "text/plain": [
       "{'c': {'a': {'r': {'$': {}}, 't': {'$': {}}}, 'd': {'$': {}}},\n",
       " 'o': {'k': {'$': {}}}}"
      ]
     },
     "execution_count": 8,
     "metadata": {},
     "output_type": "execute_result"
    }
   ],
   "source": [
    "trie_ex = {\n",
    "    \"c\" : {\n",
    "        \"a\" : {\n",
    "            \"r\" : { \"$\" : {} },\n",
    "            \"t\" : { \"$\" : {} }\n",
    "        },\n",
    "        \"d\" : { \"$\" : {} }\n",
    "    },\n",
    "    \"o\" : {\n",
    "        \"k\" : { \"$\" : {} }\n",
    "    }\n",
    "}\n",
    "trie_ex"
   ]
  },
  {
   "cell_type": "markdown",
   "id": "e357cebd",
   "metadata": {},
   "source": [
    ":::{admonition} Exercice 5\n",
    ":class: note\n",
    "1. Dessiner le trie contenant les mots art, axe, set.  \n",
    "2. Définir ce trie sous forme d'un dictionnaire.\n",
    ":::"
   ]
  },
  {
   "cell_type": "code",
   "execution_count": 9,
   "id": "a7327e01",
   "metadata": {
    "tags": [
     "hide-cell"
    ]
   },
   "outputs": [],
   "source": [
    "trie = {\n",
    "    \"a\": {\n",
    "        \"r\": {\n",
    "            \"t\": { \"$\" : {} },\n",
    "        },\n",
    "        \"x\": {\n",
    "            \"e\": { \"$\" : {} },\n",
    "        },\n",
    "    },\n",
    "    \"s\": {\n",
    "        \"e\": {\n",
    "            \"t\": { \"$\" : {} },\n",
    "        },\n",
    "    },\n",
    "}"
   ]
  },
  {
   "cell_type": "markdown",
   "id": "29c4e3fe",
   "metadata": {},
   "source": [
    "---\n",
    ":::{admonition} Exercice 6\n",
    ":class: note\n",
    "Écrire une fonction `trie_size(trie)` pour afficher le nombre de mots appartenant à un trie. Pour cela, on parcourt récursivement le trie en comptant le nombre de $.\n",
    ":::\n",
    "\n",
    "```python\n",
    "def trie_size(trie):\n",
    "    n = 0 # compte le nombre de $\n",
    "    for k in trie:\n",
    "        ...\n",
    "    return n\n",
    "```"
   ]
  },
  {
   "cell_type": "code",
   "execution_count": 10,
   "id": "5c00acaa",
   "metadata": {
    "tags": [
     "hide-cell"
    ]
   },
   "outputs": [],
   "source": [
    "def trie_size(trie):\n",
    "    n = 0\n",
    "    for k in trie:\n",
    "        if k == '$':\n",
    "            n += 1\n",
    "        else:\n",
    "            n += trie_size(trie[k])\n",
    "    return n"
   ]
  },
  {
   "cell_type": "code",
   "execution_count": 11,
   "id": "5493e4a1",
   "metadata": {},
   "outputs": [
    {
     "data": {
      "text/plain": [
       "4"
      ]
     },
     "execution_count": 11,
     "metadata": {},
     "output_type": "execute_result"
    }
   ],
   "source": [
    "trie_size(trie_ex)"
   ]
  },
  {
   "cell_type": "markdown",
   "id": "58ed700e",
   "metadata": {},
   "source": [
    "---\n",
    ":::{admonition} Exercice 7\n",
    ":class: note\n",
    "Écrire une fonction `trie_add(trie, m)` pour ajouter un mot `m` dans un trie. On pourra compléter le code ci-dessous.\n",
    ":::\n",
    "\n",
    "```python\n",
    "def trie_add(trie, m):\n",
    "    for c in m: # parcours des lettres c de m\n",
    "        if ...: # s'il n'y a pas d'arête sortante de trie étiquetée par c\n",
    "            ... # créer une nouvelle association (c, dictionnaire vide)\n",
    "        trie = trie[c] # descendre dans l'arbre suivant la lettre c\n",
    "    ... # ajouter un '$' à la fin\n",
    "```"
   ]
  },
  {
   "cell_type": "code",
   "execution_count": 12,
   "id": "0de3f05a",
   "metadata": {
    "tags": [
     "hide-cell"
    ]
   },
   "outputs": [],
   "source": [
    "def trie_add(trie, m):\n",
    "    for c in m:\n",
    "        if c not in trie:\n",
    "            trie[c] = dict()\n",
    "        trie = trie[c]\n",
    "    trie['$'] = dict()"
   ]
  },
  {
   "cell_type": "code",
   "execution_count": 13,
   "id": "b987e787",
   "metadata": {},
   "outputs": [
    {
     "data": {
      "text/plain": [
       "{'a': {'r': {'b': {'r': {'e': {'$': {}}}}, 'e': {'t': {'e': {'$': {}}}}}}}"
      ]
     },
     "execution_count": 13,
     "metadata": {},
     "output_type": "execute_result"
    }
   ],
   "source": [
    "trie = {}\n",
    "trie_add(trie, \"arbre\")\n",
    "trie_add(trie, \"arete\")\n",
    "trie"
   ]
  },
  {
   "cell_type": "markdown",
   "id": "b1dc3c18",
   "metadata": {},
   "source": [
    "---\n",
    "\n",
    ":::{admonition} Exercice 8\n",
    ":class: note\n",
    "Écrire une fonction `trie_print(trie)` pour afficher les mots `m` appartenant à un trie. Vérifier avec l'exemple précédent.  \n",
    "On pourra utiliser une fonction auxiliaire récursive `aux(t, m)` qui s'appelle récursivement sur chaque noeud `t` du trie, en conservant les lettres déjà parcourues dans la chaîne de caractères `m`.\n",
    ":::\n",
    "\n",
    "```python\n",
    "def trie_print(trie):\n",
    "    def aux(t, m):\n",
    "        ...\n",
    "    aux(trie, \"\")\n",
    "```"
   ]
  },
  {
   "cell_type": "code",
   "execution_count": 14,
   "id": "e0ca8211",
   "metadata": {
    "tags": [
     "hide-cell"
    ]
   },
   "outputs": [],
   "source": [
    "def trie_print(trie):\n",
    "    def aux(t, m):\n",
    "        for k in t:\n",
    "            if k == '$':\n",
    "                print(m)\n",
    "            else:\n",
    "                aux(t[k], m + k)\n",
    "    aux(trie, \"\")"
   ]
  },
  {
   "cell_type": "code",
   "execution_count": 15,
   "id": "3b70d31d",
   "metadata": {},
   "outputs": [
    {
     "name": "stdout",
     "output_type": "stream",
     "text": [
      "car\n",
      "cat\n",
      "cd\n",
      "ok\n"
     ]
    }
   ],
   "source": [
    "trie_print(trie_ex)"
   ]
  },
  {
   "cell_type": "markdown",
   "id": "c8a85c9b",
   "metadata": {},
   "source": [
    "---\n",
    "\n",
    ":::{admonition} Exercice 9\n",
    ":class: note\n",
    "Écrire une fonction `trie_has(trie, m)` pour tester si `m` appartient à un trie.\n",
    ":::"
   ]
  },
  {
   "cell_type": "code",
   "execution_count": 16,
   "id": "0a7c2f1a",
   "metadata": {
    "tags": [
     "hide-cell"
    ]
   },
   "outputs": [],
   "source": [
    "def trie_has(trie, mot):\n",
    "    def aux(t, m, i): # t est le sous-arbre, m est le mot recherché, i est l'indice de la lettre courante\n",
    "        if i == len(m):\n",
    "            return '$' in t\n",
    "        if m[i] not in t:\n",
    "            return False\n",
    "        return aux(t[m[i]], m, i + 1)\n",
    "    return aux(trie, mot, 0)"
   ]
  },
  {
   "cell_type": "code",
   "execution_count": 17,
   "id": "f1bd08bc",
   "metadata": {},
   "outputs": [
    {
     "name": "stdout",
     "output_type": "stream",
     "text": [
      "False\n",
      "True\n"
     ]
    }
   ],
   "source": [
    "print(trie_has(trie_ex, \"carte\"))\n",
    "print(trie_has(trie_ex, \"car\"))"
   ]
  },
  {
   "cell_type": "markdown",
   "id": "ece3e68d",
   "metadata": {},
   "source": [
    "---\n",
    "\n",
    "**Compléments :**\n",
    "## Fonctions de hachage\n",
    "\n",
    "De manière informelle, on dit qu'une fonction $h : X \\longrightarrow Y$ est une **fonction de hachage** si $X$ est un ensemble de grande taille (généralement infini) et $Y$ est un ensemble fini (souvent un ensemble d'entiers).  \n",
    "L'intérêt d'une fonction de hachage est de transformer un élément \"complexe\" $x \\in X$ (par exemple, une image, un film...) en une empreinte $h(x)$ qui soit plus simple à manipuler et qui utilise moins d'espace mémoire.\n",
    "\n",
    "Quelques propriétés souhaitables, selon le contexte, sur une fonction de hachage :  \n",
    "- Facilement calculable : pouvoir calculer $h(x)$ en O(1), par exemple.  \n",
    "- Difficile à inverser : étant donné un $y$, il doit être impossible en pratique (c'est-à-dire prendre un temps extrêment long - typiquement une complexité exponentielle) de trouver un $x$ tel que $h(x) = y$.  \n",
    "- Résistance aux collisions : il doit être impossible en pratique de trouver $x, x' \\in X$ tels que $h(x) = h(x')$.\n",
    "\n",
    "Voici quelques applications possibles des fonctions de hachage :  \n",
    "- Table de hachage : c'est une implémentation possible de dictionnaire (voir cours).  \n",
    "- Stockage de mot de passe : au lieu de mémoriser un mot de passe en clair sur un ordinateur ou une base de donnée (qui peut être compromis), on conserve son empreinte par une fonction de hachage.  \n",
    "- Signature numérique : ajout d'une empreinte à un email permettant de garantir l'identité de son expéditeur.  \n",
    "- Checksum : vérifier qu'un fichier a été téléchargé sans erreur, en comparant son empreinte à l'empreinte originale.\n",
    "\n",
    "\n",
    "### Checksum\n",
    "\n",
    "Une des applications des fonctions de hachage consiste à vérifier l'intégrité d'un fichier après l'avoir téléchargé (pour détecter d'éventuelles erreurs de transmission). Pour cela, on calcule une empreinte (*checksum*) du fichier téléchargé que l'on compare avec l'empreinte du fichier original.\n",
    "\n",
    "Dans la suite, nous implémentons un algorithme de checksum très simple (mot de parité) sur une chaîne de caractères.\n",
    "\n",
    "Dans la suite, on utilisera `ord(c)` qui renvoie le code Unicode d'un caractère `c`.\n",
    "\n",
    ":::{admonition} Exercice 10\n",
    ":class: note\n",
    "Quel est le code Unicode de `a` ? de `z` ?\n",
    ":::"
   ]
  },
  {
   "cell_type": "code",
   "execution_count": 18,
   "id": "76c061c6",
   "metadata": {
    "tags": [
     "hide-cell"
    ]
   },
   "outputs": [
    {
     "data": {
      "text/plain": [
       "122"
      ]
     },
     "execution_count": 18,
     "metadata": {},
     "output_type": "execute_result"
    }
   ],
   "source": [
    "ord('a') # 97\n",
    "ord('z') # 122"
   ]
  },
  {
   "cell_type": "markdown",
   "id": "80065c17",
   "metadata": {},
   "source": [
    "---\n",
    "\n",
    ":::{admonition} Exercice 11\n",
    ":class: note\n",
    "Écrire une fonction `code(s)` renvoyant une liste `L` telle que `L[i]` soit le code Unicode de `s[i]`.\n",
    ":::"
   ]
  },
  {
   "cell_type": "code",
   "execution_count": 19,
   "id": "d4b4c30b",
   "metadata": {
    "tags": [
     "hide-cell"
    ]
   },
   "outputs": [],
   "source": [
    "def code(s):\n",
    "    L = []\n",
    "    for c in s:\n",
    "        L.append(ord(c))\n",
    "    return L"
   ]
  },
  {
   "cell_type": "code",
   "execution_count": 20,
   "id": "a03602a8",
   "metadata": {},
   "outputs": [
    {
     "data": {
      "text/plain": [
       "[108, 97, 109, 97, 114, 116, 105, 110]"
      ]
     },
     "execution_count": 20,
     "metadata": {},
     "output_type": "execute_result"
    }
   ],
   "source": [
    "code(\"lamartin\")"
   ]
  },
  {
   "cell_type": "markdown",
   "id": "4fadf624",
   "metadata": {},
   "source": [
    "Si $a$ est un entier, on note $a_i$ le $i$ème bit de $a$ en base $2$. Le XOR de deux entiers $x$ et $y$ est un entier $z$ tel que $z_i = 1$ si et seulement si $x_i = 1$ ou $y_i = 1$, mais pas les deux. Par exemple, le XOR de $9 = 1001_2$ et $5 = 0101_2$ est $12 = 1100_2$.  \n",
    "En Python, le XOR est obtenu par `x^y`.\n",
    "\n",
    ":::{admonition} Exercice 12\n",
    ":class: note\n",
    "Sans ordinateur, convertir $11$ et $6$ en base $2$ puis calculer leur XOR. Vérifier ensuite avec Python.\n",
    ":::"
   ]
  },
  {
   "cell_type": "code",
   "execution_count": 21,
   "id": "4f4f7084",
   "metadata": {
    "tags": [
     "hide-cell"
    ]
   },
   "outputs": [],
   "source": [
    "def checksum(s):\n",
    "    from functools import reduce\n",
    "    return reduce(lambda x, y: x^y, map(ord, s))\n",
    "\n",
    "# Est-ce le code le plus clair ? Pas quand on utilise pas les lambda expressions régulièrement..."
   ]
  },
  {
   "cell_type": "code",
   "execution_count": 22,
   "id": "08a65794",
   "metadata": {},
   "outputs": [
    {
     "data": {
      "text/plain": [
       "13"
      ]
     },
     "execution_count": 22,
     "metadata": {},
     "output_type": "execute_result"
    }
   ],
   "source": [
    "checksum(\"martin\")"
   ]
  },
  {
   "cell_type": "markdown",
   "id": "243b453b",
   "metadata": {},
   "source": [
    "---\n",
    "### Recherche de collisions\n",
    "\n",
    "Une des propriétés désirable sur une fonction de hachage est d'être résistante aux collisions : il doit être très difficile en pratique de trouver $x, x' \\in X$ tels que $h(x) = h(x')$. Sinon, il serait possible pour un attaquant d'envoyer un message en lui attribuant une signature d'une autre personne, par exemple.  \n",
    "MD5 est une fonction de hachage célèbre qui n'est plus considérée comme sûre : des collisions MD5 ont notamment été utilisées [par un malware qui a touché l'Iran](https://en.wikipedia.org/wiki/Flame_(malware)).  \n",
    "Dans la suite, nous cherchons des collisions partielles pour MD5.\n",
    "\n",
    "Voici un exemple d'utilisation de MD5 :"
   ]
  },
  {
   "cell_type": "code",
   "execution_count": 23,
   "id": "844e532d",
   "metadata": {},
   "outputs": [
    {
     "data": {
      "text/plain": [
       "'5ebc974e52539b92106e584ea2a32365'"
      ]
     },
     "execution_count": 23,
     "metadata": {},
     "output_type": "execute_result"
    }
   ],
   "source": [
    "import hashlib\n",
    "\n",
    "def md5(s):\n",
    "    return hashlib.md5(s.encode(\"utf-8\")).hexdigest()\n",
    "\n",
    "md5(\"lamartin\")"
   ]
  },
  {
   "cell_type": "markdown",
   "id": "4dfc976e",
   "metadata": {},
   "source": [
    "La valeur renvoyée par `md5` est ici une chaîne de caractères qui doit être interprétée en base 16 (hexadécimal) : par exemple, $a$ correspond à $10$, $b$ à $11$...\n",
    "\n",
    "MD5 est une **fonction de hachage cryptographique**, ce qui signifie que le nombre de bits d'une empreinte est une constante, indépendant de l'entrée (la taille de $h(x)$ est constante, indépendante de $x$).\n",
    "\n",
    "**Question** : Combien y a t-il de bits dans un caractère en hexadécimal ?\n",
    "\n",
    "Sur $k$ bits on peut stocker $2^k$ valeurs différentes. Donc il faut $4$ bits pour avoir $2^4 = 16$ valeurs différentes.\n",
    "\n",
    ":::{admonition} Exercice 13\n",
    ":class: note\n",
    "Combien de bits sont utilisés pour une empreinte MD5 ?\n",
    ":::"
   ]
  },
  {
   "cell_type": "code",
   "execution_count": 24,
   "id": "c225d64f",
   "metadata": {
    "tags": [
     "hide-cell"
    ]
   },
   "outputs": [
    {
     "data": {
      "text/plain": [
       "128"
      ]
     },
     "execution_count": 24,
     "metadata": {},
     "output_type": "execute_result"
    }
   ],
   "source": [
    "len(md5(\"lamartin\"))*4 # on trouve 128 bits"
   ]
  },
  {
   "cell_type": "markdown",
   "id": "7ec8b743",
   "metadata": {},
   "source": [
    "---\n",
    "\n",
    "Pour trouver une collision, on pourra générer des chaînes de caractères aléatoires `s` en stockant dans un dictionnaire la clé `md5(s)` avec la valeur `s`. Si l'empreinte existe déjà dans le dictionnaire, c'est qu'on a trouvé une collision.\n",
    "\n",
    "On utilisera la fonction suivante génère une chaîne de caractères aléatoire de longueur `n`."
   ]
  },
  {
   "cell_type": "code",
   "execution_count": 25,
   "id": "88a1b0fb",
   "metadata": {},
   "outputs": [
    {
     "data": {
      "text/plain": [
       "'schhvsisvf'"
      ]
     },
     "execution_count": 25,
     "metadata": {},
     "output_type": "execute_result"
    }
   ],
   "source": [
    "def rdm_str(n):\n",
    "    import string\n",
    "    import random\n",
    "    return ''.join(random.choice(string.ascii_lowercase) for i in range(n))\n",
    "\n",
    "rdm_str(10) # exemple"
   ]
  },
  {
   "cell_type": "markdown",
   "id": "a3bd6cca",
   "metadata": {},
   "source": [
    ":::{admonition} Exercice 14\n",
    ":class: note\n",
    "Écrire une fonction `find_collision(n, p, k)` qui cherche une collision en générant `n` chaînes de caractères aléatoires de tailles `p`. Pour que la recherche ne prenne pas trop de temps, seuls les `k` premiers caractères de `md5(s)` seront considérés (avec `md5(s)[:k]`). On pourra prendre `k = 9`, `n = 100000`, `p = 10`.\n",
    ":::"
   ]
  },
  {
   "cell_type": "code",
   "execution_count": 26,
   "id": "254ebca5",
   "metadata": {
    "tags": [
     "hide-cell"
    ]
   },
   "outputs": [
    {
     "name": "stdout",
     "output_type": "stream",
     "text": [
      "hsqixqidur xnkrgrldtw ont le hash 656d19620\n",
      "rmbrbxnkvl wggncmzbim ont le hash 7b73c7b0b\n"
     ]
    },
    {
     "name": "stdout",
     "output_type": "stream",
     "text": [
      "euptvmfpcd wbocfpsocg ont le hash 87ec7bd14\n"
     ]
    },
    {
     "name": "stdout",
     "output_type": "stream",
     "text": [
      "imkqlxemwz ypcfyxvhhw ont le hash c38aec6ec\n"
     ]
    },
    {
     "name": "stdout",
     "output_type": "stream",
     "text": [
      "cgbiwvteck lyirgkdubl ont le hash 7e7d718a9\n"
     ]
    }
   ],
   "source": [
    "def find_collision(n, p, k):\n",
    "    seen = {}\n",
    "    for n in range(n):\n",
    "        s = rdm_str(p)\n",
    "        h = md5(s)[:k]\n",
    "        if h in seen and s != seen[h]:\n",
    "            print(f\"{seen[h]} {s} ont le hash \" + h)\n",
    "        seen[h] = s\n",
    "\n",
    "find_collision(1000000, 10, 9)"
   ]
  },
  {
   "cell_type": "markdown",
   "id": "ff520464",
   "metadata": {},
   "source": [
    "---\n",
    "### Verification de l'intégrité d'un fichier\n",
    "\n",
    "Un ami vous propose d'installer la toute dernière version de python qu'il héberge gentillement sur son serveur. Malheureusement vous n'êtes pas certain que cette version soit bien celle d'origine...\n",
    "Il vous propose deux archives censées contenir toutes les deux la même version de python.\n",
    "\n",
    "https://raw.githubusercontent.com/tcanta/itc2a/master/payloads/payload1/Python-3.13.0rc2.tgz\n",
    "https://raw.githubusercontent.com/tcanta/itc2a/master/payloads/payload2/Python-3.13.0rc2.tgz\n",
    "\n",
    "\n",
    ":::{admonition} Exercice 15\n",
    ":class: note\n",
    "Vérifiez l'intégrité de ces fichiers en calculant leurs hashs MD5 respectifs et en les comparant au hash original.\n",
    "```\n",
    "ad7f44153649e27ec385e7633e853e03\n",
    "```\n",
    ":::\n",
    "\n",
    "Cette vérification est aujourd'hui insuffisante pour garantir l'intégrité du fichier à cause des problèmes de collision vus plus haut !\n",
    "\n",
    "Lien vers la page de la release python utilisée:\n",
    "https://www.python.org/downloads/release/python-3130rc2/"
   ]
  }
 ],
 "metadata": {
  "jupytext": {
   "text_representation": {
    "extension": ".md",
    "format_name": "myst",
    "format_version": 0.13,
    "jupytext_version": "1.16.4"
   }
  },
  "kernelspec": {
   "display_name": "Python 3 (ipykernel)",
   "language": "python",
   "name": "python3"
  },
  "language_info": {
   "codemirror_mode": {
    "name": "ipython",
    "version": 3
   },
   "file_extension": ".py",
   "mimetype": "text/x-python",
   "name": "python",
   "nbconvert_exporter": "python",
   "pygments_lexer": "ipython3",
   "version": "3.12.3"
  },
  "source_map": [
   12,
   30,
   34,
   48,
   60,
   64,
   68,
   79,
   103,
   113,
   131,
   133,
   137,
   141,
   144,
   150,
   158,
   176,
   179,
   183,
   185,
   216,
   230,
   237,
   254,
   269,
   281,
   283,
   300,
   311,
   316,
   333,
   346,
   348,
   356,
   369,
   372,
   406,
   410,
   419,
   427,
   429,
   439,
   447,
   449,
   459,
   466,
   480,
   483,
   490,
   497,
   503,
   516
  ]
 },
 "nbformat": 4,
 "nbformat_minor": 5
}