{
 "cells": [
  {
   "cell_type": "markdown",
   "id": "1f71c3ea",
   "metadata": {},
   "source": [
    "# TP: Dictionnaires\n",
    "\n",
    "Pour programmer, vous pouvez soit utiliser Pyzo, soit [Basthon](https://notebook.basthon.fr/?from=https://raw.githubusercontent.com/tcanta/itc2a/master/eleve/tp_structures-eleves.ipynb).\n",
    "\n",
    "Commandes Basthon :\n",
    "\n",
    "- Ctrl + Entrée : exécuter la cellule\n",
    "- Shift + Entrée : exécuter la cellule puis passer à la suivante\n",
    "- Entrée : passer en mode édition\n",
    "- Échap : sortir du mode édition\n",
    "\n",
    "Les commandes suivantes sont valables uniquement hors du mode édition :\n",
    "\n",
    "- A : créer une nouvelle cellule (en haut)\n",
    "- B : créer une nouvelle cellule (en bas)\n",
    "- D D : supprimer la cellule"
   ]
  },
  {
   "cell_type": "markdown",
   "id": "67079259",
   "metadata": {},
   "source": [
    "## Internationalisation"
   ]
  },
  {
   "cell_type": "markdown",
   "id": "89ad791a",
   "metadata": {},
   "source": [
    ":::{admonition} Exercice 1\n",
    ":class: note\n",
    "\n",
    "1. Définir un dictionnaire `fr_to_en` contenant chaque jour de la semaine (en français) avec sa traduction en anglais.\n",
    "2. Vérifier que `fr_to_en[\"lundi\"]` contient `\"monday\"`.\n",
    "3. Ajouter les mois avec leurs traductions.\n",
    "\n",
    ":::\n",
    "\n",
    "\n",
    "**Solution**"
   ]
  },
  {
   "cell_type": "code",
   "execution_count": 1,
   "id": "5e8ca7e8",
   "metadata": {
    "tags": [
     "hide-cell"
    ]
   },
   "outputs": [
    {
     "name": "stdout",
     "output_type": "stream",
     "text": [
      "Monday\n"
     ]
    }
   ],
   "source": [
    "# 1.\n",
    "fr_to_en = {\"lundi\": \"Monday\", \"mardi\": \"Tuesday\", \"mercredi\": \"Wednesday\", \"jeudi\": \"Thursday\", \"vendredi\": \"Friday\", \"samedi\": \"Saturday\", \"dimanche\": \"Sunday\"}\n",
    "\n",
    "# 2.\n",
    "print(fr_to_en[\"lundi\"])\n",
    "\n",
    "# 3. On peut utiliser une boucle for pour simplifier\n",
    "for m1, m2 in [(\"janvier\", \"January\"), (\"février\", \"February\"), (\"mars\", \"March\"), (\"avril\", \"April\"), (\"mai\", \"May\"), (\"juin\", \"June\"), (\"juillet\", \"July\"), (\"août\", \"August\"), (\"septembre\", \"September\"), (\"octobre\", \"October\"), (\"novembre\", \"November\"), (\"décembre\", \"December\")]:\n",
    "    fr_to_en[m1] = m2"
   ]
  },
  {
   "cell_type": "markdown",
   "id": "a81885a8",
   "metadata": {},
   "source": [
    "---"
   ]
  },
  {
   "cell_type": "markdown",
   "id": "dab3c394",
   "metadata": {},
   "source": [
    "## Élément majoritaire"
   ]
  },
  {
   "cell_type": "markdown",
   "id": "fb9d0d3c",
   "metadata": {},
   "source": [
    ":::{admonition} Exercice 2\n",
    ":class: note\n",
    "\n",
    "Écrire une fonction `majoritaire(L)` renvoyant l'élément apparaissant le plus souvent dans la liste `L`, sans utiliser de dictionnaire. Quelle est sa complexité ?\n",
    "\n",
    ":::\n",
    "\n",
    "**Solution**"
   ]
  },
  {
   "cell_type": "code",
   "execution_count": 2,
   "id": "ca013b0f",
   "metadata": {
    "tags": [
     "hide-cell"
    ]
   },
   "outputs": [],
   "source": [
    "# en utilisant count :\n",
    "def majoritaire(L):\n",
    "    m = L[0] # va contenir l'élément majoritaire\n",
    "    for e in L:\n",
    "        if L.count(e) > L.count(m):\n",
    "            m = e\n",
    "    return m\n",
    "\n",
    "# sans utiliser count :\n",
    "def majoritaire(L):\n",
    "    m, n = None, 0 # va contenir l'élément majoritaire et son nombre d'occurences\n",
    "    for e in L:\n",
    "        n = 0\n",
    "        for f in L:\n",
    "            if f == e:\n",
    "                n += 1\n",
    "        if n > L.count(m):\n",
    "            m = e\n",
    "    return m\n",
    "\n",
    "# dans les deux cas, la complexité est O(n^2), où n est la longueur de la liste L"
   ]
  },
  {
   "cell_type": "markdown",
   "id": "8c255ed1",
   "metadata": {},
   "source": [
    "---\n",
    "\n",
    ":::{admonition} Exercice 3\n",
    ":class: note\n",
    "Écrire une fonction `majoritaire2(L)` renvoyant l'élément apparaissant le plus souvent dans la liste `L`, en utilisant un dictionnaire pour avoir une meilleure complexité que la fonction précédente.\n",
    ":::\n",
    "\n",
    "**Solution**"
   ]
  },
  {
   "cell_type": "code",
   "execution_count": 3,
   "id": "c0dd8db1",
   "metadata": {
    "tags": [
     "hide-cell"
    ]
   },
   "outputs": [],
   "source": [
    "# Fonction écrite en cours. La complexité est O(n), où n est la longueur de la liste L.\n",
    "\n",
    "def majoritaire2(L):\n",
    "    d = {}\n",
    "    for e in L:\n",
    "        if e in d:\n",
    "            d[e] += 1\n",
    "        else:\n",
    "            d[e] = 1\n",
    "    m = L[0]\n",
    "    for e in d:\n",
    "        if d[e] > d[m]:\n",
    "            m = e\n",
    "    return m"
   ]
  },
  {
   "cell_type": "code",
   "execution_count": 4,
   "id": "ee744a17",
   "metadata": {},
   "outputs": [
    {
     "data": {
      "text/plain": [
       "1"
      ]
     },
     "execution_count": 4,
     "metadata": {},
     "output_type": "execute_result"
    }
   ],
   "source": [
    "majoritaire2([9, 1, 9, 0, 1, 1, 0])"
   ]
  },
  {
   "cell_type": "markdown",
   "id": "9b1aad09",
   "metadata": {},
   "source": [
    "---"
   ]
  },
  {
   "cell_type": "markdown",
   "id": "bd5b81d4",
   "metadata": {},
   "source": [
    "## Anagramme"
   ]
  },
  {
   "cell_type": "markdown",
   "id": "00bf4319",
   "metadata": {},
   "source": [
    "On rappelle qu'on peut parcourir les lettres d'une chaîne de caractères avec une boucle  for   :"
   ]
  },
  {
   "cell_type": "code",
   "execution_count": 5,
   "id": "f0781393",
   "metadata": {},
   "outputs": [
    {
     "name": "stdout",
     "output_type": "stream",
     "text": [
      "l\n",
      "a\n",
      "m\n",
      "a\n",
      "r\n",
      "t\n",
      "i\n",
      "n\n",
      "l\n",
      "a\n",
      "m\n",
      "a\n",
      "r\n",
      "t\n",
      "i\n",
      "n\n"
     ]
    }
   ],
   "source": [
    "s = \"lamartin\"\n",
    "for c in s: # en parcourant directement les caractères\n",
    "    print(c)\n",
    "for i in range(len(s)): # en parcourant les indices\n",
    "    print(s[i])"
   ]
  },
  {
   "cell_type": "markdown",
   "id": "dde7e90f",
   "metadata": {},
   "source": [
    ":::{admonition} Exercice 4\n",
    ":class: note\n",
    "Écrire une fonction `anagramme(m1, m2)` qui teste si deux mots (des chaînes de caractères) sont des anagrammes, c'est-à-dire s'ils contiennent les mêmes lettres (avec le même nombre d'occurence de chaque lettre).  \n",
    "Cette fonction doit être en O($n_1 + n_2$), où $n_1$, $n_2$ sont les tailles de `m1`, `m2`.\n",
    ":::"
   ]
  },
  {
   "cell_type": "code",
   "execution_count": 6,
   "id": "c08f8dfb",
   "metadata": {
    "tags": [
     "hide-cell"
    ]
   },
   "outputs": [],
   "source": [
    "def anagramme(m1, m2):\n",
    "    d1, d2 = {}, {}\n",
    "    for c in m1: # O(n1)\n",
    "        if c in d1:\n",
    "            d1[c] += 1\n",
    "        else:\n",
    "            d1[c] = 1\n",
    "    for c in m2: # O(n1)\n",
    "        if c in d2:\n",
    "            d2[c] += 1\n",
    "        else:\n",
    "            d2[c] = 1\n",
    "    return d1 == d2 # O(n1)"
   ]
  },
  {
   "cell_type": "code",
   "execution_count": 7,
   "id": "d2a38d83",
   "metadata": {},
   "outputs": [
    {
     "name": "stdout",
     "output_type": "stream",
     "text": [
      "True\n",
      "False\n"
     ]
    }
   ],
   "source": [
    "print(anagramme(\"ordre\", \"dorer\"))\n",
    "print(anagramme(\"ordre\", \"oreo\"))"
   ]
  },
  {
   "cell_type": "markdown",
   "id": "a6e73091",
   "metadata": {},
   "source": [
    "---"
   ]
  },
  {
   "cell_type": "markdown",
   "id": "00dca8e5",
   "metadata": {},
   "source": [
    "## Trie (arbre préfixe)"
   ]
  },
  {
   "cell_type": "markdown",
   "id": "0bf28efb",
   "metadata": {},
   "source": [
    "### Arbres enracinés\n",
    "\n",
    "Un **arbre** est un graphe ayant deux propriétés supplémentaires :  \n",
    "- **Connexe** : il existe un chemin entre deux sommets quelconques  \n",
    "- **Acyclique** : il ne contient pas de cycle\n",
    "\n",
    "On considère souvent des **arbres enracinés**, c'est-à-dire ayant un sommet particulier appelé la **racine**, qu'on représente en haut de l'arbre :\n",
    "\n",
    "<center><img src=https://raw.githubusercontent.com/fortierq/tikz-pdf/main/tree/ntree/ntree.png width=70%><br>\n",
    "Exemple d'arbre, ayant pour racine 0</center>\n",
    "\n",
    "Chaque sommet différent de la racine possède un **père**, qui est le sommet juste au dessus. Sur l'exemple, 0 est le père de 1, 1 est le père de 7...\n",
    "\n",
    "Si p est le père de v, on dit aussi que v est un **fils** de p. Chaque sommet a au plus un père, mais peut avoir un nombre quelconque de fils.\n",
    "\n",
    "---\n",
    "\n",
    "### Trie\n",
    "\n",
    "Un **trie** sert à stocker un ensemble de mots sous forme d'arbre. Chaque arête est etiquetée par une lettre et les mots appartenant au trie sont ceux obtenus le long d'un chemin de la racine à une arête étiquetée par $.  \n",
    "Par exemple, l'arbre suivant contient les mots cap, copie, copier, copies, cor, corde, corne, correct, correcte :\n",
    "\n",
    "<center><img src=https://github.com/fortierq/cours/blob/main/python/dict/tp/trie.png?raw=true width=60%></center>\n",
    "\n",
    "**Remarque** : les tries sont utilisés pour la complétion automatique (proposition de complétion d'un mot en cours d'écriture, par exemple sur téléphone), pour la correction orthographique...\n",
    "\n",
    "Pour stocker un trie, on utilisera un dictionnaire où chaque clé est l'étiquette d'une arête sortant de la racine et la valeur est le dictionnaire correspondant au fils. Une feuille (sommet sans fils) est représentée par le dictionnaire vide.  \n",
    "\n",
    "Par exemple, le trie contenant l'ensemble de mots $\\{$ car, cat, cd, ok $\\}$ est représenté par :"
   ]
  },
  {
   "cell_type": "code",
   "execution_count": 8,
   "id": "db9adfad",
   "metadata": {},
   "outputs": [
    {
     "data": {
      "text/plain": [
       "{'c': {'a': {'r': {'$': {}}, 't': {'$': {}}}, 'd': {'$': {}}},\n",
       " 'o': {'k': {'$': {}}}}"
      ]
     },
     "execution_count": 8,
     "metadata": {},
     "output_type": "execute_result"
    }
   ],
   "source": [
    "trie_ex = {\n",
    "    \"c\" : {\n",
    "        \"a\" : {\n",
    "            \"r\" : { \"$\" : {} },\n",
    "            \"t\" : { \"$\" : {} }\n",
    "        },\n",
    "        \"d\" : { \"$\" : {} }\n",
    "    },\n",
    "    \"o\" : {\n",
    "        \"k\" : { \"$\" : {} }\n",
    "    }\n",
    "}\n",
    "trie_ex"
   ]
  },
  {
   "cell_type": "markdown",
   "id": "5ba3115f",
   "metadata": {},
   "source": [
    ":::{admonition} Exercice 5\n",
    ":class: note\n",
    "1. Dessiner le trie contenant les mots art, axe, set.  \n",
    "2. Définir ce trie sous forme d'un dictionnaire.\n",
    ":::"
   ]
  },
  {
   "cell_type": "code",
   "execution_count": 9,
   "id": "764a86cb",
   "metadata": {
    "tags": [
     "hide-cell"
    ]
   },
   "outputs": [],
   "source": [
    "trie = {\n",
    "    \"a\": {\n",
    "        \"r\": {\n",
    "            \"t\": { \"$\" : {} },\n",
    "        },\n",
    "        \"x\": {\n",
    "            \"e\": { \"$\" : {} },\n",
    "        },\n",
    "    },\n",
    "    \"s\": {\n",
    "        \"e\": {\n",
    "            \"t\": { \"$\" : {} },\n",
    "        },\n",
    "    },\n",
    "}"
   ]
  },
  {
   "cell_type": "markdown",
   "id": "ac1c0e80",
   "metadata": {},
   "source": [
    "---\n",
    ":::{admonition} Exercice 6\n",
    ":class: note\n",
    "Écrire une fonction `trie_size(trie)` pour afficher le nombre de mots appartenant à un trie. Pour cela, on parcourt récursivement le trie en comptant le nombre de $.\n",
    ":::\n",
    "\n",
    "```python\n",
    "def trie_size(trie):\n",
    "    n = 0 # compte le nombre de $\n",
    "    for k in trie:\n",
    "        ...\n",
    "    return n\n",
    "```"
   ]
  },
  {
   "cell_type": "code",
   "execution_count": 10,
   "id": "3d7b1b41",
   "metadata": {
    "tags": [
     "hide-cell"
    ]
   },
   "outputs": [],
   "source": [
    "def trie_size(trie):\n",
    "    n = 0\n",
    "    for k in trie:\n",
    "        if k == '$':\n",
    "            n += 1\n",
    "        else:\n",
    "            n += trie_size(trie[k])\n",
    "    return n"
   ]
  },
  {
   "cell_type": "code",
   "execution_count": 11,
   "id": "0fd3ef43",
   "metadata": {},
   "outputs": [
    {
     "data": {
      "text/plain": [
       "4"
      ]
     },
     "execution_count": 11,
     "metadata": {},
     "output_type": "execute_result"
    }
   ],
   "source": [
    "trie_size(trie_ex)"
   ]
  },
  {
   "cell_type": "markdown",
   "id": "97965e41",
   "metadata": {},
   "source": [
    "---\n",
    ":::{admonition} Exercice 7\n",
    ":class: note\n",
    "Écrire une fonction `trie_add(trie, m)` pour ajouter un mot `m` dans un trie. On pourra compléter le code ci-dessous.\n",
    ":::\n",
    "\n",
    "```python\n",
    "def trie_add(trie, m):\n",
    "    for c in m: # parcours des lettres c de m\n",
    "        if ...: # s'il n'y a pas d'arête sortante de trie étiquetée par c\n",
    "            ... # créer une nouvelle association (c, dictionnaire vide)\n",
    "        trie = trie[c] # descendre dans l'arbre suivant la lettre c\n",
    "    ... # ajouter un '$' à la fin\n",
    "```"
   ]
  },
  {
   "cell_type": "code",
   "execution_count": 12,
   "id": "24f1f83a",
   "metadata": {
    "tags": [
     "hide-cell"
    ]
   },
   "outputs": [],
   "source": [
    "def trie_add(trie, m):\n",
    "    for c in m:\n",
    "        if c not in trie:\n",
    "            trie[c] = dict()\n",
    "        trie = trie[c]\n",
    "    trie['$'] = dict()"
   ]
  },
  {
   "cell_type": "code",
   "execution_count": 13,
   "id": "bdb06e12",
   "metadata": {},
   "outputs": [
    {
     "data": {
      "text/plain": [
       "{'a': {'r': {'b': {'r': {'e': {'$': {}}}}, 'e': {'t': {'e': {'$': {}}}}}}}"
      ]
     },
     "execution_count": 13,
     "metadata": {},
     "output_type": "execute_result"
    }
   ],
   "source": [
    "trie = {}\n",
    "trie_add(trie, \"arbre\")\n",
    "trie_add(trie, \"arete\")\n",
    "trie"
   ]
  },
  {
   "cell_type": "markdown",
   "id": "8a375aa9",
   "metadata": {},
   "source": [
    "---\n",
    "\n",
    ":::{admonition} Exercice 8\n",
    ":class: note\n",
    "Écrire une fonction `trie_print(trie)` pour afficher les mots `m` appartenant à un trie. Vérifier avec l'exemple précédent.  \n",
    "On pourra utiliser une fonction auxiliaire récursive `aux(t, m)` qui s'appelle récursivement sur chaque noeud `t` du trie, en conservant les lettres déjà parcourues dans la chaîne de caractères `m`.\n",
    ":::\n",
    "\n",
    "```python\n",
    "def trie_print(trie):\n",
    "    def aux(t, m):\n",
    "        ...\n",
    "    aux(trie, \"\")\n",
    "```"
   ]
  },
  {
   "cell_type": "code",
   "execution_count": 14,
   "id": "01b7cfe2",
   "metadata": {
    "tags": [
     "hide-cell"
    ]
   },
   "outputs": [],
   "source": [
    "def trie_print(trie):\n",
    "    def aux(t, m):\n",
    "        for k in t:\n",
    "            if k == '$':\n",
    "                print(m)\n",
    "            else:\n",
    "                aux(t[k], m + k)\n",
    "    aux(trie, \"\")"
   ]
  },
  {
   "cell_type": "code",
   "execution_count": 15,
   "id": "9f3a1552",
   "metadata": {},
   "outputs": [
    {
     "name": "stdout",
     "output_type": "stream",
     "text": [
      "car\n",
      "cat\n",
      "cd\n",
      "ok\n"
     ]
    }
   ],
   "source": [
    "trie_print(trie_ex)"
   ]
  },
  {
   "cell_type": "markdown",
   "id": "2057909a",
   "metadata": {},
   "source": [
    "---\n",
    "\n",
    ":::{admonition} Exercice 9\n",
    ":class: note\n",
    "Écrire une fonction `trie_has(trie, m)` pour tester si `m` appartient à un trie.\n",
    ":::"
   ]
  },
  {
   "cell_type": "code",
   "execution_count": 16,
   "id": "b3b32974",
   "metadata": {
    "tags": [
     "hide-cell"
    ]
   },
   "outputs": [],
   "source": [
    "def trie_has(trie, mot):\n",
    "    def aux(t, m, i): # t est le sous-arbre, m est le mot recherché, i est l'indice de la lettre courante\n",
    "        if i == len(m):\n",
    "            return '$' in t\n",
    "        if m[i] not in t:\n",
    "            return False\n",
    "        return aux(t[m[i]], m, i + 1)\n",
    "    return aux(trie, mot, 0)"
   ]
  },
  {
   "cell_type": "code",
   "execution_count": 17,
   "id": "76d911bb",
   "metadata": {},
   "outputs": [
    {
     "name": "stdout",
     "output_type": "stream",
     "text": [
      "False\n",
      "True\n"
     ]
    }
   ],
   "source": [
    "print(trie_has(trie_ex, \"carte\"))\n",
    "print(trie_has(trie_ex, \"car\"))"
   ]
  }
 ],
 "metadata": {
  "jupytext": {
   "text_representation": {
    "extension": ".md",
    "format_name": "myst",
    "format_version": 0.13,
    "jupytext_version": "1.16.4"
   }
  },
  "kernelspec": {
   "display_name": "Python 3 (ipykernel)",
   "language": "python",
   "name": "python3"
  },
  "language_info": {
   "codemirror_mode": {
    "name": "ipython",
    "version": 3
   },
   "file_extension": ".py",
   "mimetype": "text/x-python",
   "name": "python",
   "nbconvert_exporter": "python",
   "pygments_lexer": "ipython3",
   "version": "3.12.3"
  },
  "source_map": [
   12,
   30,
   34,
   48,
   60,
   64,
   68,
   79,
   103,
   113,
   131,
   133,
   137,
   141,
   144,
   150,
   158,
   176,
   179,
   183,
   185,
   216,
   230,
   237,
   254,
   269,
   281,
   283,
   300,
   311,
   316,
   333,
   346,
   348,
   356,
   369
  ]
 },
 "nbformat": 4,
 "nbformat_minor": 5
}