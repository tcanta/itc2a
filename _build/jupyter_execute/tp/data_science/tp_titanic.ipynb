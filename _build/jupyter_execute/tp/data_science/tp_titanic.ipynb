{
 "cells": [
  {
   "cell_type": "markdown",
   "id": "43eb8147",
   "metadata": {},
   "source": [
    "# TP KNN : Classification des survivants du Titanic\n",
    "\n",
    "Pour programmer, vous pouvez soit utiliser IDLE, soit utiliser IDLE !\n",
    "Aujourd'hui, nous nous mettons dans les conditions les plus rudimentaires que l'on pourrait vous proposer. Un interpreteur sans rien et bonne chance !\n",
    "<center><img src=https://upload.wikimedia.org/wikipedia/commons/thumb/f/fd/RMS_Titanic_3.jpg/1280px-RMS_Titanic_3.jpg width=50%></center>  \n",
    "\n",
    "On souhaite prédire si un passager du Titanic a survécu ou non à l'accident, en utilisant l'algorithme des plus proches voisins. On pourra s'inspirer de l'exemple du cours sur la classification de fleurs.\n",
    "\n",
    "Voici les informations sur chaque passager :  \n",
    "- `Survived` : 0 = Non, 1 = Oui\n",
    "- `Pclass` : Classe de ticket (1 = 1ère classe, 2 = 2ème, 3 = 3ème)  \n",
    "- `Sex` : Sexe du passager (`male` ou `female`)  \n",
    "- `Age` : Âge du passager (en années)  \n",
    "- `Fare` : Tarif du ticket (en dollars)"
   ]
  },
  {
   "cell_type": "markdown",
   "id": "3fbeaa55",
   "metadata": {},
   "source": [
    "## Chargement des données avec Pandas\n",
    "\n",
    "Pandas est un module Python qui permet de manipuler des données sous forme de tableau appelé **DataFrame** (qui ressemble à un peu à une table SQL).  \n",
    "\n",
    "Pour charger les données :\n",
    "1. Télécharger <a href=\"https://raw.githubusercontent.com/cpge-itc/itc2/6fff3c359a4761aab625b2adb8e5b83697d5c72f/titanic.csv\" download>les données (clic droit ici puis enregistrer sous)</a>.  \n",
    "2. Déplacer les données dans votre dossier courant.\n",
    "3. Exécuter le code ci-dessous, en modifiant titanic.csv si vous avez utilisé un autre nom de fichier."
   ]
  },
  {
   "cell_type": "code",
   "execution_count": 1,
   "id": "1b5645fe",
   "metadata": {},
   "outputs": [
    {
     "ename": "ModuleNotFoundError",
     "evalue": "No module named 'pandas'",
     "output_type": "error",
     "traceback": [
      "\u001b[0;31m---------------------------------------------------------------------------\u001b[0m",
      "\u001b[0;31mModuleNotFoundError\u001b[0m                       Traceback (most recent call last)",
      "Cell \u001b[0;32mIn[1], line 1\u001b[0m\n\u001b[0;32m----> 1\u001b[0m \u001b[38;5;28;01mimport\u001b[39;00m \u001b[38;5;21;01mpandas\u001b[39;00m \u001b[38;5;28;01mas\u001b[39;00m \u001b[38;5;21;01mpd\u001b[39;00m\n\u001b[1;32m      3\u001b[0m df \u001b[38;5;241m=\u001b[39m pd\u001b[38;5;241m.\u001b[39mread_csv(\u001b[38;5;124m'\u001b[39m\u001b[38;5;124mtitanic.csv\u001b[39m\u001b[38;5;124m'\u001b[39m) \u001b[38;5;66;03m# df est un DataFrame\u001b[39;00m\n\u001b[1;32m      4\u001b[0m df\u001b[38;5;241m.\u001b[39mhead() \u001b[38;5;66;03m# pour afficher les 5 premières lignes\u001b[39;00m\n",
      "\u001b[0;31mModuleNotFoundError\u001b[0m: No module named 'pandas'"
     ]
    }
   ],
   "source": [
    "import pandas as pd\n",
    "\n",
    "df = pd.read_csv('titanic.csv') # df est un DataFrame\n",
    "df.head() # pour afficher les 5 premières lignes"
   ]
  },
  {
   "cell_type": "markdown",
   "id": "1805befa",
   "metadata": {},
   "source": [
    "Ainsi `df` est un tableau contient 5 colonnes (`Survived`, `Pclass`, `Sex`, `Age`, `Fare`) et chaque ligne correspondant à un passager du Titanic. On peut obtenir le nombres de lignes avec `len(df)` :"
   ]
  },
  {
   "cell_type": "code",
   "execution_count": null,
   "id": "800c287e",
   "metadata": {},
   "outputs": [],
   "source": [
    "len(df)"
   ]
  },
  {
   "cell_type": "markdown",
   "id": "403b7b57",
   "metadata": {},
   "source": [
    "Chaque ligne est identifiée par un index (= nom de la ligne), ici $0, 1, 2, ...$. On peut accéder à la ligne d'indice $i$ avec `df.loc[i]` :"
   ]
  },
  {
   "cell_type": "code",
   "execution_count": null,
   "id": "0c703610",
   "metadata": {},
   "outputs": [],
   "source": [
    "df.loc[0]"
   ]
  },
  {
   "cell_type": "markdown",
   "id": "c476f1da",
   "metadata": {},
   "source": [
    "`df.loc[i]` donne en fait une Series, qui peut être vu comme un tableau (à une dimension).\n",
    "\n",
    "On peut récupérer une colonne (également sous forme de series), par exemple `Age`, avec `df[\"Age\"]` :"
   ]
  },
  {
   "cell_type": "code",
   "execution_count": null,
   "id": "194af89f",
   "metadata": {},
   "outputs": [],
   "source": [
    "df[\"Age\"]"
   ]
  },
  {
   "cell_type": "markdown",
   "id": "b633e4d9",
   "metadata": {},
   "source": [
    "On peut combiner ces deux méthodes pour récupérer une valeur précise, par exemple l'âge du 3ème passager :"
   ]
  },
  {
   "cell_type": "code",
   "execution_count": null,
   "id": "c0e38dd2",
   "metadata": {},
   "outputs": [],
   "source": [
    "df.loc[2, \"Age\"]"
   ]
  },
  {
   "cell_type": "markdown",
   "id": "ec36604d",
   "metadata": {},
   "source": [
    "On peut aussi modifier une valeur avec, par exemple, `df.loc[2, \"Age\"] = ...`.\n",
    "\n",
    "On peut parcourir les indices d'un dataframe avec `df.index`. Par exemple, pour trouver le passager le plus vieux :"
   ]
  },
  {
   "cell_type": "code",
   "execution_count": null,
   "id": "fed47ffa",
   "metadata": {},
   "outputs": [],
   "source": [
    "maxi_age = 0\n",
    "for i in df.index:\n",
    "    if df.loc[i, \"Age\"] > maxi_age:\n",
    "        maxi_age = df.loc[i, \"Age\"]\n",
    "maxi_age"
   ]
  },
  {
   "cell_type": "markdown",
   "id": "3f5e68a6",
   "metadata": {},
   "source": [
    "**Remarque** : avec Pandas, il faut normalement utiliser au maximum des opérations vectorielles pour que le processeur puisse effectuer les calculs en parallèle. Cependant, comme l'utilisation de Pandas n'est pas au programme, nous allons nous limiter à une approche élémentaire.\n",
    "\n",
    "## Statistiques\n",
    "\n",
    ":::{admonition} Question\n",
    ":class: note\n",
    "Écrire une fonction `moyenne(df, c)` qui renvoie la moyenne des valeurs sur la colonne `c` du dataframe `df`. Quelle est l'âge moyen des passagers du Titanic ? Le prix moyen du ticket ?\n",
    ":::\n",
    "\n",
    "**Solution**"
   ]
  },
  {
   "cell_type": "code",
   "execution_count": null,
   "id": "f8cb154a",
   "metadata": {
    "tags": [
     "hide-cell"
    ]
   },
   "outputs": [],
   "source": [
    "def moyenne(df, col):\n",
    "    m = 0\n",
    "    for i in df.index:\n",
    "        m += df.loc[i, col]\n",
    "    return m / len(df)"
   ]
  },
  {
   "cell_type": "code",
   "execution_count": null,
   "id": "80b148af",
   "metadata": {},
   "outputs": [],
   "source": [
    "print(\"Âge moyen :\", moyenne(df, \"Age\"))\n",
    "print(\"Prix moyen du billet :\", moyenne(df, \"Fare\"))"
   ]
  },
  {
   "cell_type": "markdown",
   "id": "ff05b051",
   "metadata": {},
   "source": [
    ":::{admonition} Question\n",
    ":class: note\n",
    "Écrire une fonction `ecart_type(df, c)` qui renvoie l'écart-type des valeurs de la colonne `c` du dataframe `df`. On rappelle que l'écart-type d'une série de valeurs $x_1, \\ldots, x_n$ est donné par :\n",
    "\n",
    "$$\\sqrt{\\frac{1}{n} \\sum_{i=1}^n (x_i - \\bar{x})^2}$$\n",
    "\n",
    "où $\\bar{x}$ est la moyenne des valeurs $x_1, ..., x_n$.\n",
    "\n",
    "**Remarque : On évitera de calculer plusieurs fois la même moyenne.**\n",
    ":::\n",
    "\n",
    "**Solution**"
   ]
  },
  {
   "cell_type": "code",
   "execution_count": null,
   "id": "b8d5d9e9",
   "metadata": {
    "tags": [
     "hide-cell"
    ]
   },
   "outputs": [],
   "source": [
    "def ecart_type(df, col):\n",
    "    m = moyenne(df, col)\n",
    "    s = 0\n",
    "    for i in df.index:\n",
    "        s += (df.loc[i, col] - m)**2\n",
    "    return (s / len(df))**0.5"
   ]
  },
  {
   "cell_type": "code",
   "execution_count": null,
   "id": "875f98fc",
   "metadata": {},
   "outputs": [],
   "source": [
    "ecart_type(df, \"Age\")"
   ]
  },
  {
   "cell_type": "markdown",
   "id": "73607a2f",
   "metadata": {},
   "source": [
    ":::{admonition} Question\n",
    ":class: note\n",
    "Afficher le pourcentage de survivants parmi :\n",
    "- les personnes de sexe masculin\n",
    "- les personnes de sexe feminin\n",
    "- les passagers de 1ère classe\n",
    "- les passagers de 3ème classe\n",
    ":::\n",
    "\n",
    "**Solution**"
   ]
  },
  {
   "cell_type": "code",
   "execution_count": null,
   "id": "99b20380",
   "metadata": {
    "tags": [
     "hide-cell"
    ]
   },
   "outputs": [],
   "source": [
    "def survivants(col, val):\n",
    "    n_survivants = 0\n",
    "    n = 0\n",
    "    for i in df.index:\n",
    "        if df.loc[i, col] == val:\n",
    "            n_survivants += df.loc[i, \"Survived\"]\n",
    "            n += 1\n",
    "    return n_survivants/n\n",
    "\n",
    "for c, v in [(\"Sex\", \"male\"), (\"Sex\", \"female\"), (\"Pclass\", 1), (\"Pclass\", 3)]:\n",
    "    print(\"Taux de survie pour\", c, \"=\", v, \":\", survivants(c, v))"
   ]
  },
  {
   "cell_type": "markdown",
   "id": "af9f86cb",
   "metadata": {},
   "source": [
    "## Variables catégorielles\n",
    "\n",
    "Nous souhaitons modéliser chaque passager par un vecteur de $\\mathbb{R}^4$ (car il y a $4$ informations pour chaque passager : âge, sexe, classe et prix du ticket). Cependant, le sexe est une variable catégorielle qu'il faut transformer en variable numérique :"
   ]
  },
  {
   "cell_type": "code",
   "execution_count": null,
   "id": "8d53c8d6",
   "metadata": {},
   "outputs": [],
   "source": [
    "df[\"Sex\"] = df[\"Sex\"].map({\"male\": 0, \"female\": 1}) # remplace male par 0 et female par 1\n",
    "df.head()"
   ]
  },
  {
   "cell_type": "markdown",
   "id": "b46c69b5",
   "metadata": {},
   "source": [
    "## Standardisation\n",
    "\n",
    "On remarque que les attributs sont sur des échelles très différentes (par exemple, l'âge est entre 0 et 80, alors que la classe du billet est entre 1 et 3).  \n",
    "Les différences d'âge contribuent alors beaucoup plus dans les calculs de distance, ce qui ferait que l'âge aurait un poids plus important que la classe du billet pour la prédiction.  \n",
    "Pour éviter cela, on va standardiser les données, c'est-à-dire les transformer de manière à ce que chaque attribut ait une moyenne nulle et un écart-type égal à 1.  \n",
    "\n",
    "Si un attribut $x$ a une moyenne $\\bar{x}$ et un écart-type $\\sigma$, on peut le standardiser en le remplaçant par :\n",
    "\n",
    "$$\\frac{x - \\bar{x}}{\\sigma}$$\n",
    "\n",
    ":::{admonition} Question\n",
    ":class: note\n",
    "Écrire une fonction `standardiser(df, c)` qui standardise la colonne `c` du dataframe `df`. L'utiliser pour standardiser les colonnes `Age`, `Fare`, `Pclass` et `Sex`. On rappelle qu'on peut modifier l'élément sur la ligne `i` et la colonne `c` avec `df.loc[i, c] = ...`.\n",
    ":::\n",
    "\n",
    "**Solution**"
   ]
  },
  {
   "cell_type": "code",
   "execution_count": null,
   "id": "44f17025",
   "metadata": {
    "tags": [
     "hide-cell"
    ]
   },
   "outputs": [],
   "source": [
    "def standardiser(df, col):\n",
    "    m = moyenne(df, col)\n",
    "    s = ecart_type(df, col)\n",
    "    for i in df.index:\n",
    "        df.loc[i, col] = (df.loc[i, col] - m) / s\n",
    "\n",
    "for c in [\"Age\", \"Fare\", \"Pclass\", \"Sex\"]:\n",
    "    standardiser(df, c)\n",
    "df.head()"
   ]
  },
  {
   "cell_type": "markdown",
   "id": "fdf92768",
   "metadata": {},
   "source": [
    "## Distance\n",
    "\n",
    "Pour la question suivante, on rappelle comment accéder aux attributs d'une donnée :"
   ]
  },
  {
   "cell_type": "code",
   "execution_count": null,
   "id": "90194093",
   "metadata": {},
   "outputs": [],
   "source": [
    "p = df.loc[0] # 1er passager\n",
    "p[\"Age\"], p[\"Fare\"], p[\"Pclass\"], p[\"Sex\"] # attributs de p"
   ]
  },
  {
   "cell_type": "markdown",
   "id": "fa8cfbf6",
   "metadata": {},
   "source": [
    ":::{admonition} Question\n",
    ":class: note\n",
    "Écrire une fonction `distance(p1, p2)` qui calcule la distance euclidienne entre les passagers `p1` et `p2`. On prendra en compte tous les attributs sauf `Survived`.\n",
    ":::\n",
    "\n",
    "**Solution**"
   ]
  },
  {
   "cell_type": "code",
   "execution_count": null,
   "id": "629fa520",
   "metadata": {
    "tags": [
     "hide-cell"
    ]
   },
   "outputs": [],
   "source": [
    "def distance(p1, p2):\n",
    "    d = 0\n",
    "    for c in [\"Pclass\", \"Sex\", \"Age\", \"Fare\"]:\n",
    "        d += (p1[c] - p2[c])**2\n",
    "    return d**0.5\n",
    "\n",
    "distance(df.loc[0], df.loc[1]) # distance entre les deux premiers passagers"
   ]
  },
  {
   "cell_type": "markdown",
   "id": "c8c024c5",
   "metadata": {},
   "source": [
    "## Séparation des données\n",
    "\n",
    "On sépare les données en deux : une partie `train` utilisée pour la prédiction, et une partie `test` utilisée pour évaluer la qualité de la prédiction :"
   ]
  },
  {
   "cell_type": "code",
   "execution_count": null,
   "id": "6735d061",
   "metadata": {},
   "outputs": [],
   "source": [
    "train = df.sample(frac=0.9,random_state=0)\n",
    "test = df.drop(train.index)\n",
    "print(\"nombre de données dans train :\", len(train))\n",
    "print(\"nombre de données dans test :\", len(test))"
   ]
  },
  {
   "cell_type": "markdown",
   "id": "d0719b74",
   "metadata": {},
   "source": [
    "## Algorithmes des plus proches voisins\n",
    "\n",
    ":::{admonition} Question\n",
    ":class: note\n",
    "Écrire une fonction `voisins(x, k)` qui renvoie les indices des $k$ plus proches voisins de `x` dans `train`.\n",
    ":::\n",
    "\n",
    "**Solution**"
   ]
  },
  {
   "cell_type": "code",
   "execution_count": null,
   "id": "afb77606",
   "metadata": {
    "tags": [
     "hide-cell"
    ]
   },
   "outputs": [],
   "source": [
    "def voisins(x, k):\n",
    "    indices = sorted(train.index, key=lambda i: distance(x, train.loc[i]))\n",
    "    return indices[:k]\n",
    "\n",
    "voisins(test.iloc[0], 5)"
   ]
  },
  {
   "cell_type": "markdown",
   "id": "1c84646a",
   "metadata": {},
   "source": [
    ":::{admonition} Question\n",
    ":class: note\n",
    "Écrire une fonction `plus_frequent(L)` qui renvoie l'élément le plus fréquent d'une liste `L`.\n",
    ":::\n",
    "\n",
    "**Solution**"
   ]
  },
  {
   "cell_type": "code",
   "execution_count": null,
   "id": "087099c6",
   "metadata": {
    "tags": [
     "hide-cell"
    ]
   },
   "outputs": [],
   "source": [
    "def plus_frequent(L): # renvoie la classe qui apparaît le plus souvent dans L\n",
    "    compte = {}\n",
    "    for e in L:\n",
    "        compte[e] = compte.get(e, 0) + 1\n",
    "    return max(compte, key=compte.get\n",
    "\n",
    "plus_frequent([2, 1, 5, 1, 2, 5, 5])"
   ]
  },
  {
   "cell_type": "markdown",
   "id": "46baf0af",
   "metadata": {},
   "source": [
    ":::{admonition} Question\n",
    ":class: note\n",
    "Écrire une fonction `knn(x, k)` qui renvoie la prédiction de survie de `x` en utilisant l'algorithme des $k$ plus proches voisins.\n",
    ":::\n",
    "\n",
    "**Solution**"
   ]
  },
  {
   "cell_type": "code",
   "execution_count": null,
   "id": "b101540e",
   "metadata": {
    "tags": [
     "hide-cell"
    ]
   },
   "outputs": [],
   "source": [
    "def knn(x, k):\n",
    "    return plus_frequent([train.loc[i, \"Survived\"] for i in voisins(x, k)])\n",
    "\n",
    "knn(test.iloc[0], 5)"
   ]
  },
  {
   "cell_type": "markdown",
   "id": "4d7e750d",
   "metadata": {},
   "source": [
    "## Analyse des résultats\n",
    "\n",
    ":::{admonition} Question\n",
    ":class: note\n",
    "Écrire une fonction `precision(k)` qui renvoie la précision de l'algorithme des $k$ plus proches voisins en utilisant `k` voisins.  \n",
    "Remarque : cela peut prendre quelques secondes.\n",
    ":::\n",
    "\n",
    "**Solution**"
   ]
  },
  {
   "cell_type": "code",
   "execution_count": null,
   "id": "2021a388",
   "metadata": {
    "tags": [
     "hide-cell"
    ]
   },
   "outputs": [],
   "source": [
    "def precision(k):\n",
    "    n = 0\n",
    "    for i in test.index:\n",
    "        if knn(test.loc[i], k) == test.loc[i, \"Survived\"]:\n",
    "            n += 1\n",
    "    return n / len(test)\n",
    "\n",
    "precision(3)"
   ]
  },
  {
   "cell_type": "markdown",
   "id": "35f621c1",
   "metadata": {},
   "source": [
    ":::{admonition} Question\n",
    ":class: note\n",
    "Écrire une fonction `plot_precision(kmax)` qui trace la précision pour $k$ variant de $1$ à `kmax`. Quelle est la meilleure précision obtenue pour k entre 1 et 5 (cela prend environ 1 minute) ? Quelle est le nombre de voisins optimal ?\n",
    ":::\n",
    "\n",
    "**Solution**"
   ]
  },
  {
   "cell_type": "code",
   "execution_count": null,
   "id": "b737b9b6",
   "metadata": {
    "tags": [
     "hide-cell"
    ]
   },
   "outputs": [],
   "source": [
    "def plot_precision(kmax):\n",
    "    import matplotlib.pyplot as plt\n",
    "    R = range(1, kmax)\n",
    "    plt.plot(R, [precision(k) for k in R])\n",
    "    plt.show()\n",
    "\n",
    "plot_precision(5)"
   ]
  }
 ],
 "metadata": {
  "jupytext": {
   "text_representation": {
    "extension": ".md",
    "format_name": "myst",
    "format_version": 0.13,
    "jupytext_version": "1.16.4"
   }
  },
  "kernelspec": {
   "display_name": "Python 3 (ipykernel)",
   "language": "python",
   "name": "python3"
  },
  "language_info": {
   "codemirror_mode": {
    "name": "ipython",
    "version": 3
   },
   "file_extension": ".py",
   "mimetype": "text/x-python",
   "name": "python",
   "nbconvert_exporter": "python",
   "pygments_lexer": "ipython3",
   "version": "3.12.3"
  },
  "source_map": [
   12,
   27,
   37,
   42,
   46,
   48,
   52,
   54,
   60,
   62,
   66,
   68,
   73,
   79,
   91,
   99,
   102,
   116,
   126,
   128,
   140,
   153,
   159,
   162,
   180,
   191,
   196,
   199,
   207,
   216,
   222,
   227,
   237,
   244,
   252,
   261,
   269,
   275,
   286,
   296,
   304
  ]
 },
 "nbformat": 4,
 "nbformat_minor": 5
}