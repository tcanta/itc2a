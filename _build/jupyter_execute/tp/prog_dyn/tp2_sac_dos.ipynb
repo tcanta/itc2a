{
 "cells": [
  {
   "cell_type": "markdown",
   "id": "45cb1049",
   "metadata": {},
   "source": [
    "# TP 2 - Knapsack\n",
    "\n",
    "Pour programmer, vous pouvez soit utiliser Pyzo, soit [Basthon](https://notebook.basthon.fr/?from=https://raw.githubusercontent.com/tcanta/itc2a/master/eleve/tp2_sac_dos-eleve.ipynb).\n",
    "\n",
    "Commandes Basthon :\n",
    "\n",
    "- Ctrl + Entrée : exécuter la cellule\n",
    "- Shift + Entrée : exécuter la cellule puis passer à la suivante\n",
    "- Entrée : passer en mode édition\n",
    "- Échap : sortir du mode édition\n",
    "\n",
    "Les commandes suivantes sont valables uniquement hors du mode édition :\n",
    "\n",
    "- A : créer une nouvelle cellule (en haut)\n",
    "- B : créer une nouvelle cellule (en bas)\n",
    "- D D : supprimer la cellule"
   ]
  },
  {
   "cell_type": "markdown",
   "id": "6d62cd59",
   "metadata": {},
   "source": [
    "## Problème du sac à dos\n",
    "\n",
    "<center><img src=https://upload.wikimedia.org/wikipedia/commons/thumb/f/fd/Knapsack.svg/486px-Knapsack.svg.png width=250></center>\n",
    "\n",
    "On rappelle le problème du sac à dos :\n",
    "- **Entrée** : une capacité $c$ et des objets de poids $w_1, ..., w_n$ et valeurs $v_1$, ..., $v_n$.\n",
    "- **Sortie** : la valeur maximum que l'on peut mettre dans un sac de capacité $c$.  \n",
    "\n",
    "$c$ est le poids total maximum que l'on peut peut mettre dans le sac\n",
    "\n",
    "L'objectif du TP est de comparer l'algorithme de programmation dynamique vu en cours à des algorithmes gloutons.\n",
    "\n",
    "### Algorithmes gloutons\n",
    "\n",
    "Un algorithme glouton consiste à ajouter des objets un par un au sac, en choisissant à chaque étape l'objet qui a l'air le plus intéressant, si son poids n'excède pas la capacité restante du sac.  \n",
    "Suivant l'ordre dans lequel on choisit les objets, on obtient des algorithmes gloutons différents.\n",
    "\n",
    ":::{admonition} Question\n",
    ":class: note\n",
    "Écrire une fonction `glouton(c, w, v)` qui renvoie la valeur totale des objets choisis par l'algorithme glouton, en considérant les objets dans l'ordre donné par `w` et `v` (on regarde d'abord l'objet de poids `w[0]` et valeur `v[0]`, puis l'objet de poids `w[1]` et valeur `v[1]`...).  \n",
    "Tester avec l'exemple ci-dessous. Le résultat est-il optimal ?\n",
    ":::\n",
    "\n",
    "**Solution**"
   ]
  },
  {
   "cell_type": "code",
   "execution_count": 1,
   "id": "b7d009da",
   "metadata": {
    "tags": [
     "hide-cell"
    ]
   },
   "outputs": [],
   "source": [
    "def glouton(c, w, v):\n",
    "    \"\"\"Renvoie la valeur maximum qu'on peut obtenir avec les objets\n",
    "    c: capacité du sac\n",
    "    w: poids des objets\n",
    "    v: valeur des objets\n",
    "    \"\"\"\n",
    "    poids = 0\n",
    "    valeur = 0\n",
    "    for i in range(len(w)):\n",
    "        if poids + w[i] <= c:\n",
    "            poids += w[i]\n",
    "            valeur += v[i]\n",
    "    return valeur"
   ]
  },
  {
   "cell_type": "code",
   "execution_count": 2,
   "id": "d05335b1",
   "metadata": {},
   "outputs": [
    {
     "data": {
      "text/plain": [
       "8"
      ]
     },
     "execution_count": 2,
     "metadata": {},
     "output_type": "execute_result"
    }
   ],
   "source": [
    "glouton(10, [5, 3, 6], [4, 4, 6])"
   ]
  },
  {
   "cell_type": "markdown",
   "id": "01eeff1a",
   "metadata": {},
   "source": [
    "### Tri des objets\n",
    "\n",
    ":::{admonition} Question\n",
    ":class: note\n",
    "Écrire une fonction `combine(L1, L2)` qui renvoie la liste des couples `(L1[i], L2[i])`. On suppose que `L1` et `L2` ont la même longueur.\n",
    ":::\n",
    "\n",
    "**Solution**"
   ]
  },
  {
   "cell_type": "code",
   "execution_count": 3,
   "id": "21ef63e1",
   "metadata": {
    "tags": [
     "hide-cell"
    ]
   },
   "outputs": [],
   "source": [
    "def combine(L1, L2):\n",
    "    L = []\n",
    "    for i in range(len(L1)):\n",
    "        L.append((L1[i], L2[i]))\n",
    "    return L"
   ]
  },
  {
   "cell_type": "code",
   "execution_count": 4,
   "id": "d4abbf0c",
   "metadata": {},
   "outputs": [
    {
     "data": {
      "text/plain": [
       "[(1, 4), (2, 5), (3, 6)]"
      ]
     },
     "execution_count": 4,
     "metadata": {},
     "output_type": "execute_result"
    }
   ],
   "source": [
    "combine([1, 2, 3], [4, 5, 6])"
   ]
  },
  {
   "cell_type": "markdown",
   "id": "4893ccf3",
   "metadata": {},
   "source": [
    ":::{admonition} Question\n",
    ":class: note\n",
    "Écrire une fonction `split(L)` telle que si `L` est une liste de couples, `split(L)` renvoie deux listes `L1` et `L2` où `L1` contient les premiers éléments des couples de `L` et `L2` les seconds éléments des couples de `L`.\n",
    ":::\n",
    "**Solution**"
   ]
  },
  {
   "cell_type": "code",
   "execution_count": 5,
   "id": "faba434f",
   "metadata": {
    "tags": [
     "hide-cell"
    ]
   },
   "outputs": [],
   "source": [
    "def split(L):\n",
    "    L1 = []\n",
    "    L2 = []\n",
    "    for i in range(len(L)):\n",
    "        L1.append(L[i][0])\n",
    "        L2.append(L[i][1])\n",
    "    return L1, L2"
   ]
  },
  {
   "cell_type": "code",
   "execution_count": 6,
   "id": "690bc0b9",
   "metadata": {},
   "outputs": [
    {
     "data": {
      "text/plain": [
       "([1, 2, 3], [4, 5, 6])"
      ]
     },
     "execution_count": 6,
     "metadata": {},
     "output_type": "execute_result"
    }
   ],
   "source": [
    "split([(1, 4), (2, 5), (3, 6)])"
   ]
  },
  {
   "cell_type": "markdown",
   "id": "bbbed5fd",
   "metadata": {},
   "source": [
    "Si `L` est une liste, `L.sort()` trie `L` par ordre croissant (`L.sort(reverse=True)` pour trier par ordre décroissant). Si `L` contient des couples, la liste est triée suivant le premier élément de chaque couple (ordre lexicographique).  \n",
    "Exemple :"
   ]
  },
  {
   "cell_type": "code",
   "execution_count": 7,
   "id": "ec37aef7",
   "metadata": {},
   "outputs": [
    {
     "data": {
      "text/plain": [
       "[(1, 4), (3, 6), (7, 5)]"
      ]
     },
     "execution_count": 7,
     "metadata": {},
     "output_type": "execute_result"
    }
   ],
   "source": [
    "L = [(1, 4), (7, 5), (3, 6)]\n",
    "L.sort()\n",
    "L # trié suivant le 1er élément de chaque couple"
   ]
  },
  {
   "cell_type": "markdown",
   "id": "8d729944",
   "metadata": {},
   "source": [
    ":::{admonition} Question\n",
    ":class: note\n",
    "Écrire une fonction `tri_poids(w, v)` qui renvoie les listes `w2` et `v2` obtenues à partir de `w` et `v` en triant les poids par ordre croissant. On pourra utiliser `L.sort`, `combine` et `split`.\n",
    ":::\n",
    "\n",
    "**Solution**"
   ]
  },
  {
   "cell_type": "code",
   "execution_count": 8,
   "id": "1c75a04d",
   "metadata": {
    "tags": [
     "hide-cell"
    ]
   },
   "outputs": [],
   "source": [
    "def tri_poids(w, v):\n",
    "    L = combine(w, v)\n",
    "    L.sort()\n",
    "    return split(L)"
   ]
  },
  {
   "cell_type": "code",
   "execution_count": 9,
   "id": "89a5207a",
   "metadata": {},
   "outputs": [
    {
     "data": {
      "text/plain": [
       "([3, 5, 6], [0, 42, 2])"
      ]
     },
     "execution_count": 9,
     "metadata": {},
     "output_type": "execute_result"
    }
   ],
   "source": [
    "tri_poids([5, 3, 6], [42, 0, 2])"
   ]
  },
  {
   "cell_type": "markdown",
   "id": "6c3da63f",
   "metadata": {},
   "source": [
    "---\n",
    "\n",
    "### Stratégies gloutonnes\n",
    "\n",
    ":::{admonition} Question\n",
    ":class: note\n",
    "En déduire une fonction `glouton_poids(c, w, v)` qui renvoie la valeur totale des objets choisis par l'algorithme glouton, en considérant les objets dans l'ordre de poids croissant. On pourra réutiliser `glouton`.  \n",
    "Est-ce que cet algorithme est toujours optimal ?\n",
    ":::\n",
    "**Solution**"
   ]
  },
  {
   "cell_type": "code",
   "execution_count": 10,
   "id": "4ddf2aa1",
   "metadata": {
    "tags": [
     "hide-cell"
    ]
   },
   "outputs": [],
   "source": [
    "def glouton_poids(c, w, v):\n",
    "    w, v = tri_poids(w, v)\n",
    "    return glouton(c, w, v)"
   ]
  },
  {
   "cell_type": "code",
   "execution_count": 11,
   "id": "8d6b8c49",
   "metadata": {},
   "outputs": [
    {
     "data": {
      "text/plain": [
       "8"
      ]
     },
     "execution_count": 11,
     "metadata": {},
     "output_type": "execute_result"
    }
   ],
   "source": [
    "glouton_poids(10, [5, 3, 6], [4, 4, 10])"
   ]
  },
  {
   "cell_type": "markdown",
   "id": "4b165494",
   "metadata": {},
   "source": [
    ":::{admonition} Question\n",
    ":class: note\n",
    "Écrire de même des fonctions `tri_valeur(w, v)` et `glouton_valeur(c, w, v)` qui renvoie la valeur totale des objets choisis par l'algorithme glouton, en considérant les objets dans l'ordre de valeur décroissante (en utilisant `L.sort(reverse=True)`). Est-ce que cet algorithme est toujours optimal ?\n",
    ":::\n",
    "**Solution**"
   ]
  },
  {
   "cell_type": "code",
   "execution_count": 12,
   "id": "6d49e1f9",
   "metadata": {
    "tags": [
     "hide-cell"
    ]
   },
   "outputs": [],
   "source": [
    "def tri_valeur(w, v):\n",
    "    L = combine(v, w)\n",
    "    L.sort(reverse=True)\n",
    "    L1, L2 = split(L)\n",
    "    return L2, L1\n",
    "\n",
    "def glouton_valeur(c, w, v):\n",
    "    w, v = tri_valeur(w, v)\n",
    "    return glouton(c, w, v)"
   ]
  },
  {
   "cell_type": "code",
   "execution_count": 13,
   "id": "007a5205",
   "metadata": {},
   "outputs": [
    {
     "data": {
      "text/plain": [
       "6"
      ]
     },
     "execution_count": 13,
     "metadata": {},
     "output_type": "execute_result"
    }
   ],
   "source": [
    "glouton_valeur(10, [5, 4, 7], [4, 4, 6])"
   ]
  },
  {
   "cell_type": "markdown",
   "id": "9267ad52",
   "metadata": {},
   "source": [
    ":::{admonition} Question\n",
    ":class: note\n",
    "De même, écrire une fonction `glouton_ratio(c, w, v)` qui renvoie la valeur totale des objets choisis par l'algorithme glouton, en considérant les objets dans l'ordre de ratio valeur/poids décroissant. On pourra utiliser deux fois `combine`.\n",
    ":::\n",
    "**Solution**"
   ]
  },
  {
   "cell_type": "code",
   "execution_count": 14,
   "id": "2e748472",
   "metadata": {
    "tags": [
     "hide-cell"
    ]
   },
   "outputs": [],
   "source": [
    "def tri_ratio(v, w):\n",
    "    L = combine(v, w)\n",
    "    L = combine([v[i]/w[i] for i in range(len(v))], L)\n",
    "\n",
    "    L.sort(reverse=True)\n",
    "    return split(split(L)[1])\n",
    "\n",
    "def glouton_ratio(c, w, v):\n",
    "    v, w = tri_ratio(v, w)\n",
    "    return glouton(c, w, v)"
   ]
  },
  {
   "cell_type": "code",
   "execution_count": 15,
   "id": "411cdfe9",
   "metadata": {},
   "outputs": [
    {
     "data": {
      "text/plain": [
       "8"
      ]
     },
     "execution_count": 15,
     "metadata": {},
     "output_type": "execute_result"
    }
   ],
   "source": [
    "glouton_ratio(10, [5, 4, 7], [4, 4, 6])"
   ]
  },
  {
   "cell_type": "markdown",
   "id": "365da8be",
   "metadata": {},
   "source": [
    "### Programmation dynamique\n",
    "\n",
    "On rappelle le problème du sac à dos :\n",
    "- **Entrée** : une capacité $c$ et des objets de poids $w_1, ..., w_n$ et valeurs $v_1$, ..., $v_n$.\n",
    "- **Sortie** : la valeur maximum que l'on peut mettre dans un sac de capacité $c$.\n",
    "\n",
    "Soit $dp[i][j]$ la valeur maximum que l'on peut mettre dans un sac de capacité $i$, en ne considérant que les $j$ premiers objets. On suppose que les poids sont strictement positifs.\n",
    "\n",
    ":::{admonition} Question\n",
    ":class: note\n",
    "Que vaut $dp[i][0]$ ?\n",
    ":::\n",
    "\n",
    ":::{dropdown} Solution\n",
    ":animate: fade-in\n",
    "$dp[i][0] = 0$ : on ne peut pas mettre d'objet dans un sac quand on a pas d'objets...\n",
    ":::\n",
    "\n",
    ":::{admonition} Question\n",
    ":class: note\n",
    "Exprimer $dp[i][j]$ en fonction de $dp[i][j-1]$ dans le cas où $w_j > i$.\n",
    ":::\n",
    "\n",
    ":::{dropdown} Solution\n",
    ":animate: fade-in\n",
    "$dp[i][j] = dp[i][j-1]$ : on ne peut pas mettre l'objet $j$ dans le sac de capacité $i$.\n",
    ":::\n",
    "\n",
    ":::{admonition} Question\n",
    ":class: note\n",
    "Supposons $w_j \\leq i$. Donner une formule de récurrence sur $dp[i][j]$, en distinguant le cas où l'objet $j$ est choisi et le cas où il ne l'est pas.\n",
    ":::\n",
    "\n",
    ":::{dropdown} Solution\n",
    ":animate: fade-in\n",
    "$$dp[i][j] = \\max(\\underbrace{dp[i][j - 1]}_{\\text{sans prendre } o_j}, \\underbrace{dp[i - w_j][j - 1] + v_j}_{\\substack{\\text{en prenant } o_j}, \\text{si }i - w_j \\geq 0})$$\n",
    ":::\n",
    "\n",
    ":::{admonition} Question\n",
    ":class: note\n",
    "En déduire une fonction `prog_dyn(c, w, v)` qui renvoie la valeur maximum que l'on peut mettre dans un sac de capacité $c$, en ne considérant que les $j$ premiers objets, en remplissant une matrice `dp` de taille $(c+1) \\times (n+1)$.\n",
    ":::\n",
    "**Solution**"
   ]
  },
  {
   "cell_type": "code",
   "execution_count": 16,
   "id": "8eef5164",
   "metadata": {
    "tags": [
     "hide-cell"
    ]
   },
   "outputs": [],
   "source": [
    "def prog_dyn(c, w, v):\n",
    "    n = len(w)\n",
    "    dp = [[0 for j in range(c+1)] for i in range(n+1)]\n",
    "    for i in range(1, n+1):\n",
    "        for j in range(1, c+1):\n",
    "            if j < w[i-1]:\n",
    "                dp[i][j] = dp[i-1][j]\n",
    "            else:\n",
    "                dp[i][j] = max(dp[i-1][j], dp[i-1][j-w[i-1]] + v[i-1])\n",
    "    return dp[n][c]"
   ]
  },
  {
   "cell_type": "code",
   "execution_count": 17,
   "id": "15c75bde",
   "metadata": {},
   "outputs": [
    {
     "data": {
      "text/plain": [
       "8"
      ]
     },
     "execution_count": 17,
     "metadata": {},
     "output_type": "execute_result"
    }
   ],
   "source": [
    "prog_dyn(10, [5, 4, 7], [4, 4, 6])"
   ]
  },
  {
   "cell_type": "markdown",
   "id": "ee57aac2",
   "metadata": {},
   "source": [
    "---\n",
    "### Comparaison\n",
    "\n",
    ":::{admonition} Question\n",
    ":class: note\n",
    "Écrire une fonction `genere_instance()` qui renvoie un triplet $(c, w, v)$, où $c$ est un entier aléatoire entre 1 et 1000 et $w$, $v$ sont des listes de 100 entiers aléatoires entre 1 et 100.  \n",
    "On importera `random` pour utiliser `random.randint(a, b)` qui génère un entier aléatoire entre $a$ et $b$ inclus.\n",
    ":::\n",
    "**Solution**"
   ]
  },
  {
   "cell_type": "code",
   "execution_count": 18,
   "id": "12607e5a",
   "metadata": {
    "tags": [
     "hide-cell"
    ]
   },
   "outputs": [],
   "source": [
    "import random\n",
    "\n",
    "def genere_instance():\n",
    "    c = random.randint(1, 1000)\n",
    "    w = [random.randint(1, 100) for i in range(100)]\n",
    "    v = [random.randint(1, 100) for i in range(100)]\n",
    "    return c, w, v"
   ]
  },
  {
   "cell_type": "markdown",
   "id": "466fb2cd",
   "metadata": {},
   "source": [
    ":::{admonition} Question\n",
    ":class: note\n",
    "Afficher, pour chaque stratégie gloutonne (ordre de poids, ordre de valeur, ordre de ratio), l'erreur commise par rapport à la solution optimale, en moyennant sur 100 instances générées par `genere_instance()`.  \n",
    "Quelle stratégie gloutonne est la plus efficace ?\n",
    ":::\n",
    "\n",
    "**Solution**"
   ]
  },
  {
   "cell_type": "code",
   "execution_count": 19,
   "id": "b649c160",
   "metadata": {
    "tags": [
     "hide-cell"
    ]
   },
   "outputs": [
    {
     "name": "stdout",
     "output_type": "stream",
     "text": [
      "Glouton poids : 0.8446104552711815\n",
      "Glouton valeur : 0.6254606013354892\n",
      "Glouton ratio : 0.993830981306582\n"
     ]
    }
   ],
   "source": [
    "gp, gv, gr = 0, 0, 0\n",
    "for i in range(100):\n",
    "    c, w, v = genere_instance()\n",
    "    sol = prog_dyn(c, w, v)\n",
    "    gp += glouton_poids(c, w, v)/sol\n",
    "    gv += glouton_valeur(c, w, v)/sol\n",
    "    gr += glouton_ratio(c, w, v)/sol\n",
    "print(f\"Glouton poids : {gp/100}\")\n",
    "print(f\"Glouton valeur : {gv/100}\")\n",
    "print(f\"Glouton ratio : {gr/100}\")"
   ]
  },
  {
   "cell_type": "markdown",
   "id": "e8a4b563",
   "metadata": {},
   "source": [
    ":::{admonition} Question\n",
    ":class: note\n",
    "Comparer le temps total d'exécution de la stratégie gloutonne par ratio et de la programmation dynamique, sur 100 instances générées par `genere_instance()`. On pourra importer `time` et utiliser `time.time()` pour obtenir le temps actuel en secondes.\n",
    ":::\n",
    "\n",
    "**Solution**"
   ]
  },
  {
   "cell_type": "code",
   "execution_count": 20,
   "id": "a7a31647",
   "metadata": {
    "tags": [
     "hide-cell"
    ]
   },
   "outputs": [
    {
     "name": "stdout",
     "output_type": "stream",
     "text": [
      "Glouton poids : 0.004517555236816406 s\n",
      "Programmation dynamique : 2.0186679363250732 s\n"
     ]
    }
   ],
   "source": [
    "import time\n",
    "\n",
    "t1, t2 = 0, 0\n",
    "for i in range(100):\n",
    "    c, w, v = genere_instance()\n",
    "    t = time.time()\n",
    "    glouton_poids(c, w, v)\n",
    "    t1 += time.time() - t\n",
    "    t = time.time()\n",
    "    prog_dyn(c, w, v)\n",
    "    t2 += time.time() - t\n",
    "print(f\"Glouton poids : {t1} s\")\n",
    "print(f\"Programmation dynamique : {t2} s\")"
   ]
  },
  {
   "cell_type": "markdown",
   "id": "cab2afef",
   "metadata": {},
   "source": [
    "---\n",
    "### Obtenir la liste des objets choisis\n",
    "\n",
    ":::{admonition} Question\n",
    ":class: note\n",
    "Réécrire la fonction `prog_dyn(c, w, v)` pour qu'elle renvoie la liste des objets choisis. Pour cela, on peut construire la matrice `dp` et remarquer que :  \n",
    "- si $dp[i][j] = dp[i][j-1]$, alors l'objet $j$ n'est pas choisi ;\n",
    "- si $dp[i][j] = dp[i - w_j][j - 1] + v_j$, alors l'objet $j$ est choisi.  \n",
    "On peut donc construire la liste des objets choisis en remontant la matrice `dp` à partir de la case $(c, n)$.\n",
    ":::\n",
    "**Solution**"
   ]
  },
  {
   "cell_type": "code",
   "execution_count": 21,
   "id": "5ce731b1",
   "metadata": {
    "tags": [
     "hide-cell"
    ]
   },
   "outputs": [],
   "source": [
    "def prog_dyn(c, w, v):\n",
    "    n = len(w)\n",
    "    dp = [[0 for j in range(c+1)] for i in range(n+1)]\n",
    "    for i in range(1, n+1):\n",
    "        for j in range(1, c+1):\n",
    "            if j < w[i-1]:\n",
    "                dp[i][j] = dp[i-1][j]\n",
    "            else:\n",
    "                dp[i][j] = max(dp[i-1][j], dp[i-1][j-w[i-1]] + v[i-1])\n",
    "\n",
    "    # reconstruction de la solution\n",
    "    i, j = n, c\n",
    "    sol = []\n",
    "    while i > 0 and j > 0:\n",
    "        if dp[i][j] == dp[i-1][j]:\n",
    "            i -= 1\n",
    "        else:\n",
    "            sol.append(i-1)\n",
    "            j -= w[i-1]\n",
    "            i -= 1\n",
    "    return sol"
   ]
  },
  {
   "cell_type": "code",
   "execution_count": 22,
   "id": "88f670d8",
   "metadata": {},
   "outputs": [
    {
     "data": {
      "text/plain": [
       "[1, 0]"
      ]
     },
     "execution_count": 22,
     "metadata": {},
     "output_type": "execute_result"
    }
   ],
   "source": [
    "prog_dyn(10, [5, 4, 7], [4, 4, 6])\n",
    "# la solution optimale consiste à choisir les objets 1 et 0"
   ]
  },
  {
   "cell_type": "markdown",
   "id": "e1f29dc4",
   "metadata": {},
   "source": [
    "---\n",
    "\n",
    "## Plus long chemin croissant dans une matrice\n",
    "\n",
    "\n",
    "Etant donnée une matrice d'entiers de taille `m` x `n`, quelle est la longueur du plus long chemin croissant dans cette matrice ?\n",
    "\n",
    "Pour chaque élément dans la matrice, on peut bouger dans les quatre directions (haut, bas, droite et gauche) mais pas en diagonale ou en dehors de la matrice.\n",
    "\n",
    "Exemple 1 :\n",
    "\n",
    "<center><img src=https://raw.githubusercontent.com/tcanta/itc2a/master/img/grid1.jpg width=250></center>\n",
    "\n",
    "Exemple 2 :\n",
    "\n",
    "<center><img src=https://raw.githubusercontent.com/tcanta/itc2a/master/img/grid2.jpg width=260></center>\n",
    "\n",
    ":::{admonition} Question\n",
    ":class: note\n",
    "Proposez une fonction renvoyant la longueur du plus long chemin croissant dans une matrice. Votre solution devra utiliser de la programmation dynamique.\n",
    ":::\n",
    "\n",
    ":::{dropdown} Indice 1\n",
    ":animate: fade-in\n",
    "Posez les cas limites qui vont vous embeter et pensez à votre structure de données.\n",
    ":::\n",
    "\n",
    ":::{dropdown} Indice 2\n",
    ":animate: fade-in\n",
    "Utilisez une fonction auxiliaire qui vous résoud un sous-problème...\n",
    ":::\n",
    "\n",
    ":::{dropdown} Indice 3\n",
    ":animate: fade-in\n",
    "... c'est à dire une fonction qui résoud le plus grand chemin croissant en partant d'une cellule donnée dans la matrice.\n",
    ":::\n",
    "\n",
    "**Solution**\n",
    "\n",
    "Vous êtes vraiment sur de vouloir abandonner si proche du but ?"
   ]
  },
  {
   "cell_type": "code",
   "execution_count": 23,
   "id": "7777a66d",
   "metadata": {
    "tags": [
     "hide-cell"
    ]
   },
   "outputs": [],
   "source": [
    "m1 = [[9,9,4],[6,6,8],[2,1,1]]\n",
    "m2 = [[3,4,5],[3,2,6],[2,2,1]]\n",
    "\n",
    "\n",
    "def lip(mat, i, j, d):\n",
    "    current = mat[i][j]\n",
    "    bn = [0,0,0,0] #better neighbours\n",
    "    left = right = top = bottom = True\n",
    "\n",
    "    if i <= 0:\n",
    "        top = False\n",
    "    if i >= len(mat)-1:\n",
    "        bottom = False\n",
    "    if j <= 0:\n",
    "        left = False\n",
    "    if j >= len(mat[0])-1:\n",
    "        right = False\n",
    "\n",
    "    if top:\n",
    "        if mat[i-1][j]>current:\n",
    "            if d[i-1][j] == 0:\n",
    "                d[i-1][j] = lip(mat,i-1,j, d)\n",
    "            bn[0] = d[i-1][j]\n",
    "    if bottom:\n",
    "        if mat[i+1][j]>current:\n",
    "            if d[i+1][j] == 0:\n",
    "                d[i+1][j] = lip(mat,i+1,j, d)\n",
    "            bn[1] = d[i+1][j]\n",
    "    if left:\n",
    "        if mat[i][j-1]>current:\n",
    "            if d[i][j-1] == 0:\n",
    "                d[i][j-1] = lip(mat,i,j-1, d)\n",
    "            bn[2] = d[i][j-1]\n",
    "    if right:\n",
    "        if mat[i][j+1]>current:\n",
    "            if d[i][j+1] == 0:\n",
    "                d[i][j+1] = lip(mat,i,j+1, d)\n",
    "            bn[3] = d[i][j+1]\n",
    "\n",
    "    if d[i][j] == 0:\n",
    "        d[i][j] = 1 + max(bn[0] ,bn[1], bn[2], bn[3])\n",
    "    return 1 + max(bn[0] ,bn[1], bn[2], bn[3])\n",
    "\n",
    "def longestIncreasingPath(mat):\n",
    "    d = [[0]*len(mat[0]) for _ in range(len(mat))]\n",
    "    max_coords=(0,0)\n",
    "    maxi = 0\n",
    "    for i in range(len(mat)):\n",
    "        for j in range(len(mat[0])):\n",
    "            if lip(mat, i, j, d) > maxi:\n",
    "                max_coords = (i,j)\n",
    "                maxi = lip(mat, i, j, d)\n",
    "    return maxi, max_coords, d"
   ]
  },
  {
   "cell_type": "code",
   "execution_count": 24,
   "id": "0b800f63",
   "metadata": {},
   "outputs": [
    {
     "data": {
      "text/plain": [
       "(4, (2, 1), [[1, 1, 2], [2, 2, 1], [3, 4, 2]])"
      ]
     },
     "execution_count": 24,
     "metadata": {},
     "output_type": "execute_result"
    }
   ],
   "source": [
    "longestIncreasingPath(m1)"
   ]
  },
  {
   "cell_type": "code",
   "execution_count": 25,
   "id": "4639e62d",
   "metadata": {},
   "outputs": [
    {
     "data": {
      "text/plain": [
       "(4, (0, 0), [[4, 3, 2], [1, 4, 1], [2, 1, 2]])"
      ]
     },
     "execution_count": 25,
     "metadata": {},
     "output_type": "execute_result"
    }
   ],
   "source": [
    "longestIncreasingPath(m2)"
   ]
  },
  {
   "cell_type": "markdown",
   "id": "64901e39",
   "metadata": {},
   "source": [
    ":::"
   ]
  }
 ],
 "metadata": {
  "jupytext": {
   "text_representation": {
    "extension": ".md",
    "format_name": "myst",
    "format_version": 0.13,
    "jupytext_version": "1.16.4"
   }
  },
  "kernelspec": {
   "display_name": "Python 3 (ipykernel)",
   "language": "python",
   "name": "python3"
  },
  "language_info": {
   "codemirror_mode": {
    "name": "ipython",
    "version": 3
   },
   "file_extension": ".py",
   "mimetype": "text/x-python",
   "name": "python",
   "nbconvert_exporter": "python",
   "pygments_lexer": "ipython3",
   "version": "3.12.3"
  },
  "source_map": [
   12,
   30,
   56,
   72,
   74,
   84,
   93,
   95,
   103,
   113,
   115,
   119,
   123,
   131,
   138,
   140,
   152,
   159,
   161,
   168,
   181,
   183,
   190,
   205,
   207,
   253,
   267,
   269,
   281,
   291,
   301,
   314,
   323,
   339,
   352,
   376,
   379,
   421,
   477,
   480,
   482
  ]
 },
 "nbformat": 4,
 "nbformat_minor": 5
}