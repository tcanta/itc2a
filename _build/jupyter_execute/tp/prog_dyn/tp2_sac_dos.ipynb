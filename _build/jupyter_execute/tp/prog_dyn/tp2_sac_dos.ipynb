{
 "cells": [
  {
   "cell_type": "markdown",
   "id": "cf780f0f",
   "metadata": {},
   "source": [
    "# TP 2 - Knapsack\n",
    "\n",
    "Pour programmer, vous pouvez soit utiliser Pyzo, soit [Basthon](https://notebook.basthon.fr/?from=https://raw.githubusercontent.com/tcanta/itc2a/master/eleve/tp2_sac_dos-eleve.ipynb).\n",
    "\n",
    "Commandes Basthon :\n",
    "\n",
    "- Ctrl + Entrée : exécuter la cellule\n",
    "- Shift + Entrée : exécuter la cellule puis passer à la suivante\n",
    "- Entrée : passer en mode édition\n",
    "- Échap : sortir du mode édition\n",
    "\n",
    "Les commandes suivantes sont valables uniquement hors du mode édition :\n",
    "\n",
    "- A : créer une nouvelle cellule (en haut)\n",
    "- B : créer une nouvelle cellule (en bas)\n",
    "- D D : supprimer la cellule"
   ]
  },
  {
   "cell_type": "markdown",
   "id": "847f54d8",
   "metadata": {},
   "source": [
    "## Problème du sac à dos\n",
    "\n",
    "<center><img src=https://upload.wikimedia.org/wikipedia/commons/thumb/f/fd/Knapsack.svg/486px-Knapsack.svg.png width=250></center>\n",
    "\n",
    "On rappelle le problème du sac à dos :\n",
    "- **Entrée** : une capacité $c$ et des objets de poids $w_1, ..., w_n$ et valeurs $v_1$, ..., $v_n$.\n",
    "- **Sortie** : la valeur maximum que l'on peut mettre dans un sac de capacité $c$.  \n",
    "\n",
    "$c$ est le poids total maximum que l'on peut peut mettre dans le sac\n",
    "\n",
    "L'objectif du TP est de comparer l'algorithme de programmation dynamique vu en cours à des algorithmes gloutons.\n",
    "\n",
    "### Algorithmes gloutons\n",
    "\n",
    "Un algorithme glouton consiste à ajouter des objets un par un au sac, en choisissant à chaque étape l'objet qui a l'air le plus intéressant, si son poids n'excède pas la capacité restante du sac.  \n",
    "Suivant l'ordre dans lequel on choisit les objets, on obtient des algorithmes gloutons différents.\n",
    "\n",
    ":::{admonition} Question\n",
    ":class: note\n",
    "Écrire une fonction `glouton(c, w, v)` qui renvoie la valeur totale des objets choisis par l'algorithme glouton, en considérant les objets dans l'ordre donné par `w` et `v` (on regarde d'abord l'objet de poids `w[0]` et valeur `v[0]`, puis l'objet de poids `w[1]` et valeur `v[1]`...).  \n",
    "Tester avec l'exemple ci-dessous. Le résultat est-il optimal ?\n",
    ":::\n",
    "\n",
    "**Solution**"
   ]
  },
  {
   "cell_type": "code",
   "execution_count": 1,
   "id": "3e02f29e",
   "metadata": {
    "tags": [
     "hide-cell"
    ]
   },
   "outputs": [],
   "source": [
    "def glouton(c, w, v):\n",
    "    \"\"\"Renvoie la valeur maximum qu'on peut obtenir avec les objets\n",
    "    c: capacité du sac\n",
    "    w: poids des objets\n",
    "    v: valeur des objets\n",
    "    \"\"\"\n",
    "    poids = 0\n",
    "    valeur = 0\n",
    "    for i in range(len(w)):\n",
    "        if poids + w[i] <= c:\n",
    "            poids += w[i]\n",
    "            valeur += v[i]\n",
    "    return valeur"
   ]
  },
  {
   "cell_type": "code",
   "execution_count": 2,
   "id": "9ccf2811",
   "metadata": {},
   "outputs": [
    {
     "data": {
      "text/plain": [
       "8"
      ]
     },
     "execution_count": 2,
     "metadata": {},
     "output_type": "execute_result"
    }
   ],
   "source": [
    "glouton(10, [5, 3, 6], [4, 4, 6])"
   ]
  },
  {
   "cell_type": "markdown",
   "id": "1cf114b3",
   "metadata": {},
   "source": [
    "### Tri des objets\n",
    "\n",
    ":::{admonition} Question\n",
    ":class: note\n",
    "Écrire une fonction `combine(L1, L2)` qui renvoie la liste des couples `(L1[i], L2[i])`. On suppose que `L1` et `L2` ont la même longueur.\n",
    ":::"
   ]
  },
  {
   "cell_type": "code",
   "execution_count": 3,
   "id": "a87e32db",
   "metadata": {
    "tags": [
     "hide-cell"
    ]
   },
   "outputs": [],
   "source": [
    "def combine(L1, L2):\n",
    "    L = []\n",
    "    for i in range(len(L1)):\n",
    "        L.append((L1[i], L2[i]))\n",
    "    return L"
   ]
  },
  {
   "cell_type": "code",
   "execution_count": 4,
   "id": "822fa477",
   "metadata": {},
   "outputs": [
    {
     "data": {
      "text/plain": [
       "[(1, 4), (2, 5), (3, 6)]"
      ]
     },
     "execution_count": 4,
     "metadata": {},
     "output_type": "execute_result"
    }
   ],
   "source": [
    "combine([1, 2, 3], [4, 5, 6])"
   ]
  },
  {
   "cell_type": "markdown",
   "id": "a5d5e1e0",
   "metadata": {},
   "source": [
    ":::{admonition} Question\n",
    ":class: note\n",
    "Écrire une fonction `split(L)` telle que si `L` est une liste de couples, `split(L)` renvoie deux listes `L1` et `L2` où `L1` contient les premiers éléments des couples de `L` et `L2` les seconds éléments des couples de `L`.\n",
    ":::"
   ]
  },
  {
   "cell_type": "code",
   "execution_count": 5,
   "id": "2b4d6212",
   "metadata": {
    "tags": [
     "hide-cell"
    ]
   },
   "outputs": [],
   "source": [
    "def split(L):\n",
    "    L1 = []\n",
    "    L2 = []\n",
    "    for i in range(len(L)):\n",
    "        L1.append(L[i][0])\n",
    "        L2.append(L[i][1])\n",
    "    return L1, L2"
   ]
  },
  {
   "cell_type": "code",
   "execution_count": 6,
   "id": "9d0762e9",
   "metadata": {},
   "outputs": [
    {
     "data": {
      "text/plain": [
       "([1, 2, 3], [4, 5, 6])"
      ]
     },
     "execution_count": 6,
     "metadata": {},
     "output_type": "execute_result"
    }
   ],
   "source": [
    "split([(1, 4), (2, 5), (3, 6)])"
   ]
  },
  {
   "cell_type": "markdown",
   "id": "cbc97f30",
   "metadata": {},
   "source": [
    "Si `L` est une liste, `L.sort()` trie `L` par ordre croissant (`L.sort(reverse=True)` pour trier par ordre décroissant). Si `L` contient des couples, la liste est triée suivant le premier élément de chaque couple (ordre lexicographique).  \n",
    "Exemple :"
   ]
  },
  {
   "cell_type": "code",
   "execution_count": 7,
   "id": "79a95bef",
   "metadata": {},
   "outputs": [
    {
     "data": {
      "text/plain": [
       "[(1, 4), (3, 6), (7, 5)]"
      ]
     },
     "execution_count": 7,
     "metadata": {},
     "output_type": "execute_result"
    }
   ],
   "source": [
    "L = [(1, 4), (7, 5), (3, 6)]\n",
    "L.sort()\n",
    "L # trié suivant le 1er élément de chaque couple"
   ]
  },
  {
   "cell_type": "markdown",
   "id": "09c920bd",
   "metadata": {},
   "source": [
    ":::{admonition} Question\n",
    ":class: note\n",
    "Écrire une fonction `tri_poids(w, v)` qui renvoie les listes `w2` et `v2` obtenues à partir de `w` et `v` en triant les poids par ordre croissant. On pourra utiliser `L.sort`, `combine` et `split`.\n",
    ":::"
   ]
  },
  {
   "cell_type": "code",
   "execution_count": 8,
   "id": "92ea32a8",
   "metadata": {
    "tags": [
     "hide-cell"
    ]
   },
   "outputs": [],
   "source": [
    "def tri_poids(w, v):\n",
    "    L = combine(w, v)\n",
    "    L.sort()\n",
    "    return split(L)"
   ]
  },
  {
   "cell_type": "code",
   "execution_count": 9,
   "id": "5ee12fc7",
   "metadata": {},
   "outputs": [
    {
     "data": {
      "text/plain": [
       "([3, 5, 6], [0, 42, 2])"
      ]
     },
     "execution_count": 9,
     "metadata": {},
     "output_type": "execute_result"
    }
   ],
   "source": [
    "tri_poids([5, 3, 6], [42, 0, 2])"
   ]
  },
  {
   "cell_type": "markdown",
   "id": "71e82c1c",
   "metadata": {},
   "source": [
    "---\n",
    "\n",
    "### Stratégies gloutonnes\n",
    "\n",
    ":::{admonition} Question\n",
    ":class: note\n",
    "En déduire une fonction `glouton_poids(c, w, v)` qui renvoie la valeur totale des objets choisis par l'algorithme glouton, en considérant les objets dans l'ordre de poids croissant. On pourra réutiliser `glouton`.  \n",
    "Est-ce que cet algorithme est toujours optimal ?\n",
    ":::"
   ]
  },
  {
   "cell_type": "code",
   "execution_count": 10,
   "id": "df0b20f5",
   "metadata": {
    "tags": [
     "hide-cell"
    ]
   },
   "outputs": [],
   "source": [
    "def glouton_poids(c, w, v):\n",
    "    w, v = tri_poids(w, v)\n",
    "    return glouton(c, w, v)"
   ]
  },
  {
   "cell_type": "code",
   "execution_count": 11,
   "id": "7c5fbdd7",
   "metadata": {},
   "outputs": [
    {
     "data": {
      "text/plain": [
       "8"
      ]
     },
     "execution_count": 11,
     "metadata": {},
     "output_type": "execute_result"
    }
   ],
   "source": [
    "glouton_poids(10, [5, 3, 6], [4, 4, 10])"
   ]
  },
  {
   "cell_type": "markdown",
   "id": "7bbf33d4",
   "metadata": {},
   "source": [
    ":::{admonition} Question\n",
    ":class: note\n",
    "Écrire de même des fonctions `tri_valeur(w, v)` et `glouton_valeur(c, w, v)` qui renvoie la valeur totale des objets choisis par l'algorithme glouton, en considérant les objets dans l'ordre de valeur décroissante (en utilisant `L.sort(reverse=True)`). Est-ce que cet algorithme est toujours optimal ?\n",
    ":::"
   ]
  },
  {
   "cell_type": "code",
   "execution_count": 12,
   "id": "c4630fa5",
   "metadata": {
    "tags": [
     "hide-cell"
    ]
   },
   "outputs": [],
   "source": [
    "def tri_valeur(w, v):\n",
    "    L = combine(v, w)\n",
    "    L.sort(reverse=True)\n",
    "    L1, L2 = split(L)\n",
    "    return L2, L1\n",
    "\n",
    "def glouton_valeur(c, w, v):\n",
    "    w, v = tri_valeur(w, v)\n",
    "    return glouton(c, w, v)"
   ]
  },
  {
   "cell_type": "code",
   "execution_count": 13,
   "id": "67699fbc",
   "metadata": {},
   "outputs": [
    {
     "data": {
      "text/plain": [
       "6"
      ]
     },
     "execution_count": 13,
     "metadata": {},
     "output_type": "execute_result"
    }
   ],
   "source": [
    "glouton_valeur(10, [5, 4, 7], [4, 4, 6])"
   ]
  },
  {
   "cell_type": "markdown",
   "id": "9bccb52d",
   "metadata": {},
   "source": [
    ":::{admonition} Question\n",
    ":class: note\n",
    "De même, écrire une fonction `glouton_ratio(c, w, v)` qui renvoie la valeur totale des objets choisis par l'algorithme glouton, en considérant les objets dans l'ordre de ratio valeur/poids décroissant. On pourra utiliser deux fois `combine`.\n",
    ":::"
   ]
  },
  {
   "cell_type": "code",
   "execution_count": 14,
   "id": "d5882ee0",
   "metadata": {
    "tags": [
     "hide-cell"
    ]
   },
   "outputs": [],
   "source": [
    "def tri_ratio(v, w):\n",
    "    L = combine(v, w)\n",
    "    L = combine([v[i]/w[i] for i in range(len(v))], L)\n",
    "\n",
    "    L.sort(reverse=True)\n",
    "    return split(split(L)[1])\n",
    "\n",
    "def glouton_ratio(c, w, v):\n",
    "    v, w = tri_ratio(v, w)\n",
    "    return glouton(c, w, v)"
   ]
  },
  {
   "cell_type": "code",
   "execution_count": 15,
   "id": "990c50f9",
   "metadata": {},
   "outputs": [
    {
     "data": {
      "text/plain": [
       "8"
      ]
     },
     "execution_count": 15,
     "metadata": {},
     "output_type": "execute_result"
    }
   ],
   "source": [
    "glouton_ratio(10, [5, 4, 7], [4, 4, 6])"
   ]
  },
  {
   "cell_type": "markdown",
   "id": "085bbb1c",
   "metadata": {},
   "source": [
    "## Programmation dynamique\n",
    "\n",
    "On rappelle le problème du sac à dos :\n",
    "- **Entrée** : une capacité $c$ et des objets de poids $w_1, ..., w_n$ et valeurs $v_1$, ..., $v_n$.\n",
    "- **Sortie** : la valeur maximum que l'on peut mettre dans un sac de capacité $c$.\n",
    "\n",
    "Soit $dp[i][j]$ la valeur maximum que l'on peut mettre dans un sac de capacité $i$, en ne considérant que les $j$ premiers objets. On suppose que les poids sont strictement positifs.\n",
    "\n",
    ":::{admonition} Question\n",
    ":class: note\n",
    "Que vaut $dp[i][0]$ ?\n",
    ":::\n",
    "\n",
    ":::{dropdown} Solution\n",
    ":animate: fade-in\n",
    "$dp[i][0] = 0$ : on ne peut pas mettre d'objet dans un sac de capacité $0$.\n",
    ":::\n",
    "\n",
    ":::{admonition} Question\n",
    ":class: note\n",
    "Exprimer $dp[i][j]$ en fonction de $dp[i][j-1]$ dans le cas où $w_j > i$.\n",
    ":::\n",
    "\n",
    ":::{dropdown} Solution\n",
    ":animate: fade-in\n",
    "$dp[i][j] = dp[i][j-1]$ : on ne peut pas mettre l'objet $j$ dans le sac de capacité $i$.\n",
    ":::\n",
    "\n",
    ":::{admonition} Question\n",
    ":class: note\n",
    "Supposons $w_j \\leq i$. Donner une formule de récurrence sur $dp[i][j]$, en distinguant le cas où l'objet $j$ est choisi et le cas où il ne l'est pas.\n",
    ":::\n",
    "\n",
    ":::{dropdown} Solution\n",
    ":animate: fade-in\n",
    "$$dp[i][j] = \\max(\\underbrace{dp[i][j - 1]}_{\\text{sans prendre } o_j}, \\underbrace{dp[i - w_j][j - 1] + v_j}_{\\substack{\\text{en prenant } o_j}, \\text{si }i - w_j \\geq 0})$$\n",
    ":::\n",
    "\n",
    ":::{admonition} Question\n",
    ":class: note\n",
    "En déduire une fonction `prog_dyn(c, w, v)` qui renvoie la valeur maximum que l'on peut mettre dans un sac de capacité $c$, en ne considérant que les $j$ premiers objets, en remplissant une matrice `dp` de taille $(c+1) \\times (n+1)$.\n",
    ":::"
   ]
  },
  {
   "cell_type": "code",
   "execution_count": 16,
   "id": "787eb1aa",
   "metadata": {
    "tags": [
     "hide-cell"
    ]
   },
   "outputs": [],
   "source": [
    "def prog_dyn(c, w, v):\n",
    "    n = len(w)\n",
    "    dp = [[0 for j in range(c+1)] for i in range(n+1)]\n",
    "    for i in range(1, n+1):\n",
    "        for j in range(1, c+1):\n",
    "            if j < w[i-1]:\n",
    "                dp[i][j] = dp[i-1][j]\n",
    "            else:\n",
    "                dp[i][j] = max(dp[i-1][j], dp[i-1][j-w[i-1]] + v[i-1])\n",
    "    return dp[n][c]"
   ]
  },
  {
   "cell_type": "code",
   "execution_count": 17,
   "id": "68ed0f74",
   "metadata": {},
   "outputs": [
    {
     "data": {
      "text/plain": [
       "8"
      ]
     },
     "execution_count": 17,
     "metadata": {},
     "output_type": "execute_result"
    }
   ],
   "source": [
    "prog_dyn(10, [5, 4, 7], [4, 4, 6])"
   ]
  },
  {
   "cell_type": "markdown",
   "id": "46e42764",
   "metadata": {},
   "source": [
    "---\n",
    "## Comparaison\n",
    "\n",
    ":::{admonition} Question\n",
    ":class: note\n",
    "Écrire une fonction `genere_instance()` qui renvoie un triplet $(c, w, v)$, où $c$ est un entier aléatoire entre 1 et 1000 et $w$, $v$ sont des listes de 100 entiers aléatoires entre 1 et 100.  \n",
    "On importera `random` pour utiliser `random.randint(a, b)` qui génère un entier aléatoire entre $a$ et $b$ inclus.\n",
    ":::"
   ]
  },
  {
   "cell_type": "code",
   "execution_count": 18,
   "id": "26185096",
   "metadata": {
    "tags": [
     "hide-cell"
    ]
   },
   "outputs": [],
   "source": [
    "import random\n",
    "\n",
    "def genere_instance():\n",
    "    c = random.randint(1, 1000)\n",
    "    w = [random.randint(1, 100) for i in range(100)]\n",
    "    v = [random.randint(1, 100) for i in range(100)]\n",
    "    return c, w, v"
   ]
  },
  {
   "cell_type": "markdown",
   "id": "18f77388",
   "metadata": {},
   "source": [
    ":::{admonition} Question\n",
    ":class: note\n",
    "Afficher, pour chaque stratégie gloutonne (ordre de poids, ordre de valeur, ordre de ratio), l'erreur commise par rapport à la solution optimale, en moyennant sur 100 instances générées par `genere_instance()`.  \n",
    "Quelle stratégie gloutonne est la plus efficace ?\n",
    ":::"
   ]
  },
  {
   "cell_type": "code",
   "execution_count": 19,
   "id": "dc9530d9",
   "metadata": {
    "tags": [
     "hide-cell"
    ]
   },
   "outputs": [
    {
     "name": "stdout",
     "output_type": "stream",
     "text": [
      "Glouton poids : 0.8486582865943006\n",
      "Glouton valeur : 0.6309671024917409\n",
      "Glouton ratio : 0.9963960559290668\n"
     ]
    }
   ],
   "source": [
    "gp, gv, gr = 0, 0, 0\n",
    "for i in range(100):\n",
    "    c, w, v = genere_instance()\n",
    "    sol = prog_dyn(c, w, v)\n",
    "    gp += glouton_poids(c, w, v)/sol\n",
    "    gv += glouton_valeur(c, w, v)/sol\n",
    "    gr += glouton_ratio(c, w, v)/sol\n",
    "print(f\"Glouton poids : {gp/100}\")\n",
    "print(f\"Glouton valeur : {gv/100}\")\n",
    "print(f\"Glouton ratio : {gr/100}\")"
   ]
  },
  {
   "cell_type": "markdown",
   "id": "e960aeb6",
   "metadata": {},
   "source": [
    ":::{admonition} Question\n",
    ":class: note\n",
    "Comparer le temps total d'exécution de la stratégie gloutonne par ratio et de la programmation dynamique, sur 100 instances générées par `genere_instance()`. On pourra importer `time` et utiliser `time.time()` pour obtenir le temps actuel en secondes.\n",
    ":::"
   ]
  },
  {
   "cell_type": "code",
   "execution_count": 20,
   "id": "c48fb67f",
   "metadata": {
    "tags": [
     "hide-cell"
    ]
   },
   "outputs": [
    {
     "name": "stdout",
     "output_type": "stream",
     "text": [
      "Glouton poids : 0.004529714584350586 s\n",
      "Programmation dynamique : 2.044468402862549 s\n"
     ]
    }
   ],
   "source": [
    "import time\n",
    "\n",
    "t1, t2 = 0, 0\n",
    "for i in range(100):\n",
    "    c, w, v = genere_instance()\n",
    "    t = time.time()\n",
    "    glouton_poids(c, w, v)\n",
    "    t1 += time.time() - t\n",
    "    t = time.time()\n",
    "    prog_dyn(c, w, v)\n",
    "    t2 += time.time() - t\n",
    "print(f\"Glouton poids : {t1} s\")\n",
    "print(f\"Programmation dynamique : {t2} s\")"
   ]
  },
  {
   "cell_type": "markdown",
   "id": "367a09ec",
   "metadata": {},
   "source": [
    "---\n",
    "## Obtenir la liste des objets choisis\n",
    "\n",
    ":::{admonition} Question\n",
    ":class: note\n",
    "Réécrire la fonction `prog_dyn(c, w, v)` pour qu'elle renvoie la liste des objets choisis. Pour cela, on peut construire la matrice `dp` et remarquer que :  \n",
    "- si $dp[i][j] = dp[i][j-1]$, alors l'objet $j$ n'est pas choisi ;\n",
    "- si $dp[i][j] = dp[i - w_j][j - 1] + v_j$, alors l'objet $j$ est choisi.  \n",
    "On peut donc construire la liste des objets choisis en remontant la matrice `dp` à partir de la case $(c, n)$.\n",
    ":::"
   ]
  },
  {
   "cell_type": "code",
   "execution_count": 21,
   "id": "1cc198ec",
   "metadata": {
    "tags": [
     "hide-cell"
    ]
   },
   "outputs": [],
   "source": [
    "def prog_dyn(c, w, v):\n",
    "    n = len(w)\n",
    "    dp = [[0 for j in range(c+1)] for i in range(n+1)]\n",
    "    for i in range(1, n+1):\n",
    "        for j in range(1, c+1):\n",
    "            if j < w[i-1]:\n",
    "                dp[i][j] = dp[i-1][j]\n",
    "            else:\n",
    "                dp[i][j] = max(dp[i-1][j], dp[i-1][j-w[i-1]] + v[i-1])\n",
    "\n",
    "    # reconstruction de la solution\n",
    "    i, j = n, c\n",
    "    sol = []\n",
    "    while i > 0 and j > 0:\n",
    "        if dp[i][j] == dp[i-1][j]:\n",
    "            i -= 1\n",
    "        else:\n",
    "            sol.append(i-1)\n",
    "            j -= w[i-1]\n",
    "            i -= 1\n",
    "    return sol"
   ]
  },
  {
   "cell_type": "code",
   "execution_count": 22,
   "id": "144f4f7c",
   "metadata": {},
   "outputs": [
    {
     "data": {
      "text/plain": [
       "[1, 0]"
      ]
     },
     "execution_count": 22,
     "metadata": {},
     "output_type": "execute_result"
    }
   ],
   "source": [
    "prog_dyn(10, [5, 4, 7], [4, 4, 6])\n",
    "# la solution optimale consiste à choisir les objets 1 et 0"
   ]
  }
 ],
 "metadata": {
  "jupytext": {
   "text_representation": {
    "extension": ".md",
    "format_name": "myst",
    "format_version": 0.13,
    "jupytext_version": "1.16.4"
   }
  },
  "kernelspec": {
   "display_name": "Python 3 (ipykernel)",
   "language": "python",
   "name": "python3"
  },
  "language_info": {
   "codemirror_mode": {
    "name": "ipython",
    "version": 3
   },
   "file_extension": ".py",
   "mimetype": "text/x-python",
   "name": "python",
   "nbconvert_exporter": "python",
   "pygments_lexer": "ipython3",
   "version": "3.12.3"
  },
  "source_map": [
   12,
   30,
   56,
   72,
   74,
   82,
   91,
   93,
   100,
   110,
   112,
   116,
   120,
   126,
   133,
   135,
   146,
   153,
   155,
   161,
   174,
   176,
   182,
   197,
   199,
   244,
   258,
   260,
   271,
   281,
   289,
   302,
   309,
   325,
   337,
   361
  ]
 },
 "nbformat": 4,
 "nbformat_minor": 5
}