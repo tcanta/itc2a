{
 "cells": [
  {
   "cell_type": "code",
   "execution_count": 1,
   "metadata": {},
   "outputs": [],
   "source": [
    "m1 = [[9,9,4],[6,6,8],[2,1,1]]\n",
    "m2 = [[3,4,5],[3,2,6],[2,2,1]]\n",
    "\n",
    "\n",
    "def lip(mat, i, j, d):\n",
    "    current = mat[i][j]\n",
    "    bn = [0,0,0,0] #better neighbours\n",
    "    left = right = top = bottom = True\n",
    "\n",
    "    if i <= 0:\n",
    "        top = False\n",
    "    if i >= len(mat)-1:\n",
    "        bottom = False\n",
    "    if j <= 0:\n",
    "        left = False\n",
    "    if j >= len(mat[0])-1:\n",
    "        right = False\n",
    "\n",
    "    if top:\n",
    "        if mat[i-1][j]>current:\n",
    "            if d[i-1][j] == 0:\n",
    "                d[i-1][j] = lip(mat,i-1,j, d)\n",
    "            bn[0] = d[i-1][j]\n",
    "    if bottom:\n",
    "        if mat[i+1][j]>current:\n",
    "            if d[i+1][j] == 0:\n",
    "                d[i+1][j] = lip(mat,i+1,j, d)\n",
    "            bn[1] = d[i+1][j]\n",
    "    if left:\n",
    "        if mat[i][j-1]>current:\n",
    "            if d[i][j-1] == 0:\n",
    "                d[i][j-1] = lip(mat,i,j-1, d)\n",
    "            bn[2] = d[i][j-1]\n",
    "    if right:\n",
    "        if mat[i][j+1]>current:\n",
    "            if d[i][j+1] == 0:\n",
    "                d[i][j+1] = lip(mat,i,j+1, d)\n",
    "            bn[3] = d[i][j+1]\n",
    "    \n",
    "    if d[i][j] == 0:\n",
    "        d[i][j] = 1 + max(bn[0] ,bn[1], bn[2], bn[3])\n",
    "    return 1 + max(bn[0] ,bn[1], bn[2], bn[3])\n",
    "\n",
    "def longestIncreasingPath(mat):\n",
    "    d = [[0]*len(mat[0]) for _ in range(len(mat))]\n",
    "    max_coords=(0,0)\n",
    "    maxi = 0\n",
    "    for i in range(len(mat)):\n",
    "        for j in range(len(mat[0])):\n",
    "            if lip(mat, i, j, d) > maxi:\n",
    "                max_coords = (i,j)\n",
    "                maxi = lip(mat, i, j, d)\n",
    "    return maxi, max_coords, d\n"
   ]
  },
  {
   "cell_type": "code",
   "execution_count": 2,
   "metadata": {},
   "outputs": [
    {
     "data": {
      "text/plain": [
       "(4, (2, 1), [[1, 1, 2], [2, 2, 1], [3, 4, 2]])"
      ]
     },
     "execution_count": 2,
     "metadata": {},
     "output_type": "execute_result"
    }
   ],
   "source": [
    "longestIncreasingPath(m1)"
   ]
  },
  {
   "cell_type": "code",
   "execution_count": 3,
   "metadata": {},
   "outputs": [
    {
     "data": {
      "text/plain": [
       "(4, (0, 0), [[4, 3, 2], [1, 4, 1], [2, 1, 2]])"
      ]
     },
     "execution_count": 3,
     "metadata": {},
     "output_type": "execute_result"
    }
   ],
   "source": [
    "longestIncreasingPath(m2)"
   ]
  },
  {
   "cell_type": "code",
   "execution_count": null,
   "metadata": {},
   "outputs": [],
   "source": []
  },
  {
   "cell_type": "code",
   "execution_count": null,
   "metadata": {},
   "outputs": [],
   "source": []
  }
 ],
 "metadata": {
  "kernelspec": {
   "display_name": "Python 3 (ipykernel)",
   "language": "python",
   "name": "python3"
  },
  "language_info": {
   "codemirror_mode": {
    "name": "ipython",
    "version": 3
   },
   "file_extension": ".py",
   "mimetype": "text/x-python",
   "name": "python",
   "nbconvert_exporter": "python",
   "pygments_lexer": "ipython3",
   "version": "3.12.3"
  }
 },
 "nbformat": 4,
 "nbformat_minor": 4
}